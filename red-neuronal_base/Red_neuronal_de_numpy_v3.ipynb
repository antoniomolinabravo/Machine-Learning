{
  "nbformat": 4,
  "nbformat_minor": 0,
  "metadata": {
    "colab": {
      "provenance": []
    },
    "kernelspec": {
      "name": "python3",
      "display_name": "Python 3"
    },
    "language_info": {
      "name": "python"
    },
    "widgets": {
      "application/vnd.jupyter.widget-state+json": {
        "51de9acb918543b39966902cf7ccb5bc": {
          "model_module": "@jupyter-widgets/controls",
          "model_name": "HBoxModel",
          "model_module_version": "1.5.0",
          "state": {
            "_dom_classes": [],
            "_model_module": "@jupyter-widgets/controls",
            "_model_module_version": "1.5.0",
            "_model_name": "HBoxModel",
            "_view_count": null,
            "_view_module": "@jupyter-widgets/controls",
            "_view_module_version": "1.5.0",
            "_view_name": "HBoxView",
            "box_style": "",
            "children": [
              "IPY_MODEL_7494a2cf6d0548389748b0f6f1d3e4f8",
              "IPY_MODEL_f6fd1eb4e9b4496694cd90da7115fa25",
              "IPY_MODEL_1152457c7e3b4ae4ba0884b3effdce1f",
              "IPY_MODEL_9f76b381baba4c9db93514e63f1aa970"
            ],
            "layout": "IPY_MODEL_6d2009cbcf3f447daf91c2b0ba6adc95"
          }
        },
        "7494a2cf6d0548389748b0f6f1d3e4f8": {
          "model_module": "@jupyter-widgets/controls",
          "model_name": "VBoxModel",
          "model_module_version": "1.5.0",
          "state": {
            "_dom_classes": [],
            "_model_module": "@jupyter-widgets/controls",
            "_model_module_version": "1.5.0",
            "_model_name": "VBoxModel",
            "_view_count": null,
            "_view_module": "@jupyter-widgets/controls",
            "_view_module_version": "1.5.0",
            "_view_name": "VBoxView",
            "box_style": "",
            "children": [
              "IPY_MODEL_abc0bc9b8dc54b02b92c6df4a999d15c",
              "IPY_MODEL_bbf0941c1eed452b8d1147a84f1138a7",
              "IPY_MODEL_df7e226d80e44bb2ac2a17839f8e13e1"
            ],
            "layout": "IPY_MODEL_e166d6afdeac43e49e1c359fac5d8333"
          }
        },
        "f6fd1eb4e9b4496694cd90da7115fa25": {
          "model_module": "@jupyter-widgets/controls",
          "model_name": "VBoxModel",
          "model_module_version": "1.5.0",
          "state": {
            "_dom_classes": [],
            "_model_module": "@jupyter-widgets/controls",
            "_model_module_version": "1.5.0",
            "_model_name": "VBoxModel",
            "_view_count": null,
            "_view_module": "@jupyter-widgets/controls",
            "_view_module_version": "1.5.0",
            "_view_name": "VBoxView",
            "box_style": "",
            "children": [
              "IPY_MODEL_7adcfd8986674802852e1c0b78f935d6",
              "IPY_MODEL_28e25d0e271f4a8698a894f9cc14f2d4",
              "IPY_MODEL_4230f05d7c9e450b98ba11ed97b943c7"
            ],
            "layout": "IPY_MODEL_912e331775ef406c8316ff53ae18ab20"
          }
        },
        "1152457c7e3b4ae4ba0884b3effdce1f": {
          "model_module": "@jupyter-widgets/controls",
          "model_name": "VBoxModel",
          "model_module_version": "1.5.0",
          "state": {
            "_dom_classes": [],
            "_model_module": "@jupyter-widgets/controls",
            "_model_module_version": "1.5.0",
            "_model_name": "VBoxModel",
            "_view_count": null,
            "_view_module": "@jupyter-widgets/controls",
            "_view_module_version": "1.5.0",
            "_view_name": "VBoxView",
            "box_style": "",
            "children": [
              "IPY_MODEL_e13a6ec5cd7e49e585fec362ba3d1957",
              "IPY_MODEL_6822799e3b714851bad1e000ba165193",
              "IPY_MODEL_4516ec61e03d437182a00d429e51ac3a"
            ],
            "layout": "IPY_MODEL_adc6c178ee2445aab868f4d3b9978347"
          }
        },
        "9f76b381baba4c9db93514e63f1aa970": {
          "model_module": "@jupyter-widgets/controls",
          "model_name": "VBoxModel",
          "model_module_version": "1.5.0",
          "state": {
            "_dom_classes": [],
            "_model_module": "@jupyter-widgets/controls",
            "_model_module_version": "1.5.0",
            "_model_name": "VBoxModel",
            "_view_count": null,
            "_view_module": "@jupyter-widgets/controls",
            "_view_module_version": "1.5.0",
            "_view_name": "VBoxView",
            "box_style": "",
            "children": [
              "IPY_MODEL_64fc81e7d16c4f39a2038ed54ad00f06",
              "IPY_MODEL_819b59b9e1de45f1b06ba1001bb69b8f",
              "IPY_MODEL_0087e1961b2b4511b1c0ad128b02fd18",
              "IPY_MODEL_08f417a9ee794c7faf5d7ea5cc182bbf"
            ],
            "layout": "IPY_MODEL_5b89004537db4389948c11109771291e"
          }
        },
        "6d2009cbcf3f447daf91c2b0ba6adc95": {
          "model_module": "@jupyter-widgets/base",
          "model_name": "LayoutModel",
          "model_module_version": "1.2.0",
          "state": {
            "_model_module": "@jupyter-widgets/base",
            "_model_module_version": "1.2.0",
            "_model_name": "LayoutModel",
            "_view_count": null,
            "_view_module": "@jupyter-widgets/base",
            "_view_module_version": "1.2.0",
            "_view_name": "LayoutView",
            "align_content": null,
            "align_items": null,
            "align_self": null,
            "border": null,
            "bottom": null,
            "display": null,
            "flex": null,
            "flex_flow": null,
            "grid_area": null,
            "grid_auto_columns": null,
            "grid_auto_flow": null,
            "grid_auto_rows": null,
            "grid_column": null,
            "grid_gap": null,
            "grid_row": null,
            "grid_template_areas": null,
            "grid_template_columns": null,
            "grid_template_rows": null,
            "height": null,
            "justify_content": null,
            "justify_items": null,
            "left": null,
            "margin": null,
            "max_height": null,
            "max_width": null,
            "min_height": null,
            "min_width": null,
            "object_fit": null,
            "object_position": null,
            "order": null,
            "overflow": null,
            "overflow_x": null,
            "overflow_y": null,
            "padding": null,
            "right": null,
            "top": null,
            "visibility": null,
            "width": null
          }
        },
        "abc0bc9b8dc54b02b92c6df4a999d15c": {
          "model_module": "@jupyter-widgets/controls",
          "model_name": "FloatSliderModel",
          "model_module_version": "1.5.0",
          "state": {
            "_dom_classes": [],
            "_model_module": "@jupyter-widgets/controls",
            "_model_module_version": "1.5.0",
            "_model_name": "FloatSliderModel",
            "_view_count": null,
            "_view_module": "@jupyter-widgets/controls",
            "_view_module_version": "1.5.0",
            "_view_name": "FloatSliderView",
            "continuous_update": false,
            "description": "",
            "description_tooltip": null,
            "disabled": false,
            "layout": "IPY_MODEL_994ccd7eadbb48ad807a411af6dd3763",
            "max": 20,
            "min": -20,
            "orientation": "horizontal",
            "readout": true,
            "readout_format": ".2f",
            "step": 0.01,
            "style": "IPY_MODEL_2137f5278b2747e5a11a036c3e69062a",
            "value": 6.7
          }
        },
        "bbf0941c1eed452b8d1147a84f1138a7": {
          "model_module": "@jupyter-widgets/controls",
          "model_name": "FloatSliderModel",
          "model_module_version": "1.5.0",
          "state": {
            "_dom_classes": [],
            "_model_module": "@jupyter-widgets/controls",
            "_model_module_version": "1.5.0",
            "_model_name": "FloatSliderModel",
            "_view_count": null,
            "_view_module": "@jupyter-widgets/controls",
            "_view_module_version": "1.5.0",
            "_view_name": "FloatSliderView",
            "continuous_update": false,
            "description": "",
            "description_tooltip": null,
            "disabled": false,
            "layout": "IPY_MODEL_a19efea6b7c6449d9202bac29f3455a4",
            "max": 20,
            "min": -20,
            "orientation": "horizontal",
            "readout": true,
            "readout_format": ".2f",
            "step": 0.01,
            "style": "IPY_MODEL_938acb2c364e450bacf0a328f1db3263",
            "value": 0.45
          }
        },
        "df7e226d80e44bb2ac2a17839f8e13e1": {
          "model_module": "@jupyter-widgets/controls",
          "model_name": "FloatSliderModel",
          "model_module_version": "1.5.0",
          "state": {
            "_dom_classes": [],
            "_model_module": "@jupyter-widgets/controls",
            "_model_module_version": "1.5.0",
            "_model_name": "FloatSliderModel",
            "_view_count": null,
            "_view_module": "@jupyter-widgets/controls",
            "_view_module_version": "1.5.0",
            "_view_name": "FloatSliderView",
            "continuous_update": false,
            "description": "",
            "description_tooltip": null,
            "disabled": false,
            "layout": "IPY_MODEL_e8f644f9136b424bbddf265f7ddfeb3c",
            "max": 20,
            "min": -20,
            "orientation": "horizontal",
            "readout": true,
            "readout_format": ".2f",
            "step": 0.01,
            "style": "IPY_MODEL_e1c8999384dd474998ac93a839cc6d68",
            "value": 2.71
          }
        },
        "e166d6afdeac43e49e1c359fac5d8333": {
          "model_module": "@jupyter-widgets/base",
          "model_name": "LayoutModel",
          "model_module_version": "1.2.0",
          "state": {
            "_model_module": "@jupyter-widgets/base",
            "_model_module_version": "1.2.0",
            "_model_name": "LayoutModel",
            "_view_count": null,
            "_view_module": "@jupyter-widgets/base",
            "_view_module_version": "1.2.0",
            "_view_name": "LayoutView",
            "align_content": null,
            "align_items": null,
            "align_self": null,
            "border": null,
            "bottom": null,
            "display": null,
            "flex": null,
            "flex_flow": null,
            "grid_area": null,
            "grid_auto_columns": null,
            "grid_auto_flow": null,
            "grid_auto_rows": null,
            "grid_column": null,
            "grid_gap": null,
            "grid_row": null,
            "grid_template_areas": null,
            "grid_template_columns": null,
            "grid_template_rows": null,
            "height": null,
            "justify_content": null,
            "justify_items": null,
            "left": null,
            "margin": null,
            "max_height": null,
            "max_width": null,
            "min_height": null,
            "min_width": null,
            "object_fit": null,
            "object_position": null,
            "order": null,
            "overflow": null,
            "overflow_x": null,
            "overflow_y": null,
            "padding": null,
            "right": null,
            "top": null,
            "visibility": null,
            "width": null
          }
        },
        "7adcfd8986674802852e1c0b78f935d6": {
          "model_module": "@jupyter-widgets/controls",
          "model_name": "FloatSliderModel",
          "model_module_version": "1.5.0",
          "state": {
            "_dom_classes": [],
            "_model_module": "@jupyter-widgets/controls",
            "_model_module_version": "1.5.0",
            "_model_name": "FloatSliderModel",
            "_view_count": null,
            "_view_module": "@jupyter-widgets/controls",
            "_view_module_version": "1.5.0",
            "_view_name": "FloatSliderView",
            "continuous_update": false,
            "description": "",
            "description_tooltip": null,
            "disabled": false,
            "layout": "IPY_MODEL_9f4c86dfc0a340d79925267a1b7fbce7",
            "max": 20,
            "min": -20,
            "orientation": "horizontal",
            "readout": true,
            "readout_format": ".2f",
            "step": 0.01,
            "style": "IPY_MODEL_37162c511fc140958a2d4c18b36b8e4c",
            "value": 4.22
          }
        },
        "28e25d0e271f4a8698a894f9cc14f2d4": {
          "model_module": "@jupyter-widgets/controls",
          "model_name": "FloatSliderModel",
          "model_module_version": "1.5.0",
          "state": {
            "_dom_classes": [],
            "_model_module": "@jupyter-widgets/controls",
            "_model_module_version": "1.5.0",
            "_model_name": "FloatSliderModel",
            "_view_count": null,
            "_view_module": "@jupyter-widgets/controls",
            "_view_module_version": "1.5.0",
            "_view_name": "FloatSliderView",
            "continuous_update": false,
            "description": "",
            "description_tooltip": null,
            "disabled": false,
            "layout": "IPY_MODEL_139a939972b84755afcd9f802ad4dbe0",
            "max": 20,
            "min": -20,
            "orientation": "horizontal",
            "readout": true,
            "readout_format": ".2f",
            "step": 0.01,
            "style": "IPY_MODEL_3a0f42eac62a474c901b2aa997275554",
            "value": 4.5
          }
        },
        "4230f05d7c9e450b98ba11ed97b943c7": {
          "model_module": "@jupyter-widgets/controls",
          "model_name": "FloatSliderModel",
          "model_module_version": "1.5.0",
          "state": {
            "_dom_classes": [],
            "_model_module": "@jupyter-widgets/controls",
            "_model_module_version": "1.5.0",
            "_model_name": "FloatSliderModel",
            "_view_count": null,
            "_view_module": "@jupyter-widgets/controls",
            "_view_module_version": "1.5.0",
            "_view_name": "FloatSliderView",
            "continuous_update": false,
            "description": "",
            "description_tooltip": null,
            "disabled": false,
            "layout": "IPY_MODEL_0600857dc9964043a6e4ad76837196f4",
            "max": 20,
            "min": -20,
            "orientation": "horizontal",
            "readout": true,
            "readout_format": ".2f",
            "step": 0.01,
            "style": "IPY_MODEL_42194fe773c34bfe8453f76b581153bc",
            "value": -4.44
          }
        },
        "912e331775ef406c8316ff53ae18ab20": {
          "model_module": "@jupyter-widgets/base",
          "model_name": "LayoutModel",
          "model_module_version": "1.2.0",
          "state": {
            "_model_module": "@jupyter-widgets/base",
            "_model_module_version": "1.2.0",
            "_model_name": "LayoutModel",
            "_view_count": null,
            "_view_module": "@jupyter-widgets/base",
            "_view_module_version": "1.2.0",
            "_view_name": "LayoutView",
            "align_content": null,
            "align_items": null,
            "align_self": null,
            "border": null,
            "bottom": null,
            "display": null,
            "flex": null,
            "flex_flow": null,
            "grid_area": null,
            "grid_auto_columns": null,
            "grid_auto_flow": null,
            "grid_auto_rows": null,
            "grid_column": null,
            "grid_gap": null,
            "grid_row": null,
            "grid_template_areas": null,
            "grid_template_columns": null,
            "grid_template_rows": null,
            "height": null,
            "justify_content": null,
            "justify_items": null,
            "left": null,
            "margin": null,
            "max_height": null,
            "max_width": null,
            "min_height": null,
            "min_width": null,
            "object_fit": null,
            "object_position": null,
            "order": null,
            "overflow": null,
            "overflow_x": null,
            "overflow_y": null,
            "padding": null,
            "right": null,
            "top": null,
            "visibility": null,
            "width": null
          }
        },
        "e13a6ec5cd7e49e585fec362ba3d1957": {
          "model_module": "@jupyter-widgets/controls",
          "model_name": "FloatSliderModel",
          "model_module_version": "1.5.0",
          "state": {
            "_dom_classes": [],
            "_model_module": "@jupyter-widgets/controls",
            "_model_module_version": "1.5.0",
            "_model_name": "FloatSliderModel",
            "_view_count": null,
            "_view_module": "@jupyter-widgets/controls",
            "_view_module_version": "1.5.0",
            "_view_name": "FloatSliderView",
            "continuous_update": false,
            "description": "",
            "description_tooltip": null,
            "disabled": false,
            "layout": "IPY_MODEL_8bed17397a0c44fd92f3d3363f2abede",
            "max": 20,
            "min": -20,
            "orientation": "horizontal",
            "readout": true,
            "readout_format": ".2f",
            "step": 0.01,
            "style": "IPY_MODEL_2b01eda3aa034426b612de4f68a73ac8",
            "value": 4.77
          }
        },
        "6822799e3b714851bad1e000ba165193": {
          "model_module": "@jupyter-widgets/controls",
          "model_name": "FloatSliderModel",
          "model_module_version": "1.5.0",
          "state": {
            "_dom_classes": [],
            "_model_module": "@jupyter-widgets/controls",
            "_model_module_version": "1.5.0",
            "_model_name": "FloatSliderModel",
            "_view_count": null,
            "_view_module": "@jupyter-widgets/controls",
            "_view_module_version": "1.5.0",
            "_view_name": "FloatSliderView",
            "continuous_update": false,
            "description": "",
            "description_tooltip": null,
            "disabled": false,
            "layout": "IPY_MODEL_6c2e54b69466427285245717b5d3e4ac",
            "max": 20,
            "min": -20,
            "orientation": "horizontal",
            "readout": true,
            "readout_format": ".2f",
            "step": 0.01,
            "style": "IPY_MODEL_0878bf8e4ef54bb98317dcec9a8080ab",
            "value": -3.65
          }
        },
        "4516ec61e03d437182a00d429e51ac3a": {
          "model_module": "@jupyter-widgets/controls",
          "model_name": "FloatSliderModel",
          "model_module_version": "1.5.0",
          "state": {
            "_dom_classes": [],
            "_model_module": "@jupyter-widgets/controls",
            "_model_module_version": "1.5.0",
            "_model_name": "FloatSliderModel",
            "_view_count": null,
            "_view_module": "@jupyter-widgets/controls",
            "_view_module_version": "1.5.0",
            "_view_name": "FloatSliderView",
            "continuous_update": false,
            "description": "",
            "description_tooltip": null,
            "disabled": false,
            "layout": "IPY_MODEL_8a56ff8b94a742198afa0b3fbb8fbc41",
            "max": 20,
            "min": -20,
            "orientation": "horizontal",
            "readout": true,
            "readout_format": ".2f",
            "step": 0.01,
            "style": "IPY_MODEL_bbefafa4e43c45a99aaed32d14206a89",
            "value": -3.93
          }
        },
        "adc6c178ee2445aab868f4d3b9978347": {
          "model_module": "@jupyter-widgets/base",
          "model_name": "LayoutModel",
          "model_module_version": "1.2.0",
          "state": {
            "_model_module": "@jupyter-widgets/base",
            "_model_module_version": "1.2.0",
            "_model_name": "LayoutModel",
            "_view_count": null,
            "_view_module": "@jupyter-widgets/base",
            "_view_module_version": "1.2.0",
            "_view_name": "LayoutView",
            "align_content": null,
            "align_items": null,
            "align_self": null,
            "border": null,
            "bottom": null,
            "display": null,
            "flex": null,
            "flex_flow": null,
            "grid_area": null,
            "grid_auto_columns": null,
            "grid_auto_flow": null,
            "grid_auto_rows": null,
            "grid_column": null,
            "grid_gap": null,
            "grid_row": null,
            "grid_template_areas": null,
            "grid_template_columns": null,
            "grid_template_rows": null,
            "height": null,
            "justify_content": null,
            "justify_items": null,
            "left": null,
            "margin": null,
            "max_height": null,
            "max_width": null,
            "min_height": null,
            "min_width": null,
            "object_fit": null,
            "object_position": null,
            "order": null,
            "overflow": null,
            "overflow_x": null,
            "overflow_y": null,
            "padding": null,
            "right": null,
            "top": null,
            "visibility": null,
            "width": null
          }
        },
        "64fc81e7d16c4f39a2038ed54ad00f06": {
          "model_module": "@jupyter-widgets/controls",
          "model_name": "FloatSliderModel",
          "model_module_version": "1.5.0",
          "state": {
            "_dom_classes": [],
            "_model_module": "@jupyter-widgets/controls",
            "_model_module_version": "1.5.0",
            "_model_name": "FloatSliderModel",
            "_view_count": null,
            "_view_module": "@jupyter-widgets/controls",
            "_view_module_version": "1.5.0",
            "_view_name": "FloatSliderView",
            "continuous_update": false,
            "description": "",
            "description_tooltip": null,
            "disabled": false,
            "layout": "IPY_MODEL_b42217bfb7694ff0ba772abe1f203b6d",
            "max": 20,
            "min": -20,
            "orientation": "horizontal",
            "readout": true,
            "readout_format": ".2f",
            "step": 0.01,
            "style": "IPY_MODEL_6189a11c6a2242d8967dbef25c07c694",
            "value": 14.3519784
          }
        },
        "819b59b9e1de45f1b06ba1001bb69b8f": {
          "model_module": "@jupyter-widgets/controls",
          "model_name": "FloatSliderModel",
          "model_module_version": "1.5.0",
          "state": {
            "_dom_classes": [],
            "_model_module": "@jupyter-widgets/controls",
            "_model_module_version": "1.5.0",
            "_model_name": "FloatSliderModel",
            "_view_count": null,
            "_view_module": "@jupyter-widgets/controls",
            "_view_module_version": "1.5.0",
            "_view_name": "FloatSliderView",
            "continuous_update": false,
            "description": "",
            "description_tooltip": null,
            "disabled": false,
            "layout": "IPY_MODEL_771d47d45fb74687bc65776e7fb0fc37",
            "max": 20,
            "min": -20,
            "orientation": "horizontal",
            "readout": true,
            "readout_format": ".2f",
            "step": 0.01,
            "style": "IPY_MODEL_fbcd0718325c4177850e93beea4b607b",
            "value": -18.93268329
          }
        },
        "0087e1961b2b4511b1c0ad128b02fd18": {
          "model_module": "@jupyter-widgets/controls",
          "model_name": "FloatSliderModel",
          "model_module_version": "1.5.0",
          "state": {
            "_dom_classes": [],
            "_model_module": "@jupyter-widgets/controls",
            "_model_module_version": "1.5.0",
            "_model_name": "FloatSliderModel",
            "_view_count": null,
            "_view_module": "@jupyter-widgets/controls",
            "_view_module_version": "1.5.0",
            "_view_name": "FloatSliderView",
            "continuous_update": false,
            "description": "",
            "description_tooltip": null,
            "disabled": false,
            "layout": "IPY_MODEL_bcd9bc9daeab4560b67dead56bba6ff2",
            "max": 20,
            "min": -20,
            "orientation": "horizontal",
            "readout": true,
            "readout_format": ".2f",
            "step": 0.01,
            "style": "IPY_MODEL_0e488cac248a4fecbabd3424433b90ca",
            "value": -17.98428509
          }
        },
        "08f417a9ee794c7faf5d7ea5cc182bbf": {
          "model_module": "@jupyter-widgets/controls",
          "model_name": "FloatSliderModel",
          "model_module_version": "1.5.0",
          "state": {
            "_dom_classes": [],
            "_model_module": "@jupyter-widgets/controls",
            "_model_module_version": "1.5.0",
            "_model_name": "FloatSliderModel",
            "_view_count": null,
            "_view_module": "@jupyter-widgets/controls",
            "_view_module_version": "1.5.0",
            "_view_name": "FloatSliderView",
            "continuous_update": false,
            "description": "",
            "description_tooltip": null,
            "disabled": false,
            "layout": "IPY_MODEL_d7d8f1ffc94146c88a1cc9c4a29e5a68",
            "max": 20,
            "min": -20,
            "orientation": "horizontal",
            "readout": true,
            "readout_format": ".2f",
            "step": 0.01,
            "style": "IPY_MODEL_ff41a4d2782746f5b5f5049045704178",
            "value": -2.53003652
          }
        },
        "5b89004537db4389948c11109771291e": {
          "model_module": "@jupyter-widgets/base",
          "model_name": "LayoutModel",
          "model_module_version": "1.2.0",
          "state": {
            "_model_module": "@jupyter-widgets/base",
            "_model_module_version": "1.2.0",
            "_model_name": "LayoutModel",
            "_view_count": null,
            "_view_module": "@jupyter-widgets/base",
            "_view_module_version": "1.2.0",
            "_view_name": "LayoutView",
            "align_content": null,
            "align_items": null,
            "align_self": null,
            "border": null,
            "bottom": null,
            "display": null,
            "flex": null,
            "flex_flow": null,
            "grid_area": null,
            "grid_auto_columns": null,
            "grid_auto_flow": null,
            "grid_auto_rows": null,
            "grid_column": null,
            "grid_gap": null,
            "grid_row": null,
            "grid_template_areas": null,
            "grid_template_columns": null,
            "grid_template_rows": null,
            "height": null,
            "justify_content": null,
            "justify_items": null,
            "left": null,
            "margin": null,
            "max_height": null,
            "max_width": null,
            "min_height": null,
            "min_width": null,
            "object_fit": null,
            "object_position": null,
            "order": null,
            "overflow": null,
            "overflow_x": null,
            "overflow_y": null,
            "padding": null,
            "right": null,
            "top": null,
            "visibility": null,
            "width": null
          }
        },
        "994ccd7eadbb48ad807a411af6dd3763": {
          "model_module": "@jupyter-widgets/base",
          "model_name": "LayoutModel",
          "model_module_version": "1.2.0",
          "state": {
            "_model_module": "@jupyter-widgets/base",
            "_model_module_version": "1.2.0",
            "_model_name": "LayoutModel",
            "_view_count": null,
            "_view_module": "@jupyter-widgets/base",
            "_view_module_version": "1.2.0",
            "_view_name": "LayoutView",
            "align_content": null,
            "align_items": null,
            "align_self": null,
            "border": null,
            "bottom": null,
            "display": null,
            "flex": null,
            "flex_flow": null,
            "grid_area": null,
            "grid_auto_columns": null,
            "grid_auto_flow": null,
            "grid_auto_rows": null,
            "grid_column": null,
            "grid_gap": null,
            "grid_row": null,
            "grid_template_areas": null,
            "grid_template_columns": null,
            "grid_template_rows": null,
            "height": null,
            "justify_content": null,
            "justify_items": null,
            "left": null,
            "margin": null,
            "max_height": null,
            "max_width": null,
            "min_height": null,
            "min_width": null,
            "object_fit": null,
            "object_position": null,
            "order": null,
            "overflow": null,
            "overflow_x": null,
            "overflow_y": null,
            "padding": null,
            "right": null,
            "top": null,
            "visibility": null,
            "width": "70%"
          }
        },
        "2137f5278b2747e5a11a036c3e69062a": {
          "model_module": "@jupyter-widgets/controls",
          "model_name": "SliderStyleModel",
          "model_module_version": "1.5.0",
          "state": {
            "_model_module": "@jupyter-widgets/controls",
            "_model_module_version": "1.5.0",
            "_model_name": "SliderStyleModel",
            "_view_count": null,
            "_view_module": "@jupyter-widgets/base",
            "_view_module_version": "1.2.0",
            "_view_name": "StyleView",
            "description_width": "",
            "handle_color": null
          }
        },
        "a19efea6b7c6449d9202bac29f3455a4": {
          "model_module": "@jupyter-widgets/base",
          "model_name": "LayoutModel",
          "model_module_version": "1.2.0",
          "state": {
            "_model_module": "@jupyter-widgets/base",
            "_model_module_version": "1.2.0",
            "_model_name": "LayoutModel",
            "_view_count": null,
            "_view_module": "@jupyter-widgets/base",
            "_view_module_version": "1.2.0",
            "_view_name": "LayoutView",
            "align_content": null,
            "align_items": null,
            "align_self": null,
            "border": null,
            "bottom": null,
            "display": null,
            "flex": null,
            "flex_flow": null,
            "grid_area": null,
            "grid_auto_columns": null,
            "grid_auto_flow": null,
            "grid_auto_rows": null,
            "grid_column": null,
            "grid_gap": null,
            "grid_row": null,
            "grid_template_areas": null,
            "grid_template_columns": null,
            "grid_template_rows": null,
            "height": null,
            "justify_content": null,
            "justify_items": null,
            "left": null,
            "margin": null,
            "max_height": null,
            "max_width": null,
            "min_height": null,
            "min_width": null,
            "object_fit": null,
            "object_position": null,
            "order": null,
            "overflow": null,
            "overflow_x": null,
            "overflow_y": null,
            "padding": null,
            "right": null,
            "top": null,
            "visibility": null,
            "width": null
          }
        },
        "938acb2c364e450bacf0a328f1db3263": {
          "model_module": "@jupyter-widgets/controls",
          "model_name": "SliderStyleModel",
          "model_module_version": "1.5.0",
          "state": {
            "_model_module": "@jupyter-widgets/controls",
            "_model_module_version": "1.5.0",
            "_model_name": "SliderStyleModel",
            "_view_count": null,
            "_view_module": "@jupyter-widgets/base",
            "_view_module_version": "1.2.0",
            "_view_name": "StyleView",
            "description_width": "",
            "handle_color": null
          }
        },
        "e8f644f9136b424bbddf265f7ddfeb3c": {
          "model_module": "@jupyter-widgets/base",
          "model_name": "LayoutModel",
          "model_module_version": "1.2.0",
          "state": {
            "_model_module": "@jupyter-widgets/base",
            "_model_module_version": "1.2.0",
            "_model_name": "LayoutModel",
            "_view_count": null,
            "_view_module": "@jupyter-widgets/base",
            "_view_module_version": "1.2.0",
            "_view_name": "LayoutView",
            "align_content": null,
            "align_items": null,
            "align_self": null,
            "border": null,
            "bottom": null,
            "display": null,
            "flex": null,
            "flex_flow": null,
            "grid_area": null,
            "grid_auto_columns": null,
            "grid_auto_flow": null,
            "grid_auto_rows": null,
            "grid_column": null,
            "grid_gap": null,
            "grid_row": null,
            "grid_template_areas": null,
            "grid_template_columns": null,
            "grid_template_rows": null,
            "height": null,
            "justify_content": null,
            "justify_items": null,
            "left": null,
            "margin": null,
            "max_height": null,
            "max_width": null,
            "min_height": null,
            "min_width": null,
            "object_fit": null,
            "object_position": null,
            "order": null,
            "overflow": null,
            "overflow_x": null,
            "overflow_y": null,
            "padding": null,
            "right": null,
            "top": null,
            "visibility": null,
            "width": null
          }
        },
        "e1c8999384dd474998ac93a839cc6d68": {
          "model_module": "@jupyter-widgets/controls",
          "model_name": "SliderStyleModel",
          "model_module_version": "1.5.0",
          "state": {
            "_model_module": "@jupyter-widgets/controls",
            "_model_module_version": "1.5.0",
            "_model_name": "SliderStyleModel",
            "_view_count": null,
            "_view_module": "@jupyter-widgets/base",
            "_view_module_version": "1.2.0",
            "_view_name": "StyleView",
            "description_width": "",
            "handle_color": null
          }
        },
        "9f4c86dfc0a340d79925267a1b7fbce7": {
          "model_module": "@jupyter-widgets/base",
          "model_name": "LayoutModel",
          "model_module_version": "1.2.0",
          "state": {
            "_model_module": "@jupyter-widgets/base",
            "_model_module_version": "1.2.0",
            "_model_name": "LayoutModel",
            "_view_count": null,
            "_view_module": "@jupyter-widgets/base",
            "_view_module_version": "1.2.0",
            "_view_name": "LayoutView",
            "align_content": null,
            "align_items": null,
            "align_self": null,
            "border": null,
            "bottom": null,
            "display": null,
            "flex": null,
            "flex_flow": null,
            "grid_area": null,
            "grid_auto_columns": null,
            "grid_auto_flow": null,
            "grid_auto_rows": null,
            "grid_column": null,
            "grid_gap": null,
            "grid_row": null,
            "grid_template_areas": null,
            "grid_template_columns": null,
            "grid_template_rows": null,
            "height": null,
            "justify_content": null,
            "justify_items": null,
            "left": null,
            "margin": null,
            "max_height": null,
            "max_width": null,
            "min_height": null,
            "min_width": null,
            "object_fit": null,
            "object_position": null,
            "order": null,
            "overflow": null,
            "overflow_x": null,
            "overflow_y": null,
            "padding": null,
            "right": null,
            "top": null,
            "visibility": null,
            "width": null
          }
        },
        "37162c511fc140958a2d4c18b36b8e4c": {
          "model_module": "@jupyter-widgets/controls",
          "model_name": "SliderStyleModel",
          "model_module_version": "1.5.0",
          "state": {
            "_model_module": "@jupyter-widgets/controls",
            "_model_module_version": "1.5.0",
            "_model_name": "SliderStyleModel",
            "_view_count": null,
            "_view_module": "@jupyter-widgets/base",
            "_view_module_version": "1.2.0",
            "_view_name": "StyleView",
            "description_width": "",
            "handle_color": null
          }
        },
        "139a939972b84755afcd9f802ad4dbe0": {
          "model_module": "@jupyter-widgets/base",
          "model_name": "LayoutModel",
          "model_module_version": "1.2.0",
          "state": {
            "_model_module": "@jupyter-widgets/base",
            "_model_module_version": "1.2.0",
            "_model_name": "LayoutModel",
            "_view_count": null,
            "_view_module": "@jupyter-widgets/base",
            "_view_module_version": "1.2.0",
            "_view_name": "LayoutView",
            "align_content": null,
            "align_items": null,
            "align_self": null,
            "border": null,
            "bottom": null,
            "display": null,
            "flex": null,
            "flex_flow": null,
            "grid_area": null,
            "grid_auto_columns": null,
            "grid_auto_flow": null,
            "grid_auto_rows": null,
            "grid_column": null,
            "grid_gap": null,
            "grid_row": null,
            "grid_template_areas": null,
            "grid_template_columns": null,
            "grid_template_rows": null,
            "height": null,
            "justify_content": null,
            "justify_items": null,
            "left": null,
            "margin": null,
            "max_height": null,
            "max_width": null,
            "min_height": null,
            "min_width": null,
            "object_fit": null,
            "object_position": null,
            "order": null,
            "overflow": null,
            "overflow_x": null,
            "overflow_y": null,
            "padding": null,
            "right": null,
            "top": null,
            "visibility": null,
            "width": null
          }
        },
        "3a0f42eac62a474c901b2aa997275554": {
          "model_module": "@jupyter-widgets/controls",
          "model_name": "SliderStyleModel",
          "model_module_version": "1.5.0",
          "state": {
            "_model_module": "@jupyter-widgets/controls",
            "_model_module_version": "1.5.0",
            "_model_name": "SliderStyleModel",
            "_view_count": null,
            "_view_module": "@jupyter-widgets/base",
            "_view_module_version": "1.2.0",
            "_view_name": "StyleView",
            "description_width": "",
            "handle_color": null
          }
        },
        "0600857dc9964043a6e4ad76837196f4": {
          "model_module": "@jupyter-widgets/base",
          "model_name": "LayoutModel",
          "model_module_version": "1.2.0",
          "state": {
            "_model_module": "@jupyter-widgets/base",
            "_model_module_version": "1.2.0",
            "_model_name": "LayoutModel",
            "_view_count": null,
            "_view_module": "@jupyter-widgets/base",
            "_view_module_version": "1.2.0",
            "_view_name": "LayoutView",
            "align_content": null,
            "align_items": null,
            "align_self": null,
            "border": null,
            "bottom": null,
            "display": null,
            "flex": null,
            "flex_flow": null,
            "grid_area": null,
            "grid_auto_columns": null,
            "grid_auto_flow": null,
            "grid_auto_rows": null,
            "grid_column": null,
            "grid_gap": null,
            "grid_row": null,
            "grid_template_areas": null,
            "grid_template_columns": null,
            "grid_template_rows": null,
            "height": null,
            "justify_content": null,
            "justify_items": null,
            "left": null,
            "margin": null,
            "max_height": null,
            "max_width": null,
            "min_height": null,
            "min_width": null,
            "object_fit": null,
            "object_position": null,
            "order": null,
            "overflow": null,
            "overflow_x": null,
            "overflow_y": null,
            "padding": null,
            "right": null,
            "top": null,
            "visibility": null,
            "width": null
          }
        },
        "42194fe773c34bfe8453f76b581153bc": {
          "model_module": "@jupyter-widgets/controls",
          "model_name": "SliderStyleModel",
          "model_module_version": "1.5.0",
          "state": {
            "_model_module": "@jupyter-widgets/controls",
            "_model_module_version": "1.5.0",
            "_model_name": "SliderStyleModel",
            "_view_count": null,
            "_view_module": "@jupyter-widgets/base",
            "_view_module_version": "1.2.0",
            "_view_name": "StyleView",
            "description_width": "",
            "handle_color": null
          }
        },
        "8bed17397a0c44fd92f3d3363f2abede": {
          "model_module": "@jupyter-widgets/base",
          "model_name": "LayoutModel",
          "model_module_version": "1.2.0",
          "state": {
            "_model_module": "@jupyter-widgets/base",
            "_model_module_version": "1.2.0",
            "_model_name": "LayoutModel",
            "_view_count": null,
            "_view_module": "@jupyter-widgets/base",
            "_view_module_version": "1.2.0",
            "_view_name": "LayoutView",
            "align_content": null,
            "align_items": null,
            "align_self": null,
            "border": null,
            "bottom": null,
            "display": null,
            "flex": null,
            "flex_flow": null,
            "grid_area": null,
            "grid_auto_columns": null,
            "grid_auto_flow": null,
            "grid_auto_rows": null,
            "grid_column": null,
            "grid_gap": null,
            "grid_row": null,
            "grid_template_areas": null,
            "grid_template_columns": null,
            "grid_template_rows": null,
            "height": null,
            "justify_content": null,
            "justify_items": null,
            "left": null,
            "margin": null,
            "max_height": null,
            "max_width": null,
            "min_height": null,
            "min_width": null,
            "object_fit": null,
            "object_position": null,
            "order": null,
            "overflow": null,
            "overflow_x": null,
            "overflow_y": null,
            "padding": null,
            "right": null,
            "top": null,
            "visibility": null,
            "width": null
          }
        },
        "2b01eda3aa034426b612de4f68a73ac8": {
          "model_module": "@jupyter-widgets/controls",
          "model_name": "SliderStyleModel",
          "model_module_version": "1.5.0",
          "state": {
            "_model_module": "@jupyter-widgets/controls",
            "_model_module_version": "1.5.0",
            "_model_name": "SliderStyleModel",
            "_view_count": null,
            "_view_module": "@jupyter-widgets/base",
            "_view_module_version": "1.2.0",
            "_view_name": "StyleView",
            "description_width": "",
            "handle_color": null
          }
        },
        "6c2e54b69466427285245717b5d3e4ac": {
          "model_module": "@jupyter-widgets/base",
          "model_name": "LayoutModel",
          "model_module_version": "1.2.0",
          "state": {
            "_model_module": "@jupyter-widgets/base",
            "_model_module_version": "1.2.0",
            "_model_name": "LayoutModel",
            "_view_count": null,
            "_view_module": "@jupyter-widgets/base",
            "_view_module_version": "1.2.0",
            "_view_name": "LayoutView",
            "align_content": null,
            "align_items": null,
            "align_self": null,
            "border": null,
            "bottom": null,
            "display": null,
            "flex": null,
            "flex_flow": null,
            "grid_area": null,
            "grid_auto_columns": null,
            "grid_auto_flow": null,
            "grid_auto_rows": null,
            "grid_column": null,
            "grid_gap": null,
            "grid_row": null,
            "grid_template_areas": null,
            "grid_template_columns": null,
            "grid_template_rows": null,
            "height": null,
            "justify_content": null,
            "justify_items": null,
            "left": null,
            "margin": null,
            "max_height": null,
            "max_width": null,
            "min_height": null,
            "min_width": null,
            "object_fit": null,
            "object_position": null,
            "order": null,
            "overflow": null,
            "overflow_x": null,
            "overflow_y": null,
            "padding": null,
            "right": null,
            "top": null,
            "visibility": null,
            "width": null
          }
        },
        "0878bf8e4ef54bb98317dcec9a8080ab": {
          "model_module": "@jupyter-widgets/controls",
          "model_name": "SliderStyleModel",
          "model_module_version": "1.5.0",
          "state": {
            "_model_module": "@jupyter-widgets/controls",
            "_model_module_version": "1.5.0",
            "_model_name": "SliderStyleModel",
            "_view_count": null,
            "_view_module": "@jupyter-widgets/base",
            "_view_module_version": "1.2.0",
            "_view_name": "StyleView",
            "description_width": "",
            "handle_color": null
          }
        },
        "8a56ff8b94a742198afa0b3fbb8fbc41": {
          "model_module": "@jupyter-widgets/base",
          "model_name": "LayoutModel",
          "model_module_version": "1.2.0",
          "state": {
            "_model_module": "@jupyter-widgets/base",
            "_model_module_version": "1.2.0",
            "_model_name": "LayoutModel",
            "_view_count": null,
            "_view_module": "@jupyter-widgets/base",
            "_view_module_version": "1.2.0",
            "_view_name": "LayoutView",
            "align_content": null,
            "align_items": null,
            "align_self": null,
            "border": null,
            "bottom": null,
            "display": null,
            "flex": null,
            "flex_flow": null,
            "grid_area": null,
            "grid_auto_columns": null,
            "grid_auto_flow": null,
            "grid_auto_rows": null,
            "grid_column": null,
            "grid_gap": null,
            "grid_row": null,
            "grid_template_areas": null,
            "grid_template_columns": null,
            "grid_template_rows": null,
            "height": null,
            "justify_content": null,
            "justify_items": null,
            "left": null,
            "margin": null,
            "max_height": null,
            "max_width": null,
            "min_height": null,
            "min_width": null,
            "object_fit": null,
            "object_position": null,
            "order": null,
            "overflow": null,
            "overflow_x": null,
            "overflow_y": null,
            "padding": null,
            "right": null,
            "top": null,
            "visibility": null,
            "width": null
          }
        },
        "bbefafa4e43c45a99aaed32d14206a89": {
          "model_module": "@jupyter-widgets/controls",
          "model_name": "SliderStyleModel",
          "model_module_version": "1.5.0",
          "state": {
            "_model_module": "@jupyter-widgets/controls",
            "_model_module_version": "1.5.0",
            "_model_name": "SliderStyleModel",
            "_view_count": null,
            "_view_module": "@jupyter-widgets/base",
            "_view_module_version": "1.2.0",
            "_view_name": "StyleView",
            "description_width": "",
            "handle_color": null
          }
        },
        "b42217bfb7694ff0ba772abe1f203b6d": {
          "model_module": "@jupyter-widgets/base",
          "model_name": "LayoutModel",
          "model_module_version": "1.2.0",
          "state": {
            "_model_module": "@jupyter-widgets/base",
            "_model_module_version": "1.2.0",
            "_model_name": "LayoutModel",
            "_view_count": null,
            "_view_module": "@jupyter-widgets/base",
            "_view_module_version": "1.2.0",
            "_view_name": "LayoutView",
            "align_content": null,
            "align_items": null,
            "align_self": null,
            "border": null,
            "bottom": null,
            "display": null,
            "flex": null,
            "flex_flow": null,
            "grid_area": null,
            "grid_auto_columns": null,
            "grid_auto_flow": null,
            "grid_auto_rows": null,
            "grid_column": null,
            "grid_gap": null,
            "grid_row": null,
            "grid_template_areas": null,
            "grid_template_columns": null,
            "grid_template_rows": null,
            "height": null,
            "justify_content": null,
            "justify_items": null,
            "left": null,
            "margin": null,
            "max_height": null,
            "max_width": null,
            "min_height": null,
            "min_width": null,
            "object_fit": null,
            "object_position": null,
            "order": null,
            "overflow": null,
            "overflow_x": null,
            "overflow_y": null,
            "padding": null,
            "right": null,
            "top": null,
            "visibility": null,
            "width": null
          }
        },
        "6189a11c6a2242d8967dbef25c07c694": {
          "model_module": "@jupyter-widgets/controls",
          "model_name": "SliderStyleModel",
          "model_module_version": "1.5.0",
          "state": {
            "_model_module": "@jupyter-widgets/controls",
            "_model_module_version": "1.5.0",
            "_model_name": "SliderStyleModel",
            "_view_count": null,
            "_view_module": "@jupyter-widgets/base",
            "_view_module_version": "1.2.0",
            "_view_name": "StyleView",
            "description_width": "",
            "handle_color": null
          }
        },
        "771d47d45fb74687bc65776e7fb0fc37": {
          "model_module": "@jupyter-widgets/base",
          "model_name": "LayoutModel",
          "model_module_version": "1.2.0",
          "state": {
            "_model_module": "@jupyter-widgets/base",
            "_model_module_version": "1.2.0",
            "_model_name": "LayoutModel",
            "_view_count": null,
            "_view_module": "@jupyter-widgets/base",
            "_view_module_version": "1.2.0",
            "_view_name": "LayoutView",
            "align_content": null,
            "align_items": null,
            "align_self": null,
            "border": null,
            "bottom": null,
            "display": null,
            "flex": null,
            "flex_flow": null,
            "grid_area": null,
            "grid_auto_columns": null,
            "grid_auto_flow": null,
            "grid_auto_rows": null,
            "grid_column": null,
            "grid_gap": null,
            "grid_row": null,
            "grid_template_areas": null,
            "grid_template_columns": null,
            "grid_template_rows": null,
            "height": null,
            "justify_content": null,
            "justify_items": null,
            "left": null,
            "margin": null,
            "max_height": null,
            "max_width": null,
            "min_height": null,
            "min_width": null,
            "object_fit": null,
            "object_position": null,
            "order": null,
            "overflow": null,
            "overflow_x": null,
            "overflow_y": null,
            "padding": null,
            "right": null,
            "top": null,
            "visibility": null,
            "width": null
          }
        },
        "fbcd0718325c4177850e93beea4b607b": {
          "model_module": "@jupyter-widgets/controls",
          "model_name": "SliderStyleModel",
          "model_module_version": "1.5.0",
          "state": {
            "_model_module": "@jupyter-widgets/controls",
            "_model_module_version": "1.5.0",
            "_model_name": "SliderStyleModel",
            "_view_count": null,
            "_view_module": "@jupyter-widgets/base",
            "_view_module_version": "1.2.0",
            "_view_name": "StyleView",
            "description_width": "",
            "handle_color": null
          }
        },
        "bcd9bc9daeab4560b67dead56bba6ff2": {
          "model_module": "@jupyter-widgets/base",
          "model_name": "LayoutModel",
          "model_module_version": "1.2.0",
          "state": {
            "_model_module": "@jupyter-widgets/base",
            "_model_module_version": "1.2.0",
            "_model_name": "LayoutModel",
            "_view_count": null,
            "_view_module": "@jupyter-widgets/base",
            "_view_module_version": "1.2.0",
            "_view_name": "LayoutView",
            "align_content": null,
            "align_items": null,
            "align_self": null,
            "border": null,
            "bottom": null,
            "display": null,
            "flex": null,
            "flex_flow": null,
            "grid_area": null,
            "grid_auto_columns": null,
            "grid_auto_flow": null,
            "grid_auto_rows": null,
            "grid_column": null,
            "grid_gap": null,
            "grid_row": null,
            "grid_template_areas": null,
            "grid_template_columns": null,
            "grid_template_rows": null,
            "height": null,
            "justify_content": null,
            "justify_items": null,
            "left": null,
            "margin": null,
            "max_height": null,
            "max_width": null,
            "min_height": null,
            "min_width": null,
            "object_fit": null,
            "object_position": null,
            "order": null,
            "overflow": null,
            "overflow_x": null,
            "overflow_y": null,
            "padding": null,
            "right": null,
            "top": null,
            "visibility": null,
            "width": null
          }
        },
        "0e488cac248a4fecbabd3424433b90ca": {
          "model_module": "@jupyter-widgets/controls",
          "model_name": "SliderStyleModel",
          "model_module_version": "1.5.0",
          "state": {
            "_model_module": "@jupyter-widgets/controls",
            "_model_module_version": "1.5.0",
            "_model_name": "SliderStyleModel",
            "_view_count": null,
            "_view_module": "@jupyter-widgets/base",
            "_view_module_version": "1.2.0",
            "_view_name": "StyleView",
            "description_width": "",
            "handle_color": null
          }
        },
        "d7d8f1ffc94146c88a1cc9c4a29e5a68": {
          "model_module": "@jupyter-widgets/base",
          "model_name": "LayoutModel",
          "model_module_version": "1.2.0",
          "state": {
            "_model_module": "@jupyter-widgets/base",
            "_model_module_version": "1.2.0",
            "_model_name": "LayoutModel",
            "_view_count": null,
            "_view_module": "@jupyter-widgets/base",
            "_view_module_version": "1.2.0",
            "_view_name": "LayoutView",
            "align_content": null,
            "align_items": null,
            "align_self": null,
            "border": null,
            "bottom": null,
            "display": null,
            "flex": null,
            "flex_flow": null,
            "grid_area": null,
            "grid_auto_columns": null,
            "grid_auto_flow": null,
            "grid_auto_rows": null,
            "grid_column": null,
            "grid_gap": null,
            "grid_row": null,
            "grid_template_areas": null,
            "grid_template_columns": null,
            "grid_template_rows": null,
            "height": null,
            "justify_content": null,
            "justify_items": null,
            "left": null,
            "margin": null,
            "max_height": null,
            "max_width": null,
            "min_height": null,
            "min_width": null,
            "object_fit": null,
            "object_position": null,
            "order": null,
            "overflow": null,
            "overflow_x": null,
            "overflow_y": null,
            "padding": null,
            "right": null,
            "top": null,
            "visibility": null,
            "width": null
          }
        },
        "ff41a4d2782746f5b5f5049045704178": {
          "model_module": "@jupyter-widgets/controls",
          "model_name": "SliderStyleModel",
          "model_module_version": "1.5.0",
          "state": {
            "_model_module": "@jupyter-widgets/controls",
            "_model_module_version": "1.5.0",
            "_model_name": "SliderStyleModel",
            "_view_count": null,
            "_view_module": "@jupyter-widgets/base",
            "_view_module_version": "1.2.0",
            "_view_name": "StyleView",
            "description_width": "",
            "handle_color": null
          }
        },
        "82127b0699be43799a66cb3fd176bbb8": {
          "model_module": "@jupyter-widgets/output",
          "model_name": "OutputModel",
          "model_module_version": "1.0.0",
          "state": {
            "_dom_classes": [],
            "_model_module": "@jupyter-widgets/output",
            "_model_module_version": "1.0.0",
            "_model_name": "OutputModel",
            "_view_count": null,
            "_view_module": "@jupyter-widgets/output",
            "_view_module_version": "1.0.0",
            "_view_name": "OutputView",
            "layout": "IPY_MODEL_4bbd4efec2244ffea214044487dc0f83",
            "msg_id": "",
            "outputs": [
              {
                "output_type": "display_data",
                "data": {
                  "text/plain": "<Figure size 1080x360 with 3 Axes>",
                  "image/png": "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\n"
                },
                "metadata": {
                  "needs_background": "light"
                }
              }
            ]
          }
        },
        "4bbd4efec2244ffea214044487dc0f83": {
          "model_module": "@jupyter-widgets/base",
          "model_name": "LayoutModel",
          "model_module_version": "1.2.0",
          "state": {
            "_model_module": "@jupyter-widgets/base",
            "_model_module_version": "1.2.0",
            "_model_name": "LayoutModel",
            "_view_count": null,
            "_view_module": "@jupyter-widgets/base",
            "_view_module_version": "1.2.0",
            "_view_name": "LayoutView",
            "align_content": null,
            "align_items": null,
            "align_self": null,
            "border": null,
            "bottom": null,
            "display": null,
            "flex": null,
            "flex_flow": null,
            "grid_area": null,
            "grid_auto_columns": null,
            "grid_auto_flow": null,
            "grid_auto_rows": null,
            "grid_column": null,
            "grid_gap": null,
            "grid_row": null,
            "grid_template_areas": null,
            "grid_template_columns": null,
            "grid_template_rows": null,
            "height": null,
            "justify_content": null,
            "justify_items": null,
            "left": null,
            "margin": null,
            "max_height": null,
            "max_width": null,
            "min_height": null,
            "min_width": null,
            "object_fit": null,
            "object_position": null,
            "order": null,
            "overflow": null,
            "overflow_x": null,
            "overflow_y": null,
            "padding": null,
            "right": null,
            "top": null,
            "visibility": null,
            "width": null
          }
        },
        "cbcb353bd57843b08eda20b68b8e1e20": {
          "model_module": "@jupyter-widgets/controls",
          "model_name": "HBoxModel",
          "model_module_version": "1.5.0",
          "state": {
            "_dom_classes": [],
            "_model_module": "@jupyter-widgets/controls",
            "_model_module_version": "1.5.0",
            "_model_name": "HBoxModel",
            "_view_count": null,
            "_view_module": "@jupyter-widgets/controls",
            "_view_module_version": "1.5.0",
            "_view_name": "HBoxView",
            "box_style": "",
            "children": [
              "IPY_MODEL_deab86cf1c2541af8244ea0a30707c3e",
              "IPY_MODEL_c9c69ea9f64d403f9ec0cdadb648609b",
              "IPY_MODEL_1c493acebc204cbd956e91248c6c278b"
            ],
            "layout": "IPY_MODEL_769f18c4cab547c5a51350a54efcb91c"
          }
        },
        "deab86cf1c2541af8244ea0a30707c3e": {
          "model_module": "@jupyter-widgets/controls",
          "model_name": "IntSliderModel",
          "model_module_version": "1.5.0",
          "state": {
            "_dom_classes": [],
            "_model_module": "@jupyter-widgets/controls",
            "_model_module_version": "1.5.0",
            "_model_name": "IntSliderModel",
            "_view_count": null,
            "_view_module": "@jupyter-widgets/controls",
            "_view_module_version": "1.5.0",
            "_view_name": "IntSliderView",
            "continuous_update": true,
            "description": "",
            "description_tooltip": null,
            "disabled": false,
            "layout": "IPY_MODEL_2e74941dc1a849d49f2491835e91ce24",
            "max": 100,
            "min": 0,
            "orientation": "horizontal",
            "readout": true,
            "readout_format": "d",
            "step": 1,
            "style": "IPY_MODEL_ed8a367547834340a042b4b4e01ab38e",
            "value": 63
          }
        },
        "c9c69ea9f64d403f9ec0cdadb648609b": {
          "model_module": "@jupyter-widgets/controls",
          "model_name": "IntSliderModel",
          "model_module_version": "1.5.0",
          "state": {
            "_dom_classes": [],
            "_model_module": "@jupyter-widgets/controls",
            "_model_module_version": "1.5.0",
            "_model_name": "IntSliderModel",
            "_view_count": null,
            "_view_module": "@jupyter-widgets/controls",
            "_view_module_version": "1.5.0",
            "_view_name": "IntSliderView",
            "continuous_update": true,
            "description": "",
            "description_tooltip": null,
            "disabled": false,
            "layout": "IPY_MODEL_95236343cb6046a4a58af5bcc631ed07",
            "max": 100,
            "min": 0,
            "orientation": "horizontal",
            "readout": true,
            "readout_format": "d",
            "step": 1,
            "style": "IPY_MODEL_90ae3984806f42c2870b36e79dfba64e",
            "value": 55
          }
        },
        "1c493acebc204cbd956e91248c6c278b": {
          "model_module": "@jupyter-widgets/controls",
          "model_name": "IntSliderModel",
          "model_module_version": "1.5.0",
          "state": {
            "_dom_classes": [],
            "_model_module": "@jupyter-widgets/controls",
            "_model_module_version": "1.5.0",
            "_model_name": "IntSliderModel",
            "_view_count": null,
            "_view_module": "@jupyter-widgets/controls",
            "_view_module_version": "1.5.0",
            "_view_name": "IntSliderView",
            "continuous_update": true,
            "description": "",
            "description_tooltip": null,
            "disabled": false,
            "layout": "IPY_MODEL_c4065b6b22a14788bc8a3d3b0b632ec8",
            "max": 100,
            "min": 0,
            "orientation": "horizontal",
            "readout": true,
            "readout_format": "d",
            "step": 1,
            "style": "IPY_MODEL_cac19b62c86348108c77201389482926",
            "value": 36
          }
        },
        "769f18c4cab547c5a51350a54efcb91c": {
          "model_module": "@jupyter-widgets/base",
          "model_name": "LayoutModel",
          "model_module_version": "1.2.0",
          "state": {
            "_model_module": "@jupyter-widgets/base",
            "_model_module_version": "1.2.0",
            "_model_name": "LayoutModel",
            "_view_count": null,
            "_view_module": "@jupyter-widgets/base",
            "_view_module_version": "1.2.0",
            "_view_name": "LayoutView",
            "align_content": null,
            "align_items": null,
            "align_self": null,
            "border": null,
            "bottom": null,
            "display": null,
            "flex": null,
            "flex_flow": null,
            "grid_area": null,
            "grid_auto_columns": null,
            "grid_auto_flow": null,
            "grid_auto_rows": null,
            "grid_column": null,
            "grid_gap": null,
            "grid_row": null,
            "grid_template_areas": null,
            "grid_template_columns": null,
            "grid_template_rows": null,
            "height": null,
            "justify_content": null,
            "justify_items": null,
            "left": null,
            "margin": null,
            "max_height": null,
            "max_width": null,
            "min_height": null,
            "min_width": null,
            "object_fit": null,
            "object_position": null,
            "order": null,
            "overflow": null,
            "overflow_x": null,
            "overflow_y": null,
            "padding": null,
            "right": null,
            "top": null,
            "visibility": null,
            "width": null
          }
        },
        "2e74941dc1a849d49f2491835e91ce24": {
          "model_module": "@jupyter-widgets/base",
          "model_name": "LayoutModel",
          "model_module_version": "1.2.0",
          "state": {
            "_model_module": "@jupyter-widgets/base",
            "_model_module_version": "1.2.0",
            "_model_name": "LayoutModel",
            "_view_count": null,
            "_view_module": "@jupyter-widgets/base",
            "_view_module_version": "1.2.0",
            "_view_name": "LayoutView",
            "align_content": null,
            "align_items": null,
            "align_self": null,
            "border": null,
            "bottom": null,
            "display": null,
            "flex": null,
            "flex_flow": null,
            "grid_area": null,
            "grid_auto_columns": null,
            "grid_auto_flow": null,
            "grid_auto_rows": null,
            "grid_column": null,
            "grid_gap": null,
            "grid_row": null,
            "grid_template_areas": null,
            "grid_template_columns": null,
            "grid_template_rows": null,
            "height": null,
            "justify_content": null,
            "justify_items": null,
            "left": null,
            "margin": null,
            "max_height": null,
            "max_width": null,
            "min_height": null,
            "min_width": null,
            "object_fit": null,
            "object_position": null,
            "order": null,
            "overflow": null,
            "overflow_x": null,
            "overflow_y": null,
            "padding": null,
            "right": null,
            "top": null,
            "visibility": null,
            "width": null
          }
        },
        "ed8a367547834340a042b4b4e01ab38e": {
          "model_module": "@jupyter-widgets/controls",
          "model_name": "SliderStyleModel",
          "model_module_version": "1.5.0",
          "state": {
            "_model_module": "@jupyter-widgets/controls",
            "_model_module_version": "1.5.0",
            "_model_name": "SliderStyleModel",
            "_view_count": null,
            "_view_module": "@jupyter-widgets/base",
            "_view_module_version": "1.2.0",
            "_view_name": "StyleView",
            "description_width": "",
            "handle_color": null
          }
        },
        "95236343cb6046a4a58af5bcc631ed07": {
          "model_module": "@jupyter-widgets/base",
          "model_name": "LayoutModel",
          "model_module_version": "1.2.0",
          "state": {
            "_model_module": "@jupyter-widgets/base",
            "_model_module_version": "1.2.0",
            "_model_name": "LayoutModel",
            "_view_count": null,
            "_view_module": "@jupyter-widgets/base",
            "_view_module_version": "1.2.0",
            "_view_name": "LayoutView",
            "align_content": null,
            "align_items": null,
            "align_self": null,
            "border": null,
            "bottom": null,
            "display": null,
            "flex": null,
            "flex_flow": null,
            "grid_area": null,
            "grid_auto_columns": null,
            "grid_auto_flow": null,
            "grid_auto_rows": null,
            "grid_column": null,
            "grid_gap": null,
            "grid_row": null,
            "grid_template_areas": null,
            "grid_template_columns": null,
            "grid_template_rows": null,
            "height": null,
            "justify_content": null,
            "justify_items": null,
            "left": null,
            "margin": null,
            "max_height": null,
            "max_width": null,
            "min_height": null,
            "min_width": null,
            "object_fit": null,
            "object_position": null,
            "order": null,
            "overflow": null,
            "overflow_x": null,
            "overflow_y": null,
            "padding": null,
            "right": null,
            "top": null,
            "visibility": null,
            "width": null
          }
        },
        "90ae3984806f42c2870b36e79dfba64e": {
          "model_module": "@jupyter-widgets/controls",
          "model_name": "SliderStyleModel",
          "model_module_version": "1.5.0",
          "state": {
            "_model_module": "@jupyter-widgets/controls",
            "_model_module_version": "1.5.0",
            "_model_name": "SliderStyleModel",
            "_view_count": null,
            "_view_module": "@jupyter-widgets/base",
            "_view_module_version": "1.2.0",
            "_view_name": "StyleView",
            "description_width": "",
            "handle_color": null
          }
        },
        "c4065b6b22a14788bc8a3d3b0b632ec8": {
          "model_module": "@jupyter-widgets/base",
          "model_name": "LayoutModel",
          "model_module_version": "1.2.0",
          "state": {
            "_model_module": "@jupyter-widgets/base",
            "_model_module_version": "1.2.0",
            "_model_name": "LayoutModel",
            "_view_count": null,
            "_view_module": "@jupyter-widgets/base",
            "_view_module_version": "1.2.0",
            "_view_name": "LayoutView",
            "align_content": null,
            "align_items": null,
            "align_self": null,
            "border": null,
            "bottom": null,
            "display": null,
            "flex": null,
            "flex_flow": null,
            "grid_area": null,
            "grid_auto_columns": null,
            "grid_auto_flow": null,
            "grid_auto_rows": null,
            "grid_column": null,
            "grid_gap": null,
            "grid_row": null,
            "grid_template_areas": null,
            "grid_template_columns": null,
            "grid_template_rows": null,
            "height": null,
            "justify_content": null,
            "justify_items": null,
            "left": null,
            "margin": null,
            "max_height": null,
            "max_width": null,
            "min_height": null,
            "min_width": null,
            "object_fit": null,
            "object_position": null,
            "order": null,
            "overflow": null,
            "overflow_x": null,
            "overflow_y": null,
            "padding": null,
            "right": null,
            "top": null,
            "visibility": null,
            "width": null
          }
        },
        "cac19b62c86348108c77201389482926": {
          "model_module": "@jupyter-widgets/controls",
          "model_name": "SliderStyleModel",
          "model_module_version": "1.5.0",
          "state": {
            "_model_module": "@jupyter-widgets/controls",
            "_model_module_version": "1.5.0",
            "_model_name": "SliderStyleModel",
            "_view_count": null,
            "_view_module": "@jupyter-widgets/base",
            "_view_module_version": "1.2.0",
            "_view_name": "StyleView",
            "description_width": "",
            "handle_color": null
          }
        },
        "64865f372bc242d0b9c74b254b5ee02d": {
          "model_module": "@jupyter-widgets/output",
          "model_name": "OutputModel",
          "model_module_version": "1.0.0",
          "state": {
            "_dom_classes": [],
            "_model_module": "@jupyter-widgets/output",
            "_model_module_version": "1.0.0",
            "_model_name": "OutputModel",
            "_view_count": null,
            "_view_module": "@jupyter-widgets/output",
            "_view_module_version": "1.0.0",
            "_view_name": "OutputView",
            "layout": "IPY_MODEL_7f4ab1f884e34d5f897d104cafb70796",
            "msg_id": "",
            "outputs": [
              {
                "output_type": "stream",
                "name": "stdout",
                "text": [
                  "(63, 55, 36)\n"
                ]
              }
            ]
          }
        },
        "7f4ab1f884e34d5f897d104cafb70796": {
          "model_module": "@jupyter-widgets/base",
          "model_name": "LayoutModel",
          "model_module_version": "1.2.0",
          "state": {
            "_model_module": "@jupyter-widgets/base",
            "_model_module_version": "1.2.0",
            "_model_name": "LayoutModel",
            "_view_count": null,
            "_view_module": "@jupyter-widgets/base",
            "_view_module_version": "1.2.0",
            "_view_name": "LayoutView",
            "align_content": null,
            "align_items": null,
            "align_self": null,
            "border": null,
            "bottom": null,
            "display": null,
            "flex": null,
            "flex_flow": null,
            "grid_area": null,
            "grid_auto_columns": null,
            "grid_auto_flow": null,
            "grid_auto_rows": null,
            "grid_column": null,
            "grid_gap": null,
            "grid_row": null,
            "grid_template_areas": null,
            "grid_template_columns": null,
            "grid_template_rows": null,
            "height": null,
            "justify_content": null,
            "justify_items": null,
            "left": null,
            "margin": null,
            "max_height": null,
            "max_width": null,
            "min_height": null,
            "min_width": null,
            "object_fit": null,
            "object_position": null,
            "order": null,
            "overflow": null,
            "overflow_x": null,
            "overflow_y": null,
            "padding": null,
            "right": null,
            "top": null,
            "visibility": null,
            "width": null
          }
        },
        "906d060d2fc3437a9038173b2110c305": {
          "model_module": "@jupyter-widgets/controls",
          "model_name": "VBoxModel",
          "model_module_version": "1.5.0",
          "state": {
            "_dom_classes": [
              "widget-interact"
            ],
            "_model_module": "@jupyter-widgets/controls",
            "_model_module_version": "1.5.0",
            "_model_name": "VBoxModel",
            "_view_count": null,
            "_view_module": "@jupyter-widgets/controls",
            "_view_module_version": "1.5.0",
            "_view_name": "VBoxView",
            "box_style": "",
            "children": [
              "IPY_MODEL_6f236c0b1895451e8861d28194a77508",
              "IPY_MODEL_af82fe0123d5448e806f9dc2897a60f8",
              "IPY_MODEL_57e93a0bef354dbbaec7fe041a7095c3"
            ],
            "layout": "IPY_MODEL_227eaea9fbfb495a8baf8d7565290086"
          }
        },
        "6f236c0b1895451e8861d28194a77508": {
          "model_module": "@jupyter-widgets/controls",
          "model_name": "FloatSliderModel",
          "model_module_version": "1.5.0",
          "state": {
            "_dom_classes": [],
            "_model_module": "@jupyter-widgets/controls",
            "_model_module_version": "1.5.0",
            "_model_name": "FloatSliderModel",
            "_view_count": null,
            "_view_module": "@jupyter-widgets/controls",
            "_view_module_version": "1.5.0",
            "_view_name": "FloatSliderView",
            "continuous_update": true,
            "description": "x",
            "description_tooltip": null,
            "disabled": false,
            "layout": "IPY_MODEL_26eb5e8f0797450dbe872923499a3bd0",
            "max": 11.6,
            "min": 0,
            "orientation": "horizontal",
            "readout": true,
            "readout_format": ".2f",
            "step": 0.05,
            "style": "IPY_MODEL_b36a425a4b854031991ab19af164341e",
            "value": 2.1
          }
        },
        "af82fe0123d5448e806f9dc2897a60f8": {
          "model_module": "@jupyter-widgets/controls",
          "model_name": "FloatSliderModel",
          "model_module_version": "1.5.0",
          "state": {
            "_dom_classes": [],
            "_model_module": "@jupyter-widgets/controls",
            "_model_module_version": "1.5.0",
            "_model_name": "FloatSliderModel",
            "_view_count": null,
            "_view_module": "@jupyter-widgets/controls",
            "_view_module_version": "1.5.0",
            "_view_name": "FloatSliderView",
            "continuous_update": true,
            "description": "y",
            "description_tooltip": null,
            "disabled": false,
            "layout": "IPY_MODEL_7f632b2f9b764310b4bb6086027fae8f",
            "max": 10,
            "min": 0.5,
            "orientation": "horizontal",
            "readout": true,
            "readout_format": ".2f",
            "step": 0.05,
            "style": "IPY_MODEL_537e01c728e345cba50645870dac53a7",
            "value": 5.8
          }
        },
        "57e93a0bef354dbbaec7fe041a7095c3": {
          "model_module": "@jupyter-widgets/output",
          "model_name": "OutputModel",
          "model_module_version": "1.0.0",
          "state": {
            "_dom_classes": [],
            "_model_module": "@jupyter-widgets/output",
            "_model_module_version": "1.0.0",
            "_model_name": "OutputModel",
            "_view_count": null,
            "_view_module": "@jupyter-widgets/output",
            "_view_module_version": "1.0.0",
            "_view_name": "OutputView",
            "layout": "IPY_MODEL_0285105ae52e4e4d8194dde7017b61e0",
            "msg_id": "",
            "outputs": [
              {
                "output_type": "stream",
                "name": "stdout",
                "text": [
                  "2.1 5.8\n"
                ]
              }
            ]
          }
        },
        "227eaea9fbfb495a8baf8d7565290086": {
          "model_module": "@jupyter-widgets/base",
          "model_name": "LayoutModel",
          "model_module_version": "1.2.0",
          "state": {
            "_model_module": "@jupyter-widgets/base",
            "_model_module_version": "1.2.0",
            "_model_name": "LayoutModel",
            "_view_count": null,
            "_view_module": "@jupyter-widgets/base",
            "_view_module_version": "1.2.0",
            "_view_name": "LayoutView",
            "align_content": null,
            "align_items": null,
            "align_self": null,
            "border": null,
            "bottom": null,
            "display": null,
            "flex": null,
            "flex_flow": null,
            "grid_area": null,
            "grid_auto_columns": null,
            "grid_auto_flow": null,
            "grid_auto_rows": null,
            "grid_column": null,
            "grid_gap": null,
            "grid_row": null,
            "grid_template_areas": null,
            "grid_template_columns": null,
            "grid_template_rows": null,
            "height": null,
            "justify_content": null,
            "justify_items": null,
            "left": null,
            "margin": null,
            "max_height": null,
            "max_width": null,
            "min_height": null,
            "min_width": null,
            "object_fit": null,
            "object_position": null,
            "order": null,
            "overflow": null,
            "overflow_x": null,
            "overflow_y": null,
            "padding": null,
            "right": null,
            "top": null,
            "visibility": null,
            "width": null
          }
        },
        "26eb5e8f0797450dbe872923499a3bd0": {
          "model_module": "@jupyter-widgets/base",
          "model_name": "LayoutModel",
          "model_module_version": "1.2.0",
          "state": {
            "_model_module": "@jupyter-widgets/base",
            "_model_module_version": "1.2.0",
            "_model_name": "LayoutModel",
            "_view_count": null,
            "_view_module": "@jupyter-widgets/base",
            "_view_module_version": "1.2.0",
            "_view_name": "LayoutView",
            "align_content": null,
            "align_items": null,
            "align_self": null,
            "border": null,
            "bottom": null,
            "display": null,
            "flex": null,
            "flex_flow": null,
            "grid_area": null,
            "grid_auto_columns": null,
            "grid_auto_flow": null,
            "grid_auto_rows": null,
            "grid_column": null,
            "grid_gap": null,
            "grid_row": null,
            "grid_template_areas": null,
            "grid_template_columns": null,
            "grid_template_rows": null,
            "height": null,
            "justify_content": null,
            "justify_items": null,
            "left": null,
            "margin": null,
            "max_height": null,
            "max_width": null,
            "min_height": null,
            "min_width": null,
            "object_fit": null,
            "object_position": null,
            "order": null,
            "overflow": null,
            "overflow_x": null,
            "overflow_y": null,
            "padding": null,
            "right": null,
            "top": null,
            "visibility": null,
            "width": null
          }
        },
        "b36a425a4b854031991ab19af164341e": {
          "model_module": "@jupyter-widgets/controls",
          "model_name": "SliderStyleModel",
          "model_module_version": "1.5.0",
          "state": {
            "_model_module": "@jupyter-widgets/controls",
            "_model_module_version": "1.5.0",
            "_model_name": "SliderStyleModel",
            "_view_count": null,
            "_view_module": "@jupyter-widgets/base",
            "_view_module_version": "1.2.0",
            "_view_name": "StyleView",
            "description_width": "",
            "handle_color": null
          }
        },
        "7f632b2f9b764310b4bb6086027fae8f": {
          "model_module": "@jupyter-widgets/base",
          "model_name": "LayoutModel",
          "model_module_version": "1.2.0",
          "state": {
            "_model_module": "@jupyter-widgets/base",
            "_model_module_version": "1.2.0",
            "_model_name": "LayoutModel",
            "_view_count": null,
            "_view_module": "@jupyter-widgets/base",
            "_view_module_version": "1.2.0",
            "_view_name": "LayoutView",
            "align_content": null,
            "align_items": null,
            "align_self": null,
            "border": null,
            "bottom": null,
            "display": null,
            "flex": null,
            "flex_flow": null,
            "grid_area": null,
            "grid_auto_columns": null,
            "grid_auto_flow": null,
            "grid_auto_rows": null,
            "grid_column": null,
            "grid_gap": null,
            "grid_row": null,
            "grid_template_areas": null,
            "grid_template_columns": null,
            "grid_template_rows": null,
            "height": null,
            "justify_content": null,
            "justify_items": null,
            "left": null,
            "margin": null,
            "max_height": null,
            "max_width": null,
            "min_height": null,
            "min_width": null,
            "object_fit": null,
            "object_position": null,
            "order": null,
            "overflow": null,
            "overflow_x": null,
            "overflow_y": null,
            "padding": null,
            "right": null,
            "top": null,
            "visibility": null,
            "width": null
          }
        },
        "537e01c728e345cba50645870dac53a7": {
          "model_module": "@jupyter-widgets/controls",
          "model_name": "SliderStyleModel",
          "model_module_version": "1.5.0",
          "state": {
            "_model_module": "@jupyter-widgets/controls",
            "_model_module_version": "1.5.0",
            "_model_name": "SliderStyleModel",
            "_view_count": null,
            "_view_module": "@jupyter-widgets/base",
            "_view_module_version": "1.2.0",
            "_view_name": "StyleView",
            "description_width": "",
            "handle_color": null
          }
        },
        "0285105ae52e4e4d8194dde7017b61e0": {
          "model_module": "@jupyter-widgets/base",
          "model_name": "LayoutModel",
          "model_module_version": "1.2.0",
          "state": {
            "_model_module": "@jupyter-widgets/base",
            "_model_module_version": "1.2.0",
            "_model_name": "LayoutModel",
            "_view_count": null,
            "_view_module": "@jupyter-widgets/base",
            "_view_module_version": "1.2.0",
            "_view_name": "LayoutView",
            "align_content": null,
            "align_items": null,
            "align_self": null,
            "border": null,
            "bottom": null,
            "display": null,
            "flex": null,
            "flex_flow": null,
            "grid_area": null,
            "grid_auto_columns": null,
            "grid_auto_flow": null,
            "grid_auto_rows": null,
            "grid_column": null,
            "grid_gap": null,
            "grid_row": null,
            "grid_template_areas": null,
            "grid_template_columns": null,
            "grid_template_rows": null,
            "height": null,
            "justify_content": null,
            "justify_items": null,
            "left": null,
            "margin": null,
            "max_height": null,
            "max_width": null,
            "min_height": null,
            "min_width": null,
            "object_fit": null,
            "object_position": null,
            "order": null,
            "overflow": null,
            "overflow_x": null,
            "overflow_y": null,
            "padding": null,
            "right": null,
            "top": null,
            "visibility": null,
            "width": null
          }
        }
      }
    }
  },
  "cells": [
    {
      "cell_type": "markdown",
      "source": [
        "fuente: https://www.youtube.com/watch?v=W8AeOXa_FqU\n",
        "Carlos Santana"
      ],
      "metadata": {
        "id": "Fzhlf09XGE_1"
      }
    },
    {
      "cell_type": "code",
      "execution_count": 1,
      "metadata": {
        "id": "F4sNyM4hkLQQ"
      },
      "outputs": [],
      "source": [
        "#@title librerias\n",
        "import  numpy as np\n",
        "import  scipy as sc\n",
        "import  matplotlib.pyplot as plt\n",
        "from    sklearn.datasets import make_circles\n",
        "import  math"
      ]
    },
    {
      "cell_type": "code",
      "source": [
        "#@title datos de para entrenamiento\n",
        "n = 10      # cantidad samples\n",
        "p = 2       # entradas\n",
        "X_coord, Y_class = make_circles(n_samples=n, factor=0.5, noise=0.05)\n",
        "\n",
        "plt.scatter(X_coord[:,0], X_coord[:,1], c=Y_class)\n",
        "plt.axis(\"equal\")\n",
        "plt.show()\n",
        "\n",
        "Y_class = Y_class[:, np.newaxis]      # agrega una dimension para pasar por multiplicaciones matriciales\n",
        "Y_class"
      ],
      "metadata": {
        "colab": {
          "base_uri": "https://localhost:8080/",
          "height": 439
        },
        "id": "hdHWVyw7kfW7",
        "outputId": "e8ebacf0-25bd-475b-bef6-93c8b999fc83"
      },
      "execution_count": 2,
      "outputs": [
        {
          "output_type": "display_data",
          "data": {
            "text/plain": [
              "<Figure size 432x288 with 1 Axes>"
            ],
            "image/png": "[encoded data removed]"
          },
          "metadata": {
            "needs_background": "light"
          }
        },
        {
          "output_type": "execute_result",
          "data": {
            "text/plain": [
              "array([[0],\n",
              "       [0],\n",
              "       [1],\n",
              "       [0],\n",
              "       [1],\n",
              "       [0],\n",
              "       [0],\n",
              "       [1],\n",
              "       [1],\n",
              "       [1]])"
            ]
          },
          "metadata": {},
          "execution_count": 2
        }
      ]
    },
    {
      "cell_type": "code",
      "source": [
        "#@title clase de una capa neuronal\n",
        "class capa_neuronal():\n",
        "  def __init__(self, n_entradas, n_neuronas, act_f, rango_W=2, rango_b=0.00001):\n",
        "    self.n_entrada = n_entradas   # neuronas de entrada     cantidad\n",
        "    self.n_salidas = n_neuronas   # neuronas de salida      cantidad\n",
        "    #self.act_f = act_f            # funcion activacion puntero memoria\n",
        "    self.func_activacion, self.deriv_activacion = act_f                 # funcion de activacion y su derivada\n",
        "    #arr = np.full((M, N), 0.5)\n",
        "    #arr_pos = np.full((n_entradas, math.ceil(n_neuronas/2)), 0.5)\n",
        "    #arr_neg = np.full((n_entradas, n_neuronas//2), -0.5)\n",
        "    #arr = np.hstack((arr_pos, arr_neg))\n",
        "    #self.b = np.full((1, n_neuronas), 0.33) # * 2 -1             # una por cada neurona   ini aleatoria\n",
        "    #self.W = np.hstack((arr_pos, arr_neg)) # * 2 -1    # una por cada entrada/neurona (conexion)   ini aleatoria\n",
        "\n",
        "    #self.b = np.full((1, n_neuronas), 1) # * 2 -1             # una por cada neurona   ini aleatoria\n",
        "    #self.W = np.full((n_entradas, n_neuronas), 1) # * 2 -1    # una por cada entrada/neurona (conexion)   ini aleatoria\n",
        "    self.b = np.random.rand(1, n_neuronas) * rango_b - (rango_b//2)            # una por cada neurona   ini aleatoria\n",
        "    self.W = np.random.rand(n_entradas, n_neuronas) * rango_W - (rango_W//2)    # una por cada entrada/neurona (conexion)   ini aleatoria\n",
        "\n",
        "    #self.b = np.random.rand(1, n_neuronas) * 2 -1             # una por cada neurona   ini aleatoria\n",
        "    #self.W = np.random.rand(n_entradas, n_neuronas) * 2 -1    # una por cada entrada/neurona (conexion)   ini aleatoria\n",
        "    self.W_ = []                  # peso anterior por cada Neurona/Entrada          W_ = W    respaldo\n",
        "    self.b_ = []                  # peso anterior por cada Neurona/Entrada          b_ = b    respaldo\n",
        "\n",
        "    self.W_i = []                  # peso anterior por cada Neurona/Entrada          W_ = W    respaldo\n",
        "    self.b_i = []                  # peso anterior por cada Neurona/Entrada          b_ = b    respaldo\n",
        "\n",
        "    self.X = []                   # in (valor entrada) por cada entrada\n",
        "    self.neurona = []             # neurona por cada Neurona/Muestra                X * W + b\n",
        "    self.activa = []              # activacion por cada Neurona/Muestra             eqiv  Y\"\n",
        "    self.dactiva = []             # derivada activacion por cada Neurona/Muestra\n",
        "    self.loss = []                # loss por cada Muestra                           (Y\" - Y) **2\n",
        "    self.dloss = []               # derivada loss por cada Neurona/Muestra          ULTIMA CAPA: l2_cost[derv](a, Y)  o/o  CAPAS ANTERIORES: deltas[0] @  w_.T\n",
        "    self.dloss_back = []          # derivada loss capa siguiente en backprop por cada Neurona/Muestra                   (Y\" - Y) **2\n",
        "    self.delta = []               # delta por cada Neurona/Muestra                  dloss * dactiv\n",
        "    self.grad_W = []              # gradiente descendente por cada Neurona/Entrada  dactiv.T @ delta * lr       = out[l][actv].T @ deltas[0] * lr \n",
        "    self.grad_b = []              # gradiente descendente por cada Neurona          mdelta * lr                 = np.mean(deltas[0], axis=0, keepdims=True) * lr \n",
        "\n",
        "  def shot(self):\n",
        "    self.W_i = self.W.copy()\n",
        "    self.b_i = self.b.copy()\n"
      ],
      "metadata": {
        "id": "GXZ1UR16l5cE"
      },
      "execution_count": 54,
      "outputs": []
    },
    {
      "cell_type": "code",
      "source": [
        "math.ceil(1/2)\n"
      ],
      "metadata": {
        "colab": {
          "base_uri": "https://localhost:8080/"
        },
        "id": "uzc-YFvhXg6a",
        "outputId": "9043cf1f-299a-4fda-d9bb-fd23aa156857"
      },
      "execution_count": null,
      "outputs": [
        {
          "output_type": "execute_result",
          "data": {
            "text/plain": [
              "1"
            ]
          },
          "metadata": {},
          "execution_count": 117
        }
      ]
    },
    {
      "cell_type": "code",
      "source": [
        "#@title funciones de activacion\n",
        "\n",
        "#sigm = lambda x: 1/(1 + np.e ** (-x))\n",
        "func = 0  # pos 0 en arr\n",
        "derv = 1  # pos 1 en arr\n",
        "\n",
        "sigm = (lambda x: 1/(1 + np.e ** (-x)), \n",
        "        lambda x: x * (1-x))\n",
        "\n",
        "relu = (lambda x: np.maximum(0, x), \n",
        "        lambda x: 0 if x <= 0 else 1)\n",
        "\n",
        "#sigm[0](1)\n",
        "\n",
        "_x = np.linspace(-5, 5, 100)\n",
        "plt.plot(_x, sigm[0](_x))\n",
        "plt.plot(_x, relu[0](_x))"
      ],
      "metadata": {
        "colab": {
          "base_uri": "https://localhost:8080/",
          "height": 282
        },
        "id": "Hv5IOTYempDc",
        "outputId": "f714b2a5-4c3e-426f-ada1-e91bd369f182"
      },
      "execution_count": 4,
      "outputs": [
        {
          "output_type": "execute_result",
          "data": {
            "text/plain": [
              "[<matplotlib.lines.Line2D at 0x7f9dff1f8fa0>]"
            ]
          },
          "metadata": {},
          "execution_count": 4
        },
        {
          "output_type": "display_data",
          "data": {
            "text/plain": [
              "<Figure size 432x288 with 1 Axes>"
            ],
            "image/png": "[encoded data removed]"
          },
          "metadata": {
            "needs_background": "light"
          }
        }
      ]
    },
    {
      "cell_type": "code",
      "source": [
        "#@title funcion de costo\n",
        "l2_cost = (lambda Yp, Yr: np.mean((Yp - Yr) ** 2),\n",
        "          lambda Yp, Yr: (Yp - Yr))\n",
        "\n",
        "# func_costo, deriv_costo = l2_cost\n"
      ],
      "metadata": {
        "id": "ccO5MD-lqpCd"
      },
      "execution_count": 5,
      "outputs": []
    },
    {
      "cell_type": "code",
      "source": [
        "#@title funcion para crear una red neuronal\n",
        "\n",
        "#ideal poder utilizar distintas func activacion por capa\n",
        "#l0 = capa_neuronal(p, 4, sigm)\n",
        "#l1 = capa_neuronal(4, 1, sigm)\n",
        "\n",
        "def crea_nn(topologia, act_f):\n",
        "  nn = [] # red inicial \n",
        "  for l, layer in enumerate(topologia[:-1]):\n",
        "    in_ = topologia[l]\n",
        "    out_ = topologia[l+1]\n",
        "    nn.append(capa_neuronal(in_, out_, act_f))\n",
        "  return nn\n"
      ],
      "metadata": {
        "id": "rFr6jloKof4Z"
      },
      "execution_count": 6,
      "outputs": []
    },
    {
      "cell_type": "code",
      "source": [
        "#@title random reploducibilidad\n",
        "import random\n",
        "random.seed(888)\n"
      ],
      "metadata": {
        "id": "KVodJpllMVB0"
      },
      "execution_count": 7,
      "outputs": []
    },
    {
      "cell_type": "code",
      "source": [
        "#@title creando red\n",
        "topologia = [p, 4, 8, 1]\n",
        "red = crea_nn(topologia, sigm)"
      ],
      "metadata": {
        "id": "IHQIbWsUq7gE"
      },
      "execution_count": 8,
      "outputs": []
    },
    {
      "cell_type": "code",
      "source": [
        "#@title funcion de entrenamiento mas clara\n",
        "def train(red, X, Y, l2_cost, lr=0.5, train=True):\n",
        "  #X      = X_coord\n",
        "  #Y      = Y_class\n",
        "  #lr     = 0.5\n",
        "  #train  = True\n",
        "\n",
        "  #asigna la funcion de costo y su derivada\n",
        "  func_costo, deriv_costo = l2_cost\n",
        "\n",
        "  #primera capa de Entrada\n",
        "  red[0].X              = X.copy()                           # X valor entrada primera capa\n",
        "\n",
        "  #forward\n",
        "  for l, layer in enumerate(red):                               # por cada capa de la primera hasta la ultima\n",
        "    if(l>0):layer.X     = red[l-1].activa.copy()             # la salida de la anterior capa es la entrada de esta\n",
        "    layer.neurona       = layer.X @ layer.W + layer.b           # neurona\n",
        "    layer.activa        = layer.func_activacion(layer.neurona)  # activacion\n",
        "\n",
        "  #calc loss en ultima capa\n",
        "  layer.loss            = func_costo(layer.activa, Y)     # loss solo en ultima capa\n",
        "\n",
        "  if(train):\n",
        "\n",
        "    #backward\n",
        "    for l in reversed(range(0, len(red))):\n",
        "      layer             = red[l]                          # capa de la red\n",
        "      layer.W_          = layer.W.copy()                  # respaldo W solo para historial\n",
        "      layer.b_          = layer.b.copy()                  # respaldo b solo para historial\n",
        "\n",
        "      #calc responsabilidad\n",
        "      if( l == len(red)-1):                               # ultima capa\n",
        "        #anticipa next layer loss\n",
        "        layer.dloss     = deriv_costo(layer.activa, Y)\n",
        "      else :                                              # previas capas\n",
        "        #copia loss arrastre precalculado\n",
        "        layer.dloss     = red[l+1].dloss_back             # loss actual es Delta @ W_ original anterior\n",
        "\n",
        "      #calc derivada activacion\n",
        "      layer.dactiva      = layer.deriv_activacion(layer.activa) #layer.neurona)\n",
        "\n",
        "      #actualiza delta\n",
        "      layer.delta       = layer.dloss * layer.dactiva     # delta_ant @ W_ant.T * dactiv(activ)\n",
        "\n",
        "      #anticipa next layer loss\n",
        "      layer.dloss_back  = layer.delta @ layer.W.T         # loss actual es Delta @ W_ original\n",
        "\n",
        "      #gradiente \n",
        "      layer.grad_b      = np.mean(layer.delta, axis=0, keepdims=True)\n",
        "      layer.grad_W      = layer.X.T @ layer.delta\n",
        "\n",
        "\n",
        "      #actualiza los pesos    con gradiente descendente\n",
        "      #lr_b = 1/(layer.n_salidas)\n",
        "      layer.b           = layer.b - layer.grad_b * lr\n",
        "\n",
        "      #lr = 1/(layer.n_entrada * layer.n_salidas)\n",
        "      layer.W           = layer.W - layer.grad_W * lr\n",
        "\n",
        "  #red[-1].activ                                          # ultima capa, activacion  \n",
        "  return red[-1].activa                                    # ultima capa, activacion "
      ],
      "metadata": {
        "id": "eVEbdqgOpx9U"
      },
      "execution_count": 21,
      "outputs": []
    },
    {
      "cell_type": "code",
      "source": [
        "#@title\n",
        "#funcion de entrenamiento\n",
        "def train(red, X, Y, l2_cost, lr=0.5, train=True):\n",
        "  #X = X_coord\n",
        "  #Y = Y_class\n",
        "  #lr = 0.5\n",
        "  #train = True\n",
        "\n",
        "  #primera capa de Entrada\n",
        "  red[0].X           = X.copy()                                   # X valor entrada primera capa\n",
        "\n",
        "  #forward\n",
        "  for l, layer in enumerate(red):                       # por cada capa de la primera hasta la ultima\n",
        "    if(l>0): layer.X = red[l-1].activ.copy()            # la salida de la anterior capa es la entrada de esta\n",
        "    #print(f\"forward l:{l} X:{layer.X.shape} x W:{layer.W.shape} + b:{layer.b.shape}\")\n",
        "    layer.neurona    = layer.X @ layer.W + layer.b         # neurona\n",
        "    layer.activ      = layer.act_f[func](layer.neurona)      # activacion\n",
        "\n",
        "  #calc loss en ultima capa\n",
        "  layer.loss      = l2_cost[func](layer.activ, Y)            # loss solo en ultima capa\n",
        "\n",
        "  if(train):\n",
        "\n",
        "\n",
        "    #gradiente desendente\n",
        "    #layer.grad_b   = np.mean(layer.delta, axis=0, keepdims=True)\n",
        "    #layer.grad_W   = layer.activ.T @ layer.delta\n",
        "    #layer.grad_W   = layer.X.T @ layer.delta\n",
        "\n",
        "    #actualiza los pesos\n",
        "    #layer.b        = layer.b - layer.grad_b * lr\n",
        "    #layer.W        = layer.W - layer.grad_W * lr\n",
        "\n",
        "\n",
        "    #backward\n",
        "    for l in reversed(range(0, len(red))):\n",
        "      layer         = red[l]                  # capa de la red\n",
        "      layer.W_      = layer.W.copy()          # respaldo W\n",
        "\n",
        "      #calc derivada activacion\n",
        "      layer.dactiv  = layer.act_f[derv](layer.activ)\n",
        "      #print(f\"dact l:{l} N:{layer.neurona.shape}  DACT{layer.dactiv.shape}  N:{layer.neurona}\")\n",
        "\n",
        "      #calc responsabilidad\n",
        "      if( l == len(red)-1):                   # ultima capa\n",
        "        #anticipa next layer loss\n",
        "        #layer.dactiv    = layer.act_f[derv](layer.activ)\n",
        "        layer.dloss     = l2_cost[derv](layer.activ, Y)\n",
        "        #layer.delta     = layer.dloss * layer.dactiv\n",
        "        #layer.W_        = layer.W.copy()          # respaldo W\n",
        "        #layer.loss_back = layer.delta @ layer.W.T         # loss actual es Delta @ W_ original anterior\n",
        "        None\n",
        "        #print(f\"last l:{l}\")\n",
        "        #layer.dloss = l2_cost[derv](layer.activ, Y)      l2_cost[derv](layer.activ, Y)\n",
        "        #layer.delta = layer.loss * layer.dactiv\n",
        "        #print(f\"backward l:{l} X:{layer.X.shape} x Y:{layer.b.shape} + D:{len(layer.delta)} \")\n",
        "        #print(f\"DATOS l:{l} L:{l2_cost[derv](layer.activ, Y)} x ACT_D:{layer.dactiv} + D:{layer.delta} \")\n",
        "      else :                                    # previas capas\n",
        "        ##W_      = red[l+1].W_             # del respaldo W anterior\n",
        "        ##delta   = red[l+1].delta          # delta previo\n",
        "        ##layer.loss = delta @ W_.T         # loss actual es Delta @ W_ original anterior\n",
        "\n",
        "        #copia loss arrastre precalculado\n",
        "        layer.dloss  = red[l+1].dloss_back         # loss actual es Delta @ W_ original anterior\n",
        "        #print(f\"otras l:{l}\")\n",
        "        #print(f\"delta l:{l} D:{red[l+1].delta}\")\n",
        "        #print(f\"delta l:{l} DDDDD:{delta}\")\n",
        "        #print(f\"DATOS l:{l} W:{W_.T} x ACT_D:{layer.dactiv} + D:{delta} \")\n",
        "        #print(f\"backwad l:{l} X:{layer.X.shape} x Y:{layer.b.shape} + D:{len(layer.delta)} Dx:{layer.delta.shape}\")\n",
        "        #layer.dloss = delta @ layer.W_.T \n",
        "        #layer.delta = delta @ layer.W_.T * layer.dactiv\n",
        "\n",
        "      #actualiza delta\n",
        "      layer.delta   = layer.dloss * layer.dactiv\n",
        "      #layer.delta  = layer.loss * layer.dactiv\n",
        "      #layer.delta  = layer.dloss * layer.dactiv\n",
        "      #print(f\"layer delta l:{l} DLOSS:{layer.dloss.shape} x DACT:{layer.dactiv.shape} + D:{len(layer.delta)} Dx:{layer.delta.shape}\")\n",
        "      #print(f\"layer delta l:{l} DLOSS:{layer.dloss} x DACT:{layer.dactiv} + D:{len(layer.delta)} Dx:{layer.delta}\")\n",
        "\n",
        "      #anticipa next layer loss\n",
        "      layer.dloss_back = layer.delta @ layer.W.T         # loss actual es Delta @ W_ original anterior\n",
        "\n",
        "      #gradiente desendente\n",
        "      layer.grad_b  = np.mean(layer.delta, axis=0, keepdims=True)\n",
        "      #layer.grad_W = layer.activ.T @ layer.delta\n",
        "      layer.grad_W  = layer.X.T @ layer.delta\n",
        "\n",
        "      #actualiza los pesos\n",
        "      layer.b       = layer.b - layer.grad_b * lr\n",
        "      layer.W       = layer.W - layer.grad_W * lr\n",
        "\n",
        "  #red[-1].activ                        # ultima capa, activacion  \n",
        "  return red[-1].activ                        # ultima capa, activacion  \n"
      ],
      "metadata": {
        "id": "eL0uj_9dnV-q",
        "cellView": "form"
      },
      "execution_count": null,
      "outputs": []
    },
    {
      "cell_type": "code",
      "source": [
        "#@title\n",
        "for l, layer in enumerate(red):\n",
        "  print(f\"Layer:{l} -> {vars(layer)} \\n\")\n",
        "  None\n",
        "#vars(red[0])"
      ],
      "metadata": {
        "cellView": "form",
        "id": "ntbt-ASCsusF"
      },
      "execution_count": null,
      "outputs": []
    },
    {
      "cell_type": "code",
      "source": [
        "#@title  Imprimir las propiedades de obj de forma organizada\n",
        "for l, layer in enumerate(red):\n",
        "  print(f\"\\nLayer: {l}\")\n",
        "  for key, value in vars(layer).items():\n",
        "    print(f\"{key}: {value}\")"
      ],
      "metadata": {
        "colab": {
          "base_uri": "https://localhost:8080/"
        },
        "id": "ocKwXRqywS0n",
        "outputId": "4224f2e6-658e-46f3-8559-39c5e39c725a"
      },
      "execution_count": null,
      "outputs": [
        {
          "output_type": "stream",
          "name": "stdout",
          "text": [
            "\n",
            "Layer: 0\n",
            "n_entrada: 2\n",
            "n_salidas: 4\n",
            "func_activacion: <function <lambda> at 0x7f91918bf160>\n",
            "deriv_activacion: <function <lambda> at 0x7f91913ad790>\n",
            "b: [[ 0.5594599  -0.42229982 -0.17436747 -0.74081021]]\n",
            "W: [[ 0.56028011  0.92007317  0.81272205 -0.00757879]\n",
            " [-0.34342012 -0.01406495 -0.39352347  0.57730892]]\n",
            "W_: [[ 0.56132769  0.92016929  0.81287633 -0.00784779]\n",
            " [-0.34255417 -0.01378073 -0.39350431  0.57720193]]\n",
            "X: [[-0.48871225 -0.17299248]\n",
            " [ 0.09575208 -0.388011  ]\n",
            " [ 0.51673007  0.01187517]\n",
            " [ 0.19163239  0.88559552]\n",
            " [-0.8060531  -0.56556721]\n",
            " [-0.81880723  0.55190512]\n",
            " [-0.29389596  0.26188468]\n",
            " [ 0.10444856  0.47017052]\n",
            " [ 0.34110359 -0.93188005]\n",
            " [ 1.03496643 -0.02271834]]\n",
            "neurona: [[ 0.34718277 -0.86889141 -0.50331807 -0.83769421]\n",
            " [ 0.74891428 -0.32812217  0.05638986 -0.96639007]\n",
            " [ 0.84823821  0.05373812  0.24123598 -0.73887875]\n",
            " [ 0.36645532 -0.25744729 -0.36684095 -0.23201437]\n",
            " [ 0.30352868 -1.15548874 -0.60679708 -1.06179868]\n",
            " [-0.08642537 -1.1826243  -1.05689479 -0.4166914 ]\n",
            " [ 0.30756957 -0.69562037 -0.51608256 -0.58821115]\n",
            " [ 0.45982219 -0.33194631 -0.2742391  -0.47111428]\n",
            " [ 1.07294149 -0.09486233  0.46984511 -1.2822378 ]\n",
            " [ 1.15098878  0.53108003  0.67611074 -0.7629132 ]]\n",
            "activa: [[0.58593424 0.29548503 0.37676123 0.30202063]\n",
            " [0.67894208 0.4186976  0.51409373 0.27560062]\n",
            " [0.70019744 0.5134313  0.56001821 0.32324938]\n",
            " [0.59060218 0.43599132 0.40930458 0.44225521]\n",
            " [0.57530491 0.23948797 0.35279017 0.25696588]\n",
            " [0.4784071  0.23458067 0.25790331 0.39730874]\n",
            " [0.57629191 0.33278396 0.37376872 0.35704541]\n",
            " [0.61297199 0.41776713 0.4318667  0.38435254]\n",
            " [0.7451559  0.47630219 0.6153471  0.21716954]\n",
            " [0.75969147 0.62973498 0.6628701  0.31801411]]\n",
            "dactiva: [[0.24261531 0.20817363 0.2348122  0.21080417]\n",
            " [0.21797973 0.24338992 0.24980137 0.19964492]\n",
            " [0.20992099 0.2498196  0.24639781 0.21875922]\n",
            " [0.24179124 0.24590289 0.24177434 0.24666554]\n",
            " [0.24432917 0.18213348 0.22832927 0.19093441]\n",
            " [0.24953375 0.17955258 0.19138919 0.23945451]\n",
            " [0.24417954 0.2220388  0.23406566 0.22956398]\n",
            " [0.23723733 0.24323776 0.24535785 0.23662567]\n",
            " [0.18989858 0.24943841 0.23669505 0.17000693]\n",
            " [0.18256034 0.23316884 0.22347333 0.21688114]]\n",
            "loss: []\n",
            "dloss: [[ 0.07817063  0.01989115  0.00785289 -0.0252677 ]\n",
            " [ 0.07529618  0.0179514   0.00469738 -0.02376125]\n",
            " [ 0.07428387  0.0173444   0.00345686 -0.02394361]\n",
            " [-0.03007765 -0.0077152  -0.00263258  0.01052523]\n",
            " [-0.03074642 -0.00783793 -0.00331733  0.00967217]\n",
            " [-0.03420768 -0.00907352 -0.00433183  0.01147113]\n",
            " [ 0.07819405  0.0200667   0.00778958 -0.02607512]\n",
            " [ 0.07696214  0.019395    0.00638933 -0.02607569]\n",
            " [-0.02493871 -0.00553937 -0.00081241  0.00743765]\n",
            " [-0.02432822 -0.00528123 -0.00031341  0.00763483]]\n",
            "dloss_back: [[ 0.01599676 -0.01035383]\n",
            " [ 0.01422455 -0.00888245]\n",
            " [ 0.01347375 -0.0087599 ]\n",
            " [-0.00636576  0.00426637]\n",
            " [-0.00616062  0.00395703]\n",
            " [-0.00698608  0.00485819]\n",
            " [ 0.01634661 -0.01077447]\n",
            " [ 0.01591262 -0.01049779]\n",
            " [-0.00409601  0.00244683]\n",
            " [-0.0036961   0.0025217 ]]\n",
            "delta: [[ 1.89653917e-02  4.14081229e-03  1.84395524e-03 -5.32653741e-03]\n",
            " [ 1.64130404e-02  4.36919006e-03  1.17341085e-03 -4.74381249e-03]\n",
            " [ 1.55937438e-02  4.33297070e-03  8.51762060e-04 -5.23788514e-03]\n",
            " [-7.27251232e-03 -1.89719062e-03 -6.36489731e-04  2.59621262e-03]\n",
            " [-7.51224717e-03 -1.42754951e-03 -7.57443960e-04  1.84674964e-03]\n",
            " [-8.53597154e-03 -1.62917375e-03 -8.29065948e-04  2.74681340e-03]\n",
            " [ 1.90933881e-02  4.45558493e-03  1.82327402e-03 -5.98590839e-03]\n",
            " [ 1.82582928e-02  4.71759551e-03  1.56767122e-03 -6.17017728e-03]\n",
            " [-4.73582620e-03 -1.38173125e-03 -1.92294015e-04  1.26445139e-03]\n",
            " [-4.44136897e-03 -1.23141820e-03 -7.00391236e-05  1.65585043e-03]]\n",
            "grad_W: [[ 2.09516369e-03  1.92244002e-04  3.08545080e-04 -5.38002378e-04]\n",
            " [ 1.73189728e-03  5.68421250e-04  3.83218349e-05 -2.13973186e-04]]\n",
            "grad_b: [[ 0.00558259  0.00144491  0.00047747 -0.00173542]]\n",
            "\n",
            "Layer: 1\n",
            "n_entrada: 4\n",
            "n_salidas: 8\n",
            "func_activacion: <function <lambda> at 0x7f91918bf160>\n",
            "deriv_activacion: <function <lambda> at 0x7f91913ad790>\n",
            "b: [[-0.39274598 -0.31960641  0.56799577 -0.12452403  0.75691198  0.30341832\n",
            "   0.08994607 -0.40486754]]\n",
            "W: [[ 0.24225172 -0.29799206  0.06976464 -0.45348421  0.43024173 -0.82667689\n",
            "   0.83899374 -0.92566402]\n",
            " [ 0.71963245 -0.59413869  0.08920586  0.04724338 -0.52604718 -0.29611302\n",
            "  -0.19825681  0.79474564]\n",
            " [ 0.13950908 -0.7079339   0.85698335  0.26858436 -0.40018603  0.700657\n",
            "   0.60257958 -0.94062434]\n",
            " [-0.09984114  0.99858736 -0.94015662 -0.28401578 -0.27127784  0.35380637\n",
            "   0.84285439  0.63748786]]\n",
            "W_: [[ 0.25670376 -0.32723728  0.07194961 -0.46378558  0.45918222 -0.85552856\n",
            "   0.863187   -0.92466487]\n",
            " [ 0.72866594 -0.61246085  0.09057318  0.04080672 -0.50798072 -0.31413951\n",
            "  -0.18310286  0.79537058]\n",
            " [ 0.14982508 -0.72887892  0.85854647  0.26123421 -0.3795474   0.68007088\n",
            "   0.61988156 -0.93990949]\n",
            " [-0.09243513  0.98372387 -0.93904393 -0.2892985  -0.25643276  0.33901188\n",
            "   0.85520855  0.63799593]]\n",
            "X: [[0.58593424 0.29548503 0.37676123 0.30202063]\n",
            " [0.67894208 0.4186976  0.51409373 0.27560062]\n",
            " [0.70019744 0.5134313  0.56001821 0.32324938]\n",
            " [0.59060218 0.43599132 0.40930458 0.44225521]\n",
            " [0.57530491 0.23948797 0.35279017 0.25696588]\n",
            " [0.4784071  0.23458067 0.25790331 0.39730874]\n",
            " [0.57629191 0.33278396 0.37376872 0.35704541]\n",
            " [0.61297199 0.41776713 0.4318667  0.38435254]\n",
            " [0.7451559  0.47630219 0.6153471  0.21716954]\n",
            " [0.75969147 0.62973498 0.6628701  0.31801411]]\n",
            "neurona: [[ 0.00377245 -0.67439589  0.67711461 -0.37478104  0.6599566   0.06339887\n",
            "   1.0372358  -0.87291757]\n",
            " [ 0.1404467  -0.90638316  0.83768213 -0.36936961  0.5947253   0.02956121\n",
            "   1.15749365 -1.00685498]\n",
            " [ 0.21740847 -0.95795955  0.8424758  -0.37714944  0.52671326  0.02900244\n",
            "   1.22771235 -0.96392581]\n",
            " [ 0.09926609 -0.64774608  0.58643012 -0.40328058  0.54241306  0.0849397\n",
            "   1.15564083 -0.70659799]\n",
            " [-0.03918611 -0.66347101  0.69300614 -0.36536415  0.70417289  0.05850734\n",
            "   0.98492348 -0.91384154]\n",
            " [-0.09482497 -0.42153725  0.47233701 -0.38601327  0.66219751  0.12599587\n",
            "   0.9633849  -0.64942342]\n",
            " [ 0.02294111 -0.63777434  0.62555925 -0.38548735  0.62360752  0.07655002\n",
            "   1.06728577 -0.7964169 ]\n",
            " [ 0.10046177 -0.71731     0.66013278 -0.39175389  0.56822717  0.06724078\n",
            "   1.14275405 -0.79992558]\n",
            " [ 0.21998992 -1.09461284  0.98946369 -0.35437311  0.57242068  0.00386815\n",
            "   1.21689533 -1.15471137]\n",
            " [ 0.33332106 -1.1287763   0.95050964 -0.37161296  0.45725717  0.00973977\n",
            "   1.31705004 -1.02644487]]\n",
            "activa: [[0.50094311 0.33751323 0.66309441 0.40738626 0.65925064 0.51584441\n",
            "  0.7383163  0.29464758]\n",
            " [0.53505407 0.28774052 0.69797682 0.40869335 0.64444861 0.50738976\n",
            "  0.760877   0.26759579]\n",
            " [0.55413904 0.27728691 0.69898639 0.4068146  0.62871621 0.5072501\n",
            "  0.77341793 0.27609287]\n",
            " [0.52479616 0.34349763 0.64254563 0.4005244  0.63237358 0.52122217\n",
            "  0.76053973 0.330351  ]\n",
            " [0.49020472 0.33996033 0.66663532 0.40966168 0.66911231 0.51462266\n",
            "  0.72808405 0.28621438]\n",
            " [0.4763115  0.39614896 0.61593675 0.40467739 0.65975386 0.53145736\n",
            "  0.72379901 0.34311948]\n",
            " [0.50573503 0.34574983 0.65148185 0.4048041  0.65103858 0.51912817\n",
            "  0.7440804  0.3107925 ]\n",
            " [0.52509434 0.32798561 0.65929021 0.40329516 0.638354   0.51680386\n",
            "  0.75818493 0.31004144]\n",
            " [0.55477675 0.25075065 0.72898198 0.41232236 0.63932155 0.50096704\n",
            "  0.77151672 0.23962958]\n",
            " [0.58256722 0.244387   0.72121766 0.40815133 0.6123633  0.50243492\n",
            "  0.78869049 0.26377392]]\n",
            "dactiva: [[0.24999911 0.22359805 0.22340021 0.2414227  0.22463923 0.24974895\n",
            "  0.19320534 0.20783038]\n",
            " [0.24877121 0.20494592 0.21080518 0.2416631  0.2291346  0.24994539\n",
            "  0.18194319 0.19598828]\n",
            " [0.24706896 0.20039888 0.21040442 0.24131648 0.23343214 0.24994744\n",
            "  0.17524264 0.1998656 ]\n",
            " [0.24938515 0.22550701 0.22968074 0.24010461 0.23247724 0.24954962\n",
            "  0.18211905 0.22121922]\n",
            " [0.24990405 0.2243873  0.22223267 0.24183899 0.22140103 0.24978618\n",
            "  0.19797767 0.20429571]\n",
            " [0.24943886 0.23921496 0.23655867 0.2409136  0.22447871 0.24901043\n",
            "  0.19991401 0.2253885 ]\n",
            " [0.24996711 0.22620688 0.22705325 0.24093774 0.22718735 0.24963411\n",
            "  0.19042476 0.21420052]\n",
            " [0.24937027 0.22041105 0.22462663 0.24064817 0.23085817 0.24971763\n",
            "  0.18334054 0.21391575]\n",
            " [0.24699951 0.18787476 0.19756725 0.24231263 0.23058951 0.24999906\n",
            "  0.17627867 0.18220725]\n",
            " [0.24318265 0.18466199 0.20106275 0.24156382 0.23737449 0.24999407\n",
            "  0.1666578  0.19419724]]\n",
            "loss: []\n",
            "dloss: [[ 0.05862957 -0.13690715  0.01005589 -0.04328505  0.12802791 -0.11698105\n",
            "   0.13264932  0.00489656]\n",
            " [ 0.05781258 -0.13499936  0.00991576 -0.04268187  0.12624385 -0.11535093\n",
            "   0.13080087  0.00482832]\n",
            " [ 0.05761518 -0.13453842  0.0098819  -0.04253614  0.1258128  -0.11495707\n",
            "   0.13035426  0.00481184]\n",
            " [-0.02280237  0.05324629 -0.00391096  0.01683453 -0.04979295  0.04549658\n",
            "  -0.05159032 -0.00190438]\n",
            " [-0.02293801  0.05356303 -0.00393423  0.01693468 -0.05008915  0.04576722\n",
            "  -0.05189722 -0.00191571]\n",
            " [-0.02523809  0.058934   -0.00432873  0.01863278 -0.05511178  0.05035647\n",
            "  -0.05710115 -0.00210781]\n",
            " [ 0.05872197 -0.1371229   0.01007173 -0.04335326  0.12822967 -0.1171654\n",
            "   0.13285837  0.00490427]\n",
            " [ 0.05844204 -0.13646923  0.01002372 -0.04314659  0.12761839 -0.11660686\n",
            "   0.13222502  0.0048809 ]\n",
            " [-0.0194753   0.04547718 -0.00334032  0.01437823 -0.04252772  0.03885822\n",
            "  -0.04406284 -0.00162652]\n",
            " [-0.01924759  0.04494546 -0.00330126  0.01421011 -0.04203048  0.03840389\n",
            "  -0.04354765 -0.0016075 ]]\n",
            "dloss_back: [[ 0.07817063  0.01989115  0.00785289 -0.0252677 ]\n",
            " [ 0.07529618  0.0179514   0.00469738 -0.02376125]\n",
            " [ 0.07428387  0.0173444   0.00345686 -0.02394361]\n",
            " [-0.03007765 -0.0077152  -0.00263258  0.01052523]\n",
            " [-0.03074642 -0.00783793 -0.00331733  0.00967217]\n",
            " [-0.03420768 -0.00907352 -0.00433183  0.01147113]\n",
            " [ 0.07819405  0.0200667   0.00778958 -0.02607512]\n",
            " [ 0.07696214  0.019395    0.00638933 -0.02607569]\n",
            " [-0.02493871 -0.00553937 -0.00081241  0.00743765]\n",
            " [-0.02432822 -0.00528123 -0.00031341  0.00763483]]\n",
            "delta: [[ 0.01465734 -0.03061217  0.00224649 -0.01044999  0.02876009 -0.02921589\n",
            "   0.02562856  0.00101765]\n",
            " [ 0.0143821  -0.02766757  0.00209029 -0.01031463  0.02892683 -0.02883143\n",
            "   0.02379833  0.0009463 ]\n",
            " [ 0.01423492 -0.02696135  0.0020792  -0.01026467  0.02936875 -0.02873322\n",
            "   0.02284362  0.00096172]\n",
            " [-0.00568657  0.01200741 -0.00089827  0.00404205 -0.01157573  0.01135365\n",
            "  -0.00939558 -0.00042129]\n",
            " [-0.0057323   0.01201886 -0.00087431  0.00409547 -0.01108979  0.01143202\n",
            "  -0.01027449 -0.00039137]\n",
            " [-0.00629536  0.0140979  -0.001024    0.00448889 -0.01237142  0.01253929\n",
            "  -0.01141532 -0.00047508]\n",
            " [ 0.01467856 -0.03101814  0.00228682 -0.01044544  0.02913216 -0.02924848\n",
            "   0.02529952  0.0010505 ]\n",
            " [ 0.01457371 -0.03007933  0.00225159 -0.01038315  0.02946175 -0.02911879\n",
            "   0.02424221  0.0010441 ]\n",
            " [-0.00481039  0.00854402 -0.00065994  0.00348403 -0.00980645  0.00971452\n",
            "  -0.00776734 -0.00029636]\n",
            " [-0.00468068  0.00829972 -0.00066376  0.00343265 -0.00997696  0.00960074\n",
            "  -0.00725756 -0.00031217]]\n",
            "grad_W: [[ 0.02890409 -0.05849046  0.00436995 -0.02060275  0.05788096 -0.05770335\n",
            "   0.04838652  0.00199831]\n",
            " [ 0.01806697 -0.03664433  0.00273463 -0.01287332  0.03613292 -0.03605297\n",
            "   0.0303079   0.00124988]\n",
            " [ 0.02063199 -0.04189003  0.00312623 -0.0147003   0.04127727 -0.04117223\n",
            "   0.03460397  0.00142971]\n",
            " [ 0.014812   -0.02972697  0.00222539 -0.01056542  0.02969015 -0.02958899\n",
            "   0.02470833  0.00101613]]\n",
            "grad_b: [[ 0.00453213 -0.00913707  0.00068341 -0.00323148  0.00908292 -0.00905076\n",
            "   0.0075702   0.0003124 ]]\n",
            "\n",
            "Layer: 2\n",
            "n_entrada: 8\n",
            "n_salidas: 1\n",
            "func_activacion: <function <lambda> at 0x7f91918bf160>\n",
            "deriv_activacion: <function <lambda> at 0x7f91913ad790>\n",
            "b: [[-0.26504941]]\n",
            "W: [[-0.28604709]\n",
            " [ 1.01362923]\n",
            " [ 0.08255864]\n",
            " [ 0.38946077]\n",
            " [-0.7375312 ]\n",
            " [ 0.92123104]\n",
            " [-0.74424747]\n",
            " [ 0.03124633]]\n",
            "W_: [[-0.40405706]\n",
            " [ 0.94352212]\n",
            " [-0.06930209]\n",
            " [ 0.29830727]\n",
            " [-0.88232912]\n",
            " [ 0.80619752]\n",
            " [-0.91417848]\n",
            " [-0.03374558]]\n",
            "X: [[0.50094311 0.33751323 0.66309441 0.40738626 0.65925064 0.51584441\n",
            "  0.7383163  0.29464758]\n",
            " [0.53505407 0.28774052 0.69797682 0.40869335 0.64444861 0.50738976\n",
            "  0.760877   0.26759579]\n",
            " [0.55413904 0.27728691 0.69898639 0.4068146  0.62871621 0.5072501\n",
            "  0.77341793 0.27609287]\n",
            " [0.52479616 0.34349763 0.64254563 0.4005244  0.63237358 0.52122217\n",
            "  0.76053973 0.330351  ]\n",
            " [0.49020472 0.33996033 0.66663532 0.40966168 0.66911231 0.51462266\n",
            "  0.72808405 0.28621438]\n",
            " [0.4763115  0.39614896 0.61593675 0.40467739 0.65975386 0.53145736\n",
            "  0.72379901 0.34311948]\n",
            " [0.50573503 0.34574983 0.65148185 0.4048041  0.65103858 0.51912817\n",
            "  0.7440804  0.3107925 ]\n",
            " [0.52509434 0.32798561 0.65929021 0.40329516 0.638354   0.51680386\n",
            "  0.75818493 0.31004144]\n",
            " [0.55477675 0.25075065 0.72898198 0.41232236 0.63932155 0.50096704\n",
            "  0.77151672 0.23962958]\n",
            " [0.58256722 0.244387   0.72121766 0.40815133 0.6123633  0.50243492\n",
            "  0.78869049 0.26377392]]\n",
            "neurona: [[-0.94659701]\n",
            " [-1.02283642]\n",
            " [-1.03902429]\n",
            " [-0.94468252]\n",
            " [-0.93956333]\n",
            " [-0.85508147]\n",
            " [-0.93664845]\n",
            " [-0.96577349]\n",
            " [-1.07620954]\n",
            " [-1.08569408]]\n",
            "activa: [[0.27956971]\n",
            " [0.26447527]\n",
            " [0.2613383 ]\n",
            " [0.27995547]\n",
            " [0.28098856]\n",
            " [0.29836799]\n",
            " [0.28157784]\n",
            " [0.27572374]\n",
            " [0.254224  ]\n",
            " [0.25242998]]\n",
            "dactiva: [[0.20141049]\n",
            " [0.1945281 ]\n",
            " [0.19304059]\n",
            " [0.2015804 ]\n",
            " [0.20203399]\n",
            " [0.20934453]\n",
            " [0.20229176]\n",
            " [0.19970016]\n",
            " [0.18959416]\n",
            " [0.18870908]]\n",
            "loss: 0.3021047877934607\n",
            "dloss: [[-0.72043029]\n",
            " [-0.73552473]\n",
            " [-0.7386617 ]\n",
            " [ 0.27995547]\n",
            " [ 0.28098856]\n",
            " [ 0.29836799]\n",
            " [-0.71842216]\n",
            " [-0.72427626]\n",
            " [ 0.254224  ]\n",
            " [ 0.25242998]]\n",
            "dloss_back: [[ 0.05862957 -0.13690715  0.01005589 -0.04328505  0.12802791 -0.11698105\n",
            "   0.13264932  0.00489656]\n",
            " [ 0.05781258 -0.13499936  0.00991576 -0.04268187  0.12624385 -0.11535093\n",
            "   0.13080087  0.00482832]\n",
            " [ 0.05761518 -0.13453842  0.0098819  -0.04253614  0.1258128  -0.11495707\n",
            "   0.13035426  0.00481184]\n",
            " [-0.02280237  0.05324629 -0.00391096  0.01683453 -0.04979295  0.04549658\n",
            "  -0.05159032 -0.00190438]\n",
            " [-0.02293801  0.05356303 -0.00393423  0.01693468 -0.05008915  0.04576722\n",
            "  -0.05189722 -0.00191571]\n",
            " [-0.02523809  0.058934   -0.00432873  0.01863278 -0.05511178  0.05035647\n",
            "  -0.05710115 -0.00210781]\n",
            " [ 0.05872197 -0.1371229   0.01007173 -0.04335326  0.12822967 -0.1171654\n",
            "   0.13285837  0.00490427]\n",
            " [ 0.05844204 -0.13646923  0.01002372 -0.04314659  0.12761839 -0.11660686\n",
            "   0.13222502  0.0048809 ]\n",
            " [-0.0194753   0.04547718 -0.00334032  0.01437823 -0.04252772  0.03885822\n",
            "  -0.04406284 -0.00162652]\n",
            " [-0.01924759  0.04494546 -0.00330126  0.01421011 -0.04203048  0.03840389\n",
            "  -0.04354765 -0.0016075 ]]\n",
            "delta: [[-0.14510222]\n",
            " [-0.14308023]\n",
            " [-0.14259169]\n",
            " [ 0.05643354]\n",
            " [ 0.05676924]\n",
            " [ 0.06246171]\n",
            " [-0.14533088]\n",
            " [-0.14463808]\n",
            " [ 0.04819938]\n",
            " [ 0.04763583]]\n",
            "grad_W: [[-0.23601994]\n",
            " [-0.14021423]\n",
            " [-0.30372146]\n",
            " [-0.182307  ]\n",
            " [-0.28959584]\n",
            " [-0.23006705]\n",
            " [-0.33986203]\n",
            " [-0.12998382]]\n",
            "grad_b: [[-0.04492434]]\n"
          ]
        }
      ]
    },
    {
      "cell_type": "code",
      "source": [
        "#@title\n",
        "layer.W.shape, layer.grad_W.shape"
      ],
      "metadata": {
        "colab": {
          "base_uri": "https://localhost:8080/"
        },
        "cellView": "form",
        "collapsed": true,
        "id": "Chm7PXUNYhsp",
        "outputId": "53007f23-65c8-4f3a-9911-6f3db2596bcc"
      },
      "execution_count": null,
      "outputs": [
        {
          "output_type": "execute_result",
          "data": {
            "text/plain": [
              "((4, 8), (8, 8))"
            ]
          },
          "metadata": {},
          "execution_count": 50
        }
      ]
    },
    {
      "cell_type": "code",
      "source": [
        "#@title\n",
        "layer.activ.T.shape, layer.delta.shape"
      ],
      "metadata": {
        "colab": {
          "base_uri": "https://localhost:8080/"
        },
        "cellView": "form",
        "collapsed": true,
        "id": "Ju5c3RjWZEQZ",
        "outputId": "39ee5b1b-4c8b-4239-d2c4-d61ec39995e8"
      },
      "execution_count": null,
      "outputs": [
        {
          "output_type": "execute_result",
          "data": {
            "text/plain": [
              "((8, 10), (10, 8))"
            ]
          },
          "metadata": {},
          "execution_count": 52
        }
      ]
    },
    {
      "cell_type": "code",
      "source": [
        "#@title\n",
        "layer.activ.T @ layer.delta"
      ],
      "metadata": {
        "colab": {
          "base_uri": "https://localhost:8080/"
        },
        "cellView": "form",
        "collapsed": true,
        "id": "4Xy2ofDJZH-2",
        "outputId": "883086a7-8925-41ab-f32c-3129502489f3"
      },
      "execution_count": null,
      "outputs": [
        {
          "output_type": "execute_result",
          "data": {
            "text/plain": [
              "array([[ 0.05229722, -0.05792131, -0.02364503, -0.01670879,  0.05328396,\n",
              "         0.02234197, -0.04943139,  0.04967762],\n",
              "       [ 0.04769252, -0.05289323, -0.02157925, -0.015254  ,  0.0488222 ,\n",
              "         0.02039752, -0.04509285,  0.04542674],\n",
              "       [ 0.07208785, -0.07987288, -0.03257746, -0.02299602,  0.07351057,\n",
              "         0.03079684, -0.06814321,  0.06838859],\n",
              "       [ 0.02434608, -0.02698204, -0.01104183, -0.00784034,  0.02491848,\n",
              "         0.01042023, -0.02301614,  0.02334956],\n",
              "       [ 0.07547871, -0.08358167, -0.03410978, -0.02408724,  0.07683365,\n",
              "         0.032235  , -0.07133961,  0.07159108],\n",
              "       [ 0.04404607, -0.04882902, -0.01994642, -0.01412408,  0.04506459,\n",
              "         0.01884131, -0.04164186,  0.04205568],\n",
              "       [ 0.05445094, -0.06038003, -0.02463846, -0.01741962,  0.05571879,\n",
              "         0.02328669, -0.05148135,  0.05186929],\n",
              "       [ 0.08049324, -0.08917272, -0.03635646, -0.02564269,  0.08200853,\n",
              "         0.03437604, -0.0760857 ,  0.07623466]])"
            ]
          },
          "metadata": {},
          "execution_count": 53
        }
      ]
    },
    {
      "cell_type": "code",
      "source": [
        "#@title\n",
        "delta @  layer.W_.T"
      ],
      "metadata": {
        "cellView": "form",
        "id": "K3mSJBkG6kgI"
      },
      "execution_count": null,
      "outputs": []
    },
    {
      "cell_type": "code",
      "source": [
        "#@title\n",
        " layer.W_.T"
      ],
      "metadata": {
        "colab": {
          "base_uri": "https://localhost:8080/"
        },
        "cellView": "form",
        "collapsed": true,
        "id": "11_Q4eC-6pgD",
        "outputId": "4cac0fce-7df4-4ca1-c4e4-3ffeeec86fdc"
      },
      "execution_count": null,
      "outputs": [
        {
          "output_type": "execute_result",
          "data": {
            "text/plain": [
              "array([[-0.6611457 ,  0.62973521,  0.39368762, -0.50317098],\n",
              "       [ 0.1459031 , -0.518754  ,  0.04397627, -0.52233526],\n",
              "       [ 0.51669848,  0.84256351,  0.9832069 ,  0.77593359],\n",
              "       [-0.97418716,  0.46128924, -0.35193395, -0.34988308],\n",
              "       [-0.00491423,  0.50726172,  0.64407747, -0.82245804],\n",
              "       [-0.41895597,  0.77629002, -0.92309638,  0.97469166],\n",
              "       [ 0.78942643,  0.03530997,  0.96242662, -0.38597567],\n",
              "       [ 0.49085145,  0.00472411,  0.26400078,  0.15931611]])"
            ]
          },
          "metadata": {},
          "execution_count": 13
        }
      ]
    },
    {
      "cell_type": "code",
      "source": [
        "#@title\n",
        "layer.W_ * layer.dactiv.T"
      ],
      "metadata": {
        "cellView": "form",
        "id": "kGrfAKVc6uJ2"
      },
      "execution_count": null,
      "outputs": []
    },
    {
      "cell_type": "code",
      "source": [
        "#@title\n",
        "red[2].X"
      ],
      "metadata": {
        "id": "Uemd6at2UVai",
        "cellView": "form"
      },
      "execution_count": null,
      "outputs": []
    },
    {
      "cell_type": "code",
      "source": [
        "#@title\n",
        "red[2].dloss, red[2].dactiv"
      ],
      "metadata": {
        "id": "B8DKr5tgTjm_",
        "cellView": "form"
      },
      "execution_count": null,
      "outputs": []
    },
    {
      "cell_type": "code",
      "source": [
        "#@title\n",
        "l, red[2].delta"
      ],
      "metadata": {
        "id": "qWxEYjVvS3ud",
        "cellView": "form"
      },
      "execution_count": null,
      "outputs": []
    },
    {
      "cell_type": "code",
      "source": [
        "#@title\n",
        "red[2].dloss , red[2].dactiv"
      ],
      "metadata": {
        "id": "EL6NQ0CCTW_I",
        "cellView": "form"
      },
      "execution_count": null,
      "outputs": []
    },
    {
      "cell_type": "code",
      "source": [
        "#@title\n",
        "layer.W_.shape, delta.shape, layer.dloss.shape, layer.activ.shape, layer.neurona.shape"
      ],
      "metadata": {
        "colab": {
          "base_uri": "https://localhost:8080/"
        },
        "id": "t3QCHvU6JBa7",
        "outputId": "efec1ffe-07ed-4bd1-be68-3f34c3189be8",
        "cellView": "form",
        "collapsed": true
      },
      "execution_count": null,
      "outputs": [
        {
          "output_type": "execute_result",
          "data": {
            "text/plain": [
              "((8, 1), (10, 1), (10, 1), (10, 1), (10, 1))"
            ]
          },
          "metadata": {},
          "execution_count": 44
        }
      ]
    },
    {
      "cell_type": "code",
      "source": [
        "#@title\n",
        "red[0]"
      ],
      "metadata": {
        "id": "zZ4JUfKDKe4r",
        "cellView": "form"
      },
      "execution_count": null,
      "outputs": []
    },
    {
      "cell_type": "code",
      "source": [
        "#@title imprimir formas de capas\n",
        "for l, layer in enumerate(red):\n",
        "  print(f\"capa: {l}, X:{layer.X.shape}, W:{layer.W.shape}, b:{layer.b.shape}, N:{layer.neurona.shape}, A:{layer.activa.shape}, D:{layer.delta.shape}, GW:{layer.grad_W.shape}, Gb:{layer.grad_b.shape}, DlB:{layer.dloss_back.shape}\")\n",
        "  #for param in enumerate(layer):\n",
        "  #   print(param[0])\n"
      ],
      "metadata": {
        "colab": {
          "base_uri": "https://localhost:8080/"
        },
        "id": "WrO38YSm58Hy",
        "outputId": "e9d12170-f80d-45b7-949b-dc11ccf64584"
      },
      "execution_count": null,
      "outputs": [
        {
          "output_type": "stream",
          "name": "stdout",
          "text": [
            "capa: 0, X:(10, 2), W:(2, 4), b:(1, 4), N:(10, 4), A:(10, 4), D:(10, 4), GW:(2, 4), Gb:(1, 4), DlB:(10, 2)\n",
            "capa: 1, X:(10, 4), W:(4, 8), b:(1, 8), N:(10, 8), A:(10, 8), D:(10, 8), GW:(4, 8), Gb:(1, 8), DlB:(10, 4)\n",
            "capa: 2, X:(10, 8), W:(8, 0), b:(1, 0), N:(10, 0), A:(10, 0), D:(10, 0), GW:(8, 0), Gb:(1, 0), DlB:(10, 8)\n"
          ]
        }
      ]
    },
    {
      "cell_type": "code",
      "source": [
        "len(red)"
      ],
      "metadata": {
        "colab": {
          "base_uri": "https://localhost:8080/"
        },
        "id": "38xNu1di5oFr",
        "outputId": "b8cc7620-0bb6-44d8-cbd2-5bfdab53e299"
      },
      "execution_count": null,
      "outputs": [
        {
          "output_type": "execute_result",
          "data": {
            "text/plain": [
              "3"
            ]
          },
          "metadata": {},
          "execution_count": 27
        }
      ]
    },
    {
      "cell_type": "code",
      "source": [
        "#@title\n",
        "for l in reversed(range(0, len(red))):\n",
        " print(l)"
      ],
      "metadata": {
        "colab": {
          "base_uri": "https://localhost:8080/"
        },
        "id": "uVXsCQbG5e97",
        "outputId": "2cddf98f-cab4-4148-f5d3-ac20987070e4",
        "cellView": "form",
        "collapsed": true
      },
      "execution_count": null,
      "outputs": [
        {
          "output_type": "stream",
          "name": "stdout",
          "text": [
            "2\n",
            "1\n",
            "0\n"
          ]
        }
      ]
    },
    {
      "cell_type": "code",
      "source": [
        "#@title\n",
        "red[1].delta, l, len(red)-1\n"
      ],
      "metadata": {
        "colab": {
          "base_uri": "https://localhost:8080/"
        },
        "id": "esaTSg_O5JpU",
        "outputId": "00067ad4-5404-4f26-aa54-f36dfd53c29b",
        "cellView": "form",
        "collapsed": true
      },
      "execution_count": null,
      "outputs": [
        {
          "output_type": "execute_result",
          "data": {
            "text/plain": [
              "([], 1, 2)"
            ]
          },
          "metadata": {},
          "execution_count": 24
        }
      ]
    },
    {
      "cell_type": "code",
      "source": [
        "#@title funcion de entrenamiento orig\n",
        "def train(red, X, Y, l2_cost, lr=0.5, train=True):\n",
        "  #X = X_coord\n",
        "  #Y = Y_class\n",
        "  #lr = 0.5\n",
        "  #train = True\n",
        "\n",
        "  #out = [(z0, a0), (z1, a1)]   Neurona y Activacion\n",
        "  neur = 0  # pos 0 en arr\n",
        "  actv = 1  # pos 1 en arr\n",
        "  out = [(None, X)] # X valor entrada primera capa\n",
        "\n",
        "  #forward\n",
        "  for l, layer in enumerate(red): #[:-1]):    # por cada capa de la primera hasta la penultima\n",
        "    #print(l, layer)\n",
        "    x_ = out[l][actv] # nueva entrada para esta capa\n",
        "    #print(f\"forward l:{l} X:{x_.shape} x W:{layer.W.shape} + b:{layer.b.shape}\")\n",
        "    z = x_ @ red[l].W + red[l].b  # neurona\n",
        "    a = red[l].act_f[func](z)     # activacion\n",
        "    out.append((z, a))            # salida de esta y entrada proxima capa\n",
        "  #print(out)\n",
        "  #print(l2_cost[func](out[-1][actv], Y))\n",
        "\n",
        "  #print(\"AAA\", out)\n",
        "  #print(\"BBB\", out[-1])\n",
        "  #print(\"CCC\", out[-1][actv])\n",
        "\n",
        "  if(train):\n",
        "    #backward\n",
        "    deltas = []   # insertara en la prim posicion [0]\n",
        "    #for l in reversed(range(0, len(red))):\n",
        "    for l in reversed(range(0, len(red))):\n",
        "      z = out[l+1][neur]    # neurona ultima capa\n",
        "      a = out[l+1][actv]    # activacion ultima capa\n",
        "\n",
        "      if( l == len(red)-1): # ultima capa\n",
        "        #print(f\"LAST:{l}\")\n",
        "        deltas.insert(0, l2_cost[derv](a, Y) * red[l].act_f[derv](a) )\n",
        "        #print(f\"DELTAS: {deltas[0]} L:{l2_cost[derv](a, Y)} ACTderv:{red[l].act_f[derv](a)}\")\n",
        "      else :                # previas capas\n",
        "        #print(f\"OTROS:{l}\")\n",
        "        deltas.insert(0, deltas[0] @  w_.T  *  red[l].act_f[derv](a) )\n",
        "        #print(f\"DELTAS: {deltas[0]} W:{w_.T} ACTderv:{red[l].act_f[derv](a)}\")\n",
        "      #print(f\"backward l:{l} X:{a.shape} x Y:{Y.shape} + D:{len(deltas)} Dx:{deltas[0].shape}\")\n",
        "\n",
        "      w_ = red[l].W.copy()\n",
        "      #gradiente desc\n",
        "      red[l].b = red[l].b - np.mean(deltas[0], axis=0, keepdims=True) * lr \n",
        "      red[l].W = red[l].W - out[l][actv].T @ deltas[0] * lr \n",
        "\n",
        "  #out[-1][actv]   # ultima capa, activacion  \n",
        "  return out[-1][actv]   # ultima capa, activacion  \n"
      ],
      "metadata": {
        "id": "FZsGFOIqp9B7",
        "cellView": "form"
      },
      "execution_count": null,
      "outputs": []
    },
    {
      "cell_type": "code",
      "source": [
        "#@title\n",
        "deltas[2].shape"
      ],
      "metadata": {
        "colab": {
          "base_uri": "https://localhost:8080/"
        },
        "id": "P6fiHtVnRXUx",
        "outputId": "ba65491d-5995-488c-dcc5-67d2558a0fe4",
        "cellView": "form",
        "collapsed": true
      },
      "execution_count": null,
      "outputs": [
        {
          "output_type": "execute_result",
          "data": {
            "text/plain": [
              "(10, 1)"
            ]
          },
          "metadata": {},
          "execution_count": 71
        }
      ]
    },
    {
      "cell_type": "code",
      "source": [
        "#@title\n",
        "X, out[0]"
      ],
      "metadata": {
        "colab": {
          "base_uri": "https://localhost:8080/"
        },
        "id": "Ya2PxlUdMM38",
        "outputId": "a80aada8-f7d7-4ff9-b0b5-e74ece875448",
        "cellView": "form",
        "collapsed": true
      },
      "execution_count": null,
      "outputs": [
        {
          "output_type": "execute_result",
          "data": {
            "text/plain": [
              "(array([[ 0.0796081 , -0.47792308],\n",
              "        [ 0.94580899, -0.03637675],\n",
              "        [ 0.33323536, -0.8837254 ],\n",
              "        [-0.45218419, -0.26324709],\n",
              "        [ 0.46475657, -0.10510195],\n",
              "        [ 0.1044434 ,  0.42035808],\n",
              "        [ 0.18521957,  0.92004546],\n",
              "        [-0.75481632, -0.574926  ],\n",
              "        [-0.39773426,  0.31675171],\n",
              "        [-0.77669546,  0.59383067]]), (None, array([[ 0.0796081 , -0.47792308],\n",
              "         [ 0.94580899, -0.03637675],\n",
              "         [ 0.33323536, -0.8837254 ],\n",
              "         [-0.45218419, -0.26324709],\n",
              "         [ 0.46475657, -0.10510195],\n",
              "         [ 0.1044434 ,  0.42035808],\n",
              "         [ 0.18521957,  0.92004546],\n",
              "         [-0.75481632, -0.574926  ],\n",
              "         [-0.39773426,  0.31675171],\n",
              "         [-0.77669546,  0.59383067]])))"
            ]
          },
          "metadata": {},
          "execution_count": 54
        }
      ]
    },
    {
      "cell_type": "code",
      "source": [
        "#@title entrenamiento base\n",
        "train(red, X_coord, Y_class, l2_cost, 0.5)"
      ],
      "metadata": {
        "colab": {
          "base_uri": "https://localhost:8080/"
        },
        "id": "Cwxqou8_tHrg",
        "outputId": "b380e629-cbc6-4850-db12-dc3f15f5e4f3"
      },
      "execution_count": null,
      "outputs": [
        {
          "output_type": "execute_result",
          "data": {
            "text/plain": [
              "array([[0.92887532],\n",
              "       [0.92884748],\n",
              "       [0.9288629 ],\n",
              "       [0.92892994],\n",
              "       [0.92898135],\n",
              "       [0.92884634],\n",
              "       [0.92884069],\n",
              "       [0.9288669 ],\n",
              "       [0.92886838],\n",
              "       [0.92891992]])"
            ]
          },
          "metadata": {},
          "execution_count": 121
        }
      ]
    },
    {
      "cell_type": "code",
      "source": [
        "#@title\n",
        "for l in reversed(range(0, len(red))):\n",
        "  print (l )"
      ],
      "metadata": {
        "colab": {
          "base_uri": "https://localhost:8080/"
        },
        "cellView": "form",
        "collapsed": true,
        "id": "l2sqDrDN8qx9",
        "outputId": "ed9ba150-c526-4625-f85e-64cd14561c98"
      },
      "execution_count": null,
      "outputs": [
        {
          "output_type": "stream",
          "name": "stdout",
          "text": [
            "2\n",
            "1\n",
            "0\n"
          ]
        }
      ]
    },
    {
      "cell_type": "code",
      "source": [
        "#@title\n",
        "for l  in enumerate(reversed(range(0, len(red)))):\n",
        "  print (l )"
      ],
      "metadata": {
        "colab": {
          "base_uri": "https://localhost:8080/"
        },
        "cellView": "form",
        "collapsed": true,
        "id": "1P3IKYGL9yVU",
        "outputId": "1e77e791-6cc1-4071-a901-1297b0a969e3"
      },
      "execution_count": null,
      "outputs": [
        {
          "output_type": "stream",
          "name": "stdout",
          "text": [
            "(0, 2)\n",
            "(1, 1)\n",
            "(2, 0)\n"
          ]
        }
      ]
    },
    {
      "cell_type": "code",
      "source": [
        "#@title\n",
        "len(red), range(0, len(red)), reversed(range(0, len(red)))"
      ],
      "metadata": {
        "colab": {
          "base_uri": "https://localhost:8080/"
        },
        "cellView": "form",
        "collapsed": true,
        "id": "sohk3xVv4w3F",
        "outputId": "b439c417-b597-49e5-e1eb-2a9b656cbdca"
      },
      "execution_count": null,
      "outputs": [
        {
          "output_type": "execute_result",
          "data": {
            "text/plain": [
              "(3, range(0, 3), <range_iterator at 0x7fd9fdb957b0>)"
            ]
          },
          "metadata": {},
          "execution_count": 157
        }
      ]
    },
    {
      "cell_type": "code",
      "source": [
        "#@title\n",
        "X_coord[0]"
      ],
      "metadata": {
        "colab": {
          "base_uri": "https://localhost:8080/"
        },
        "cellView": "form",
        "collapsed": true,
        "id": "dOGoC0eWyeBv",
        "outputId": "2d991a4c-e20a-4be7-fa6a-ddbe34fb98f7"
      },
      "execution_count": null,
      "outputs": [
        {
          "output_type": "execute_result",
          "data": {
            "text/plain": [
              "array([-0.3268381 ,  0.24620944])"
            ]
          },
          "metadata": {},
          "execution_count": 95
        }
      ]
    },
    {
      "cell_type": "code",
      "source": [
        "#@title\n",
        "red"
      ],
      "metadata": {
        "colab": {
          "base_uri": "https://localhost:8080/"
        },
        "cellView": "form",
        "collapsed": true,
        "id": "pGmmcPdhxf25",
        "outputId": "e8b9a26c-041f-4fc9-a67b-711a717dc127"
      },
      "execution_count": null,
      "outputs": [
        {
          "output_type": "execute_result",
          "data": {
            "text/plain": [
              "[<__main__.capa_neuronal at 0x7fd9ff5c3670>,\n",
              " <__main__.capa_neuronal at 0x7fd9ff5edc10>,\n",
              " <__main__.capa_neuronal at 0x7fd9ff5ed490>]"
            ]
          },
          "metadata": {},
          "execution_count": 87
        }
      ]
    },
    {
      "cell_type": "code",
      "source": [
        "#@title\n",
        "red[:-1]"
      ],
      "metadata": {
        "colab": {
          "base_uri": "https://localhost:8080/"
        },
        "cellView": "form",
        "collapsed": true,
        "id": "lzGTromTxiuR",
        "outputId": "c1b22dc5-b63b-4495-ae97-5b47fa69b565"
      },
      "execution_count": null,
      "outputs": [
        {
          "output_type": "execute_result",
          "data": {
            "text/plain": [
              "[<__main__.capa_neuronal at 0x7fd9ff5c3670>,\n",
              " <__main__.capa_neuronal at 0x7fd9ff5edc10>]"
            ]
          },
          "metadata": {},
          "execution_count": 88
        }
      ]
    },
    {
      "cell_type": "code",
      "source": [
        "#@title\n",
        "for l, layer in enumerate(red[:-1]):    # de la primera hasta la penultima\n",
        "    print(l, layer)"
      ],
      "metadata": {
        "colab": {
          "base_uri": "https://localhost:8080/"
        },
        "cellView": "form",
        "collapsed": true,
        "id": "TBjgqNlnyDk0",
        "outputId": "4025fc4b-43a4-4303-c6b9-7d758ee06f9e"
      },
      "execution_count": null,
      "outputs": [
        {
          "output_type": "stream",
          "name": "stdout",
          "text": [
            "0 <__main__.capa_neuronal object at 0x7fd9ff5c3670>\n",
            "1 <__main__.capa_neuronal object at 0x7fd9ff5edc10>\n"
          ]
        }
      ]
    },
    {
      "cell_type": "code",
      "source": [
        "#@title\n",
        "np.random.rand(2, 5) "
      ],
      "metadata": {
        "colab": {
          "base_uri": "https://localhost:8080/"
        },
        "cellView": "form",
        "collapsed": true,
        "id": "gVgg0KENqCUd",
        "outputId": "5f4c5d2c-74d9-4d5c-902d-6370832143b5"
      },
      "execution_count": null,
      "outputs": [
        {
          "output_type": "execute_result",
          "data": {
            "text/plain": [
              "array([[0.59526058, 0.57757229, 0.08363081, 0.60117299, 0.03849489],\n",
              "       [0.81383712, 0.54299208, 0.44524148, 0.79295923, 0.36377786]])"
            ]
          },
          "metadata": {},
          "execution_count": 44
        }
      ]
    },
    {
      "cell_type": "code",
      "source": [
        "#@title proceso de entrenamiento y test\n",
        "import time\n",
        "from IPython.display import clear_output\n",
        "\n",
        "random.seed(888)\n",
        "\n",
        "topologia = [p, 3, 1]\n",
        "#red = crea_nn(topologia, sigm)\n",
        "\n",
        "WL1 = np.array([[ 8.84243203,  2.1386732 ,  2.94748844],   [ 0.78027067,  4.12606739, -4.23355456]])\n",
        "#WL1 = np.array([[ 1,  2.1386732 ,  2.94748844],   [ 0.78027067,  4.12606739, -4.23355456]])\n",
        "\n",
        "bL1 = np.array([[ 3.7654632 , -3.25091011, -2.91781571]])\n",
        "#bL1 = np.array([[ -2 , -3.25091011, -2.91781571]])\n",
        "\n",
        "WL2 = np.array([[ 14.3519784 ],  [-18.93268329],  [-17.98428509]])\n",
        "#WL2 = np.array([[ 3.3519784 ],  [-18.93268329],  [-17.98428509]])\n",
        "\n",
        "bL2 = np.array([[-2.53003652]])\n",
        "bL2 = np.array([[0.53003652]])\n",
        "\n",
        "red[0].W, red[0].b = WL1, bL1\n",
        "red[1].W, red[1].b = WL2, bL2\n",
        "\n",
        "red.shot()\n",
        "\n",
        "loss = []\n",
        "LR = 1\n",
        "lr = 0.7\n",
        "tasa_var_loss  = 0\n",
        "iteraciones = 2000\n",
        "\n",
        "for i in range(iteraciones):\n",
        "  #lr = LR * (1-(i/iteraciones))\n",
        "  Py = train(red, X_coord, Y_class, l2_cost, lr)     # entrenamiento\n",
        "\n",
        "  if i%25 ==0:\n",
        "    loss.append(l2_cost[0](Py, Y_class))      # LOSS del entrenamiento\n",
        "\n",
        "    if(len(loss) > 4):\n",
        "      None\n",
        "      #tasa_var_loss = loss[-1] / loss[-3] #loss[-3] - loss[-1] \n",
        "      #lr = lr / (tasa_var_loss)\n",
        "      #if(tasa_var_loss > 0.001 ): lr *= tasa_var_loss #1.001\n",
        "      #else:  lr *= 0.999\n",
        "\n",
        "    res = 50\n",
        "    _x0 = np.linspace(-1.5, 1.5, res)\n",
        "    _x1 = np.linspace(-1.5, 1.5, res)\n",
        "    _Y = np.zeros((res, res))\n",
        "\n",
        "    for i0, x0 in enumerate(_x0):\n",
        "      for i1, x1 in enumerate(_x1):\n",
        "        _Y[i0, i1] = train(red, np.array([[x0, x1]]), Y_class, l2_cost, train=False)[0,0]   # verificacion\n",
        "\n",
        "    plt.pcolormesh(_x0, _x1, _Y, cmap=\"coolwarm\")           # imprime la malla de resultados de la verificacion\n",
        "    plt.axis(\"equal\")\n",
        "\n",
        "    #plt.scatter(X_coord[:,0], X_coord[:,1], c=Y_class)\n",
        "    plt.scatter(X_coord[:,0], X_coord[:,1], c=Y_class)      # imprime los puntos\n",
        "\n",
        "    clear_output(wait=True)\n",
        "    plt.show()\n",
        "    #TasaL = loss[-2]-loss[-1] if i>50: 0\n",
        "    plt.title(f'lr:{lr}  tasa_i:{(1-(i/iteraciones))}  loss:{loss[-1]}  tasaL:{loss[-2]-loss[-1] if i>50 else 0}')\n",
        "    plt.plot(range(len(loss)), loss)                        # imprime el loss\n",
        "    plt.show()\n",
        "    time.sleep(0.5)"
      ],
      "metadata": {
        "id": "hdRdPXKpZa2q",
        "colab": {
          "base_uri": "https://localhost:8080/",
          "height": 533
        },
        "outputId": "42347b65-2396-4fa1-cb1a-421762ef057f"
      },
      "execution_count": 48,
      "outputs": [
        {
          "output_type": "display_data",
          "data": {
            "text/plain": [
              "<Figure size 432x288 with 1 Axes>"
            ],
            "image/png": "[encoded data removed]"
          },
          "metadata": {
            "needs_background": "light"
          }
        },
        {
          "output_type": "display_data",
          "data": {
            "text/plain": [
              "<Figure size 432x288 with 1 Axes>"
            ],
            "image/png": "[encoded data removed]"
          },
          "metadata": {
            "needs_background": "light"
          }
        }
      ]
    },
    {
      "cell_type": "code",
      "source": [
        "red[0].W, red[0].b, red[1].W, red[1].b"
      ],
      "metadata": {
        "colab": {
          "base_uri": "https://localhost:8080/"
        },
        "id": "Qr5kEf6ya8A4",
        "outputId": "6eaf2321-8b6c-4146-c83e-abd2a7934b46"
      },
      "execution_count": 36,
      "outputs": [
        {
          "output_type": "execute_result",
          "data": {
            "text/plain": [
              "(array([[ 8.84243203,  2.1386732 ,  2.94748844],\n",
              "        [ 0.78027067,  4.12606739, -4.23355456]]),\n",
              " array([[ 3.7654632 , -3.25091011, -2.91781571]]),\n",
              " array([[ 14.3519784 ],\n",
              "        [-18.93268329],\n",
              "        [-17.98428509]]),\n",
              " array([[-2.53003652]]))"
            ]
          },
          "metadata": {},
          "execution_count": 36
        }
      ]
    },
    {
      "cell_type": "code",
      "source": [
        "red[1].b = np.array([[-2.53003652]])"
      ],
      "metadata": {
        "id": "_htXdptmgL5F"
      },
      "execution_count": 35,
      "outputs": []
    },
    {
      "cell_type": "code",
      "source": [
        "arr = np.full((3, 2), 0.5)\n",
        "arr"
      ],
      "metadata": {
        "colab": {
          "base_uri": "https://localhost:8080/"
        },
        "id": "aa0WiVsgOnLA",
        "outputId": "423c639b-fe4a-469a-e2b0-d6e40f752868"
      },
      "execution_count": null,
      "outputs": [
        {
          "output_type": "execute_result",
          "data": {
            "text/plain": [
              "array([[0.5, 0.5],\n",
              "       [0.5, 0.5],\n",
              "       [0.5, 0.5]])"
            ]
          },
          "metadata": {},
          "execution_count": 55
        }
      ]
    },
    {
      "cell_type": "code",
      "source": [
        "arr = np.zeros((3, 2))\n",
        "arr"
      ],
      "metadata": {
        "colab": {
          "base_uri": "https://localhost:8080/"
        },
        "id": "e0zBpStKPhn2",
        "outputId": "05dc413f-e137-41a9-8492-2f6c3e4f92f7"
      },
      "execution_count": null,
      "outputs": [
        {
          "output_type": "execute_result",
          "data": {
            "text/plain": [
              "array([[0., 0.],\n",
              "       [0., 0.],\n",
              "       [0., 0.]])"
            ]
          },
          "metadata": {},
          "execution_count": 57
        }
      ]
    },
    {
      "cell_type": "code",
      "source": [
        "arr = np.random.rand(1, 2) #* 2 -1\n",
        "arr"
      ],
      "metadata": {
        "colab": {
          "base_uri": "https://localhost:8080/"
        },
        "id": "XgCv5Q-rPOPb",
        "outputId": "4292fa3b-8a01-42ac-925a-345154c16fa6"
      },
      "execution_count": null,
      "outputs": [
        {
          "output_type": "execute_result",
          "data": {
            "text/plain": [
              "array([[0.82116878, 0.70407406]])"
            ]
          },
          "metadata": {},
          "execution_count": 53
        }
      ]
    },
    {
      "cell_type": "code",
      "source": [
        "arr_pos = np.full((2, 3//2), 0.5)\n",
        "arr_neg = np.full((2, 3//2), -0.5)\n",
        "arr = np.hstack((arr_pos, arr_neg))\n",
        "arr"
      ],
      "metadata": {
        "colab": {
          "base_uri": "https://localhost:8080/"
        },
        "id": "0zR_G7qZWm2M",
        "outputId": "3b1c95fa-efc2-47d1-cf1b-757fb87cb50e"
      },
      "execution_count": null,
      "outputs": [
        {
          "output_type": "execute_result",
          "data": {
            "text/plain": [
              "array([[ 0.5, -0.5],\n",
              "       [ 0.5, -0.5]])"
            ]
          },
          "metadata": {},
          "execution_count": 94
        }
      ]
    },
    {
      "cell_type": "code",
      "source": [
        "#@title\n",
        "red[0].W.shape"
      ],
      "metadata": {
        "colab": {
          "base_uri": "https://localhost:8080/"
        },
        "id": "Qmb391EBYssp",
        "outputId": "a8d761de-c1b7-41ff-a549-be15d9deead4",
        "cellView": "form",
        "collapsed": true
      },
      "execution_count": null,
      "outputs": [
        {
          "output_type": "execute_result",
          "data": {
            "text/plain": [
              "(2, 4)"
            ]
          },
          "metadata": {},
          "execution_count": 14
        }
      ]
    },
    {
      "cell_type": "code",
      "source": [
        "#@title proceso de entrenamiento y test con video\n",
        "import time\n",
        "from IPython.display import clear_output\n",
        "\n",
        "random.seed(777)\n",
        "topologia = [p, 4, 8, 1]\n",
        "#red = crea_nn(topologia, sigm)\n",
        "\n",
        "#print(red.shape)\n",
        "#red = []\n",
        "#red.append(capa_neuronal(2, 4, sigm, 5))\n",
        "#red.append(capa_neuronal(4, 8, sigm, 3))\n",
        "#red.append(capa_neuronal(8, 1, sigm, 10))\n",
        "\n",
        "random.seed(888)\n",
        "\n",
        "topologia = [p, 3, 1]\n",
        "red = crea_nn(topologia, sigm)\n",
        "\n",
        "WL1 = np.array([[ 8.84243203,  2.1386732 ,  2.94748844],   [ 0.78027067,  4.12606739, -4.23355456]])\n",
        "#WL1 = np.array([[ 1,  2.1386732 ,  2.94748844],   [ 0.78027067,  4.12606739, -4.23355456]])\n",
        "\n",
        "bL1 = np.array([[ 3.7654632 , -3.25091011, -2.91781571]])\n",
        "#bL1 = np.array([[ -2 , -3.25091011, -2.91781571]])\n",
        "\n",
        "WL2 = np.array([[ 14.3519784 ],  [-18.93268329],  [-17.98428509]])\n",
        "#WL2 = np.array([[ 3.3519784 ],  [-18.93268329],  [-17.98428509]])\n",
        "\n",
        "bL2 = np.array([[-2.53003652]])\n",
        "bL2 = np.array([[0.53003652]])\n",
        "\n",
        "red[0].W, red[0].b = WL1, bL1\n",
        "red[1].W, red[1].b = WL2, bL2\n",
        "\n",
        "red[0].shot()\n",
        "red[1].shot()\n",
        "\n",
        "LR = 0.9\n",
        "iter = 600\n",
        "\n",
        "loss = []\n",
        "frames = []\n",
        "\n",
        "for i in range(iter):\n",
        "  lr = LR * (1-i/iter)\n",
        "  Py = train(red, X_coord, Y_class, l2_cost, lr)     # entrenamiento\n",
        "\n",
        "\n",
        "  if i%25 ==0:\n",
        "    loss.append(l2_cost[0](Py, Y_class))      # LOSS del entrenamiento\n",
        "\n",
        "    #EVAL\n",
        "    res = 50\n",
        "    _x0 = np.linspace(-1.5, 1.5, res)\n",
        "    _x1 = np.linspace(-1.5, 1.5, res)\n",
        "    _Y = np.zeros((res, res))\n",
        "\n",
        "    for i0, x0 in enumerate(_x0):\n",
        "      for i1, x1 in enumerate(_x1):\n",
        "        _Y[i0, i1] = train(red, np.array([[x0, x1]]), Y_class, l2_cost, train=False)[0,0]   # verificacion\n",
        "\n",
        "\n",
        "    # IMPRIME GRAFICO\n",
        "    fig, ax = plt.subplots(nrows=2, ncols=3, figsize=(15, 10))\n",
        "    clear_output(wait=True)\n",
        "\n",
        "    #fig, ax = plt.subplots()\n",
        "    for l, Nlayer in enumerate(red):\n",
        "      #layer = Nlayer.W.copy()\n",
        "      #layer[0].append(Nlayer[0].b)\n",
        "      layer = np.concatenate((Nlayer.W, Nlayer.b), axis=0)\n",
        "\n",
        "      ax[0,l].set_title(f'W & b capa:{l}')\n",
        "      #pone numeros\n",
        "      for a in range(layer.shape[0]): #layer.W.shape[0]):\n",
        "        for b in range(layer.shape[1]): #layer.W.shape[1]):\n",
        "            ax[0,l].text(a, b, '{:.2f}'.format(layer[a, b]), ha='center', va='center', color='red')\n",
        "\n",
        "      #imprime    \n",
        "      #ax.matshow(layer.W)\n",
        "      ax[0,l].imshow(layer.T, cmap='bone') # cmap='gray'   cmap='binary'  cmap='hot'\n",
        "      #ax[1,l].imshow(layer.b, cmap='bone') # cmap='gray'   cmap='binary'  cmap='hot'\n",
        "\n",
        "      #limpia\n",
        "      for a in range(layer.shape[0]):\n",
        "        for b in range(layer.shape[1]):\n",
        "            ax[0,l].text(a, b, '')\n",
        "\n",
        "\n",
        "\n",
        "\n",
        "\n",
        "\n",
        "\n",
        "    for l, Nlayer in enumerate(red):\n",
        "      layer = np.concatenate((Nlayer.W_i - Nlayer.W, Nlayer.b_i - Nlayer.b), axis=0)\n",
        "\n",
        "      ax[1,l].set_title(f'W & b capa:{l}')\n",
        "      #pone numeros\n",
        "      for a in range(layer.shape[0]): #layer.W.shape[0]):\n",
        "        for b in range(layer.shape[1]): #layer.W.shape[1]):\n",
        "            ax[1,l].text(a, b, '{:.3f}'.format(layer[a, b]), ha='center', va='center', color='red')\n",
        "\n",
        "      #imprime    \n",
        "      #ax.matshow(layer.W)\n",
        "      ax[1,l].imshow(layer.T, cmap='bone') # cmap='gray'   cmap='binary'  cmap='hot'\n",
        "\n",
        "      #limpia\n",
        "      for a in range(layer.shape[0]):\n",
        "        for b in range(layer.shape[1]):\n",
        "            ax[1,l].text(a, b, '')\n",
        "\n",
        "\n",
        "\n",
        "\n",
        "    ax[0,2].set_title(f'EVAL iter:{i} lr:{lr}')\n",
        "    ax[0,2].pcolormesh(_x0, _x1, _Y, cmap=\"coolwarm\")           # imprime la malla de resultados de la verificacion\n",
        "    ax[0,2].axis(\"equal\")\n",
        "\n",
        "    #plt.scatter(X_coord[:,0], X_coord[:,1], c=Y_class)\n",
        "    ax[0,2].scatter(X_coord[:,0], X_coord[:,1], c=Y_class)      # imprime los puntos\n",
        "\n",
        "    #plt.show()\n",
        "    ax[1,2].set_title(f'LOSS {loss[-1]} TL:{loss[-2]-loss[-1] if i>50 else 0}')\n",
        "    ax[1,2].plot(range(len(loss)), loss)                        # imprime el loss\n",
        "    #plt.show()\n",
        "\n",
        "    # FRAMES PARA VIDEO\n",
        "    #figu = plt.gcf()\n",
        "    #figu.canvas.draw()\n",
        "    #image = np.frombuffer(figu.canvas.tostring_rgb(), dtype='uint8')\n",
        "    #image = image.reshape(figu.canvas.get_width_height()[::-1] + (3,))\n",
        "    #frames.append(image)\n",
        "\n",
        "    plt.show()\n",
        "\n",
        "    #time.sleep(1)\n",
        "\n",
        "# Muestra el video\n",
        "#media.show_video(frames, fps=3)"
      ],
      "metadata": {
        "id": "ZGXWm7HYBHPN",
        "colab": {
          "base_uri": "https://localhost:8080/",
          "height": 607
        },
        "outputId": "57806ecd-7b6a-46a4-f1c4-39c47d7c4bac"
      },
      "execution_count": 57,
      "outputs": [
        {
          "output_type": "display_data",
          "data": {
            "text/plain": [
              "<Figure size 1080x720 with 6 Axes>"
            ],
            "image/png": "[encoded data removed]"
          },
          "metadata": {
            "needs_background": "light"
          }
        }
      ]
    },
    {
      "cell_type": "code",
      "source": [
        "#@title\n",
        "#https://ipywidgets.readthedocs.io/en/latest/index.html\n",
        "#https://jupyterlite.readthedocs.io/en/latest/\n",
        "#https://github.com/jupyter-widgets/tutorial\n",
        "import matplotlib.pyplot as plt\n",
        "from ipywidgets import interact, interactive, fixed, interact_manual\n",
        "#from ipywidgets import GridBox, Layout, VBox, HBox\n",
        "import ipywidgets as widgets\n",
        "\n",
        "topologia = [p, 3, 1]\n",
        "red = crea_nn(topologia, sigm)\n",
        "\n",
        "L1_N1_W1 = widgets.FloatSlider(min=-20, max=20, step=0.01, value=5, continuous_update=False , layout=Layout(width='70%')) #, layout=Layout(flex='1 1 0%', width='30%'), grid_area='N1')\n",
        "L1_N1_W2 = widgets.FloatSlider(min=-20, max=20, step=0.01, value=5, continuous_update=False)#, layout=Layout(width='auto'))  #, layout=Layout(flex='2 3 0%', width='30%'), grid_area='N1')\n",
        "L1_N1_B  = widgets.FloatSlider(min=-20, max=20, step=0.01, value=5, continuous_update=False)#, layout=Layout(width='auto'))  #, layout=Layout(flex='1 1 0%', width='30%'), grid_area='N1')\n",
        "L1_N2_W1 = widgets.FloatSlider(min=-20, max=20, step=0.01, value=5, continuous_update=False)#, layout=Layout(width='auto'))  #, layout=Layout(display='inline-flex'))\n",
        "L1_N2_W2 = widgets.FloatSlider(min=-20, max=20, step=0.01, value=5, continuous_update=False)#, layout=Layout(width='100%'))  #, layout=Layout(display='inline-flex'))\n",
        "L1_N2_B  = widgets.FloatSlider(min=-20, max=20, step=0.01, value=5, continuous_update=False)#, layout=Layout(width='auto'))  #, layout=Layout(display='inline-flex'))\n",
        "L1_N3_W1 = widgets.FloatSlider(min=-20, max=20, step=0.01, value=5, continuous_update=False)#, layout=Layout(width='auto'))  #, style={'description_width': 'initial'})\n",
        "L1_N3_W2 = widgets.FloatSlider(min=-20, max=20, step=0.01, value=5, continuous_update=False)#, layout=Layout(width='auto'))  #, style={'flex': 'flex-basis'})\n",
        "L1_N3_B  = widgets.FloatSlider(min=-20, max=20, step=0.01, value=5, continuous_update=False)#, layout=Layout(width='auto'))  #, style={'flex': 'flex-basis', 'color': 'green'})\n",
        "L2_N1_W1 = widgets.FloatSlider(min=-20, max=20, step=0.01, value=5, continuous_update=False)#, layout=Layout(width='auto')) \n",
        "L2_N1_W2 = widgets.FloatSlider(min=-20, max=20, step=0.01, value=5, continuous_update=False)#, layout=Layout(width='auto')) \n",
        "L2_N1_W3 = widgets.FloatSlider(min=-20, max=20, step=0.01, value=5, continuous_update=False)#, layout=Layout(width='auto')) \n",
        "L2_N1_B  = widgets.FloatSlider(min=-20, max=20, step=0.01, value=5, continuous_update=False)#, layout=Layout(width='auto')) \n",
        "\n",
        "\n",
        "\n",
        "#                   N1w1          N2w1          N3w1           N1w2          N2w2          N3w2\n",
        "WL1 = np.array([[ 8.84243203,  2.1386732 ,  2.94748844],   [ 0.78027067,  4.12606739, -4.23355456]])\n",
        "#WL1 = np.array([[ 1,  2.1386732 ,  2.94748844],   [ 0.78027067,  4.12606739, -4.23355456]])\n",
        "\n",
        "#                   N1b           N2b         N3b\n",
        "bL1 = np.array([[ 3.7654632 , -3.25091011, -2.91781571]])\n",
        "#bL1 = np.array([[ -2 , -3.25091011, -2.91781571]])\n",
        "\n",
        "#                   N4w1              N4w2            N4w3\n",
        "WL2 = np.array([[ 14.3519784 ],  [-18.93268329],  [-17.98428509]])\n",
        "#WL2 = np.array([[ 3.3519784 ],  [-18.93268329],  [-17.98428509]])\n",
        "\n",
        "#                     N4b\n",
        "bL2 = np.array([[-2.53003652]])\n",
        "#bL2 = np.array([[0.53003652]])\n",
        "\n",
        "L1_N1_W1.value = WL1[0][0]\n",
        "L1_N1_W2.value = WL1[1][0]\n",
        "L1_N1_B.value  = bL1[0][0]\n",
        "\n",
        "L1_N2_W1.value = WL1[0][1]\n",
        "L1_N2_W2.value = WL1[1][1]\n",
        "L1_N2_B.value  = bL1[0][1]\n",
        "\n",
        "L1_N3_W1.value = WL1[0][2]\n",
        "L1_N3_W2.value = WL1[1][2]\n",
        "L1_N3_B.value  = bL1[0][2]\n",
        "\n",
        "L2_N1_W1.value = WL2[0][0]\n",
        "L2_N1_W2.value = WL2[1][0]\n",
        "L2_N1_W3.value = WL2[2][0]\n",
        "L2_N1_B.value  = bL2[0][0]\n",
        "\n",
        "def update_plot(N1w1,N1w2,N1b,N2w1,N2w2,N2b,N3w1,N3w2,N3b,N4w1,N4w2,N4w3,N4b):\n",
        "  global red\n",
        "  red[0].W = np.array([[N1w1, N2w1, N3w1], [N1w2, N2w2, N3w2]])\n",
        "  red[0].b = np.array([[N1b, N2b, N3b]])\n",
        "  red[1].W = np.array([[N4w1], [N4w2], [N4w3]])\n",
        "  red[1].b = np.array([[N4b]])\n",
        "  print(red[0].W, red[0].b, red[1].W, red[1].b)\n",
        "\n",
        "  #EVAL\n",
        "  res = 50\n",
        "  _x0 = np.linspace(-1.5, 1.5, res)\n",
        "  _x1 = np.linspace(-1.5, 1.5, res)\n",
        "  _Y = np.zeros((res, res))\n",
        "\n",
        "  for i0, x0 in enumerate(_x0):\n",
        "    for i1, x1 in enumerate(_x1):\n",
        "      _Y[i0, i1] = train(red, np.array([[x0, x1]]), Y_class, l2_cost, train=False)[0,0]   # verificacion\n",
        "\n",
        "\n",
        "  # PREPARA GRAFICOS\n",
        "  fig, ax = plt.subplots(nrows=1, ncols=3, figsize=(15, 5))\n",
        "  clear_output(wait=True)\n",
        "\n",
        "  # IMPRIME MATRICES\n",
        "  for l, Nlayer in enumerate(red):\n",
        "    layer = np.concatenate((Nlayer.W, Nlayer.b), axis=0)\n",
        "\n",
        "    ax[l].set_title(f'W & b capa:{l}')\n",
        "    #pone numeros\n",
        "    for a in range(layer.shape[0]): #layer.W.shape[0]):\n",
        "      last = layer.shape[0]-1\n",
        "      for b in range(layer.shape[1]): #layer.W.shape[1]):\n",
        "        #ha: 'center', 'right', 'left'\n",
        "        #va: 'top', 'bottom', 'center', 'baseline', 'center_baseline'\n",
        "          ax[l].text(a, b, '{:.2f}'.format(layer[a, b]), ha='center', va='bottom', color='red')\n",
        "          ww = \"b\"\n",
        "          if a<last : ww = f\"w{a+1}\"\n",
        "          ax[l].text(a, b, f'N{b+1} {ww}', ha='left', va='top', color='green')\n",
        "\n",
        "    #imprime    \n",
        "    #ax.matshow(layer.W)\n",
        "    ax[l].imshow(layer.T, cmap='bone') # cmap='gray'   cmap='binary'  cmap='hot'\n",
        "\n",
        "    #limpia\n",
        "    for a in range(layer.shape[0]):\n",
        "      for b in range(layer.shape[1]):\n",
        "          ax[l].text(a, b, '')\n",
        "\n",
        "\n",
        "  # IMPRIME GRAFICO \n",
        "  ax[2].set_title(f'EVAL iter:{i}')\n",
        "  ax[2].pcolormesh(_x0, _x1, _Y, cmap=\"coolwarm\")           # imprime la malla de resultados de la verificacion\n",
        "  ax[2].axis(\"equal\")\n",
        "  ax[2].scatter(X_coord[:,0], X_coord[:,1], c=Y_class)      # imprime los puntos\n",
        "\n",
        "  plt.show()\n",
        "\n",
        "#interact(update_plot, N1w1=L1_N1_W1, N1w2=L1_N1_W2, N1b=L1_N1_B, N2w1=L1_N2_W1, N2w2=L1_N2_W2, N2b=L1_N2_B, N3w1=L1_N3_W1, N3w2=L1_N3_W2, N3b=L1_N3_B, N4w1=L2_N1_W1, N4w2=L2_N1_W2, N4w3=L2_N1_W3, N4b=L2_N1_B)\n",
        "\n",
        "N1_box = widgets.VBox([L1_N1_W1, L1_N1_W2, L1_N1_B ])\n",
        "N2_box = widgets.VBox([L1_N2_W1, L1_N2_W2, L1_N2_B ])\n",
        "N3_box = widgets.VBox([L1_N3_W1, L1_N3_W2, L1_N3_B ])\n",
        "N4_box = widgets.VBox([L2_N1_W1, L2_N1_W2, L2_N1_W3, L2_N1_B])\n",
        "\n",
        "user_interface = widgets.HBox([N1_box, N2_box, N3_box, N4_box])\n",
        "out = widgets.interactive_output(update_plot, {'N1w1':L1_N1_W1, 'N1w2':L1_N1_W2, 'N1b':L1_N1_B, 'N2w1':L1_N2_W1, 'N2w2':L1_N2_W2, 'N2b':L1_N2_B, 'N3w1':L1_N3_W1, 'N3w2':L1_N3_W2, 'N3b':L1_N3_B, 'N4w1':L2_N1_W1, 'N4w2':L2_N1_W2, 'N4w3':L2_N1_W3, 'N4b':L2_N1_B})\n",
        "display(user_interface, out)\n"
      ],
      "metadata": {
        "colab": {
          "base_uri": "https://localhost:8080/",
          "height": 481,
          "referenced_widgets": [
            "51de9acb918543b39966902cf7ccb5bc",
            "7494a2cf6d0548389748b0f6f1d3e4f8",
            "f6fd1eb4e9b4496694cd90da7115fa25",
            "1152457c7e3b4ae4ba0884b3effdce1f",
            "9f76b381baba4c9db93514e63f1aa970",
            "6d2009cbcf3f447daf91c2b0ba6adc95",
            "abc0bc9b8dc54b02b92c6df4a999d15c",
            "bbf0941c1eed452b8d1147a84f1138a7",
            "df7e226d80e44bb2ac2a17839f8e13e1",
            "e166d6afdeac43e49e1c359fac5d8333",
            "7adcfd8986674802852e1c0b78f935d6",
            "28e25d0e271f4a8698a894f9cc14f2d4",
            "4230f05d7c9e450b98ba11ed97b943c7",
            "912e331775ef406c8316ff53ae18ab20",
            "e13a6ec5cd7e49e585fec362ba3d1957",
            "6822799e3b714851bad1e000ba165193",
            "4516ec61e03d437182a00d429e51ac3a",
            "adc6c178ee2445aab868f4d3b9978347",
            "64fc81e7d16c4f39a2038ed54ad00f06",
            "819b59b9e1de45f1b06ba1001bb69b8f",
            "0087e1961b2b4511b1c0ad128b02fd18",
            "08f417a9ee794c7faf5d7ea5cc182bbf",
            "5b89004537db4389948c11109771291e",
            "994ccd7eadbb48ad807a411af6dd3763",
            "2137f5278b2747e5a11a036c3e69062a",
            "a19efea6b7c6449d9202bac29f3455a4",
            "938acb2c364e450bacf0a328f1db3263",
            "e8f644f9136b424bbddf265f7ddfeb3c",
            "e1c8999384dd474998ac93a839cc6d68",
            "9f4c86dfc0a340d79925267a1b7fbce7",
            "37162c511fc140958a2d4c18b36b8e4c",
            "139a939972b84755afcd9f802ad4dbe0",
            "3a0f42eac62a474c901b2aa997275554",
            "0600857dc9964043a6e4ad76837196f4",
            "42194fe773c34bfe8453f76b581153bc",
            "8bed17397a0c44fd92f3d3363f2abede",
            "2b01eda3aa034426b612de4f68a73ac8",
            "6c2e54b69466427285245717b5d3e4ac",
            "0878bf8e4ef54bb98317dcec9a8080ab",
            "8a56ff8b94a742198afa0b3fbb8fbc41",
            "bbefafa4e43c45a99aaed32d14206a89",
            "b42217bfb7694ff0ba772abe1f203b6d",
            "6189a11c6a2242d8967dbef25c07c694",
            "771d47d45fb74687bc65776e7fb0fc37",
            "fbcd0718325c4177850e93beea4b607b",
            "bcd9bc9daeab4560b67dead56bba6ff2",
            "0e488cac248a4fecbabd3424433b90ca",
            "d7d8f1ffc94146c88a1cc9c4a29e5a68",
            "ff41a4d2782746f5b5f5049045704178",
            "82127b0699be43799a66cb3fd176bbb8",
            "4bbd4efec2244ffea214044487dc0f83"
          ]
        },
        "id": "r1hgKLh0sZG_",
        "outputId": "77c19ea4-2cb1-46dd-eabc-164b4dadc253"
      },
      "execution_count": 163,
      "outputs": [
        {
          "output_type": "display_data",
          "data": {
            "text/plain": [
              "HBox(children=(VBox(children=(FloatSlider(value=8.84243203, continuous_update=False, layout=Layout(width='70%'…"
            ],
            "application/vnd.jupyter.widget-view+json": {
              "version_major": 2,
              "version_minor": 0,
              "model_id": "51de9acb918543b39966902cf7ccb5bc"
            }
          },
          "metadata": {}
        },
        {
          "output_type": "display_data",
          "data": {
            "text/plain": [
              "Output()"
            ],
            "application/vnd.jupyter.widget-view+json": {
              "version_major": 2,
              "version_minor": 0,
              "model_id": "82127b0699be43799a66cb3fd176bbb8"
            }
          },
          "metadata": {}
        }
      ]
    },
    {
      "cell_type": "code",
      "source": [
        "%whos"
      ],
      "metadata": {
        "colab": {
          "base_uri": "https://localhost:8080/"
        },
        "id": "NP0j2QevDxi8",
        "outputId": "34874343-9289-47b0-88fa-5e951f35955f"
      },
      "execution_count": 104,
      "outputs": [
        {
          "output_type": "stream",
          "name": "stdout",
          "text": [
            "Variable          Type                Data/Info\n",
            "-----------------------------------------------\n",
            "L1_N1_B           FloatSlider         FloatSlider(value=3.76546<...>.0, min=-20.0, step=0.01)\n",
            "L1_N1_W1          FloatSlider         FloatSlider(value=8.84243<...>.0, min=-20.0, step=0.01)\n",
            "L1_N1_W2          FloatSlider         FloatSlider(value=0.78027<...>.0, min=-20.0, step=0.01)\n",
            "L1_N2_B           FloatSlider         FloatSlider(value=-3.2509<...>.0, min=-20.0, step=0.01)\n",
            "L1_N2_W1          FloatSlider         FloatSlider(value=2.13867<...>.0, min=-20.0, step=0.01)\n",
            "L1_N2_W2          FloatSlider         FloatSlider(value=4.12606<...>.0, min=-20.0, step=0.01)\n",
            "L1_N3_B           FloatSlider         FloatSlider(value=-3.29, <...>.0, min=-20.0, step=0.01)\n",
            "L1_N3_W1          FloatSlider         FloatSlider(value=2.94748<...>.0, min=-20.0, step=0.01)\n",
            "L1_N3_W2          FloatSlider         FloatSlider(value=-3.8, c<...>.0, min=-20.0, step=0.01)\n",
            "L2_N1_B           FloatSlider         FloatSlider(value=-2.89, <...>.0, min=-20.0, step=0.01)\n",
            "L2_N1_W1          FloatSlider         FloatSlider(value=13.06, <...>.0, min=-20.0, step=0.01)\n",
            "L2_N1_W2          FloatSlider         FloatSlider(value=-20.0, <...>.0, min=-20.0, step=0.01)\n",
            "L2_N1_W3          FloatSlider         FloatSlider(value=-20.0, <...>.0, min=-20.0, step=0.01)\n",
            "LR                float               0.9\n",
            "Nlayer            capa_neuronal       <__main__.capa_neuronal object at 0x7f9df4d486d0>\n",
            "Py                ndarray             10x1: 10 elems, type `float64`, 80 bytes\n",
            "WL1               ndarray             2x3: 6 elems, type `float64`, 48 bytes\n",
            "WL2               ndarray             3x1: 3 elems, type `float64`, 24 bytes\n",
            "X_coord           ndarray             10x2: 20 elems, type `float64`, 160 bytes\n",
            "Y_class           ndarray             10x1: 10 elems, type `int64`, 80 bytes\n",
            "a                 IntSlider           IntSlider(value=63)\n",
            "ax                ndarray             2x3: 6 elems, type `object`, 48 bytes\n",
            "b                 IntSlider           IntSlider(value=55)\n",
            "bL1               ndarray             1x3: 3 elems, type `float64`, 24 bytes\n",
            "bL2               ndarray             1x1: 1 elems, type `float64`, 8 bytes\n",
            "c                 IntSlider           IntSlider(value=36)\n",
            "capa_neuronal     type                <class '__main__.capa_neuronal'>\n",
            "clear_output      function            <function clear_output at 0x7f9e4acb4f70>\n",
            "crea_nn           function            <function crea_nn at 0x7f9dff222b80>\n",
            "derv              int                 1\n",
            "f                 function            <function f at 0x7f9df541a160>\n",
            "fig               Figure              Figure(1080x720)\n",
            "figu              Figure              Figure(1080x720)\n",
            "fixed             MetaHasTraits       <class 'ipywidgets.widgets.interaction.fixed'>\n",
            "frames            list                n=0\n",
            "func              int                 0\n",
            "i                 int                 599\n",
            "i0                int                 49\n",
            "i1                int                 49\n",
            "image             ndarray             720x1080x3: 2332800 elems, type `uint8`, 2332800 bytes (2.2247314453125 Mb)\n",
            "interact          _InteractFactory    <ipywidgets.widgets.inter<...>object at 0x7f9df5b2d1f0>\n",
            "interact_manual   _InteractFactory    <ipywidgets.widgets.inter<...>object at 0x7f9df5b2d250>\n",
            "interactive       MetaHasTraits       <class 'ipywidgets.widget<...>interaction.interactive'>\n",
            "iter              int                 600\n",
            "iteraciones       int                 2000\n",
            "l                 int                 1\n",
            "l2_cost           tuple               n=2\n",
            "layer             ndarray             4x1: 4 elems, type `float64`, 32 bytes\n",
            "loss              list                n=24\n",
            "lr                float               0.0015000000000000347\n",
            "make_circles      function            <function make_circles at 0x7f9dff90c280>\n",
            "math              module              <module 'math' (built-in)>\n",
            "n                 int                 10\n",
            "np                module              <module 'numpy' from '/us<...>kages/numpy/__init__.py'>\n",
            "out               Output              Output()\n",
            "p                 int                 2\n",
            "plt               module              <module 'matplotlib.pyplo<...>es/matplotlib/pyplot.py'>\n",
            "printer           function            <function printer at 0x7f9df4ccb430>\n",
            "random            module              <module 'random' from '/u<...>lib/python3.8/random.py'>\n",
            "red               list                n=2\n",
            "relu              tuple               n=2\n",
            "res               int                 50\n",
            "sc                module              <module 'scipy' from '/us<...>kages/scipy/__init__.py'>\n",
            "sigm              tuple               n=2\n",
            "slider            FloatSlider         FloatSlider(value=-1.02, <...>.0, min=-10.0, step=0.01)\n",
            "slider1           FloatSlider         FloatSlider(value=3.87, c<...>.0, min=-10.0, step=0.01)\n",
            "slider2           FloatSlider         FloatSlider(value=0.0, ma<...>.0, min=-10.0, step=0.01)\n",
            "slider3           FloatSlider         FloatSlider(value=0.0, ma<...>.0, min=-10.0, step=0.01)\n",
            "slider4           FloatSlider         FloatSlider(value=0.0, ma<...>.0, min=-10.0, step=0.01)\n",
            "slider5           FloatSlider         FloatSlider(value=0.0, ma<...>.0, min=-10.0, step=0.01)\n",
            "slider6           FloatSlider         FloatSlider(value=0.0, ma<...>.0, min=-10.0, step=0.01)\n",
            "tasa_var_loss     int                 0\n",
            "time              module              <module 'time' (built-in)>\n",
            "topologia         list                n=3\n",
            "train             function            <function train at 0x7f9dfe20db80>\n",
            "ui                HBox                HBox(children=(IntSlider(<...>5), IntSlider(value=36)))\n",
            "update_plot       function            <function update_plot at 0x7f9deec8b310>\n",
            "update_x_range    function            <function update_x_range at 0x7f9df4ccb820>\n",
            "widgets           module              <module 'ipywidgets' from<...>/ipywidgets/__init__.py'>\n",
            "x0                float64             1.5\n",
            "x1                float64             1.5\n",
            "x_widget          FloatSlider         FloatSlider(value=2.1, de<...>'x', max=11.6, step=0.05)\n",
            "y_widget          FloatSlider         FloatSlider(value=5.8, de<...>10.0, min=0.5, step=0.05)\n"
          ]
        }
      ]
    },
    {
      "cell_type": "code",
      "source": [
        "#@title\n",
        "a = widgets.IntSlider()\n",
        "b = widgets.IntSlider()\n",
        "c = widgets.IntSlider()\n",
        "ui = widgets.HBox([a, b, c])\n",
        "def f(a, b, c):\n",
        "    print((a, b, c))\n",
        "\n",
        "out = widgets.interactive_output(f, {'a': a, 'b': b, 'c': c})\n",
        "#out = widgets.interactive(f, {'a': a, 'b': b, 'c': c})\n",
        "\n",
        "display(ui, out)"
      ],
      "metadata": {
        "colab": {
          "base_uri": "https://localhost:8080/",
          "height": 66,
          "referenced_widgets": [
            "cbcb353bd57843b08eda20b68b8e1e20",
            "deab86cf1c2541af8244ea0a30707c3e",
            "c9c69ea9f64d403f9ec0cdadb648609b",
            "1c493acebc204cbd956e91248c6c278b",
            "769f18c4cab547c5a51350a54efcb91c",
            "2e74941dc1a849d49f2491835e91ce24",
            "ed8a367547834340a042b4b4e01ab38e",
            "95236343cb6046a4a58af5bcc631ed07",
            "90ae3984806f42c2870b36e79dfba64e",
            "c4065b6b22a14788bc8a3d3b0b632ec8",
            "cac19b62c86348108c77201389482926",
            "64865f372bc242d0b9c74b254b5ee02d",
            "7f4ab1f884e34d5f897d104cafb70796"
          ]
        },
        "cellView": "form",
        "collapsed": true,
        "id": "8wk89_5hw4XB",
        "outputId": "dc8e00aa-ebec-403e-8edb-7f67481645e8"
      },
      "execution_count": 64,
      "outputs": [
        {
          "output_type": "display_data",
          "data": {
            "text/plain": [
              "HBox(children=(IntSlider(value=0), IntSlider(value=0), IntSlider(value=0)))"
            ],
            "application/vnd.jupyter.widget-view+json": {
              "version_major": 2,
              "version_minor": 0,
              "model_id": "cbcb353bd57843b08eda20b68b8e1e20"
            }
          },
          "metadata": {}
        },
        {
          "output_type": "display_data",
          "data": {
            "text/plain": [
              "Output()"
            ],
            "application/vnd.jupyter.widget-view+json": {
              "version_major": 2,
              "version_minor": 0,
              "model_id": "64865f372bc242d0b9c74b254b5ee02d"
            }
          },
          "metadata": {}
        }
      ]
    },
    {
      "cell_type": "code",
      "source": [
        "#https://ipywidgets.readthedocs.io/en/latest/index.html\n",
        "#https://jupyterlite.readthedocs.io/en/latest/\n",
        "#https://github.com/jupyter-widgets/tutorial\n",
        "#https://www.programcreek.com/python/example/90674/ipywidgets.IntSlider\n",
        "#https://www.programcreek.com/python/?code=scqubits%2Fscqubits%2Fscqubits-master%2Fscqubits%2Fcore%2Fexplorer.py\n",
        "\n",
        "from ipywidgets import interact, interactive, fixed, interact_manual\n",
        "import ipywidgets as widgets\n",
        "\n",
        "x_widget = widgets.FloatSlider(min=0.0, max=10.0, step=0.05)\n",
        "y_widget = widgets.FloatSlider(min=0.5, max=10.0, step=0.05, value=5.0)\n",
        "\n",
        "def update_x_range(*args):\n",
        "    x_widget.max = 2.0 * y_widget.value\n",
        "\n",
        "y_widget.observe(update_x_range, 'value')\n",
        "\n",
        "def printer(x, y):\n",
        "    print(x, y)\n",
        "\n",
        "interact(printer,x=x_widget, y=y_widget);\n"
      ],
      "metadata": {
        "colab": {
          "base_uri": "https://localhost:8080/",
          "height": 98,
          "referenced_widgets": [
            "906d060d2fc3437a9038173b2110c305",
            "6f236c0b1895451e8861d28194a77508",
            "af82fe0123d5448e806f9dc2897a60f8",
            "57e93a0bef354dbbaec7fe041a7095c3",
            "227eaea9fbfb495a8baf8d7565290086",
            "26eb5e8f0797450dbe872923499a3bd0",
            "b36a425a4b854031991ab19af164341e",
            "7f632b2f9b764310b4bb6086027fae8f",
            "537e01c728e345cba50645870dac53a7",
            "0285105ae52e4e4d8194dde7017b61e0"
          ]
        },
        "id": "U9vRl9clxU8s",
        "outputId": "b57a3625-dc79-4452-9e01-40d70e4ac46d"
      },
      "execution_count": 66,
      "outputs": [
        {
          "output_type": "display_data",
          "data": {
            "text/plain": [
              "interactive(children=(FloatSlider(value=0.0, description='x', max=10.0, step=0.05), FloatSlider(value=5.0, des…"
            ],
            "application/vnd.jupyter.widget-view+json": {
              "version_major": 2,
              "version_minor": 0,
              "model_id": "906d060d2fc3437a9038173b2110c305"
            }
          },
          "metadata": {}
        }
      ]
    },
    {
      "cell_type": "code",
      "source": [
        "#@title proceso de entrenamiento y test con video\n",
        "import time\n",
        "from IPython.display import clear_output\n",
        "\n",
        "random.seed(777)\n",
        "topologia = [p, 4, 8, 1]\n",
        "#red = crea_nn(topologia, sigm)\n",
        "\n",
        "#print(red.shape)\n",
        "red = []\n",
        "red.append(capa_neuronal(2, 4, sigm, 5))\n",
        "red.append(capa_neuronal(4, 8, sigm, 3))\n",
        "red.append(capa_neuronal(8, 1, sigm, 10))\n",
        "\n",
        "loss = []\n",
        "frames = []\n",
        "\n",
        "for i in range(2000):\n",
        "  Py = train(red, X_coord, Y_class, l2_cost, 0.5)     # entrenamiento\n",
        "\n",
        "  if i%25 ==0:\n",
        "    loss.append(l2_cost[0](Py, Y_class))      # LOSS del entrenamiento\n",
        "\n",
        "    res = 50\n",
        "    _x0 = np.linspace(-1.5, 1.5, res)\n",
        "    _x1 = np.linspace(-1.5, 1.5, res)\n",
        "    _Y = np.zeros((res, res))\n",
        "\n",
        "    for i0, x0 in enumerate(_x0):\n",
        "      for i1, x1 in enumerate(_x1):\n",
        "        _Y[i0, i1] = train(red, np.array([[x0, x1]]), Y_class, l2_cost, train=False)[0,0]   # verificacion\n",
        "\n",
        "    fig, ax = plt.subplots(nrows=2, ncols=3, figsize=(15, 10))\n",
        "    #fig, ax = plt.subplots()\n",
        "    for l, Nlayer in enumerate(red):\n",
        "      #layer = Nlayer.W.copy()\n",
        "      #layer[0].append(Nlayer[0].b)\n",
        "      layer = np.concatenate((Nlayer.W, Nlayer.b), axis=0)\n",
        "\n",
        "      ax[0,l].set_title(f'W & b capa:{l}')\n",
        "      #pone numeros\n",
        "      for a in range(layer.shape[0]): #layer.W.shape[0]):\n",
        "        for b in range(layer.shape[1]): #layer.W.shape[1]):\n",
        "            ax[0,l].text(a, b, '{:.2f}'.format(layer[a, b]), ha='center', va='center', color='red')\n",
        "\n",
        "      #imprime    \n",
        "      #ax.matshow(layer.W)\n",
        "      ax[0,l].imshow(layer.T, cmap='bone') # cmap='gray'   cmap='binary'  cmap='hot'\n",
        "      #ax[1,l].imshow(layer.b, cmap='bone') # cmap='gray'   cmap='binary'  cmap='hot'\n",
        "\n",
        "      #limpia\n",
        "      for a in range(layer.shape[0]):\n",
        "        for b in range(layer.shape[1]):\n",
        "            ax[0,l].text(a, b, '')\n",
        "\n",
        "    #plt.show()\n",
        "\n",
        "    \"\"\"\n",
        "    #for l, layer in enumerate(red):\n",
        "      #plt.matshow(layer.W)\n",
        "    plt.show()\n",
        "    \"\"\"\n",
        "\n",
        "    ax[1,0].set_title(f'EVAL iter:{i}')\n",
        "    ax[1,0].pcolormesh(_x0, _x1, _Y, cmap=\"coolwarm\")           # imprime la malla de resultados de la verificacion\n",
        "    ax[1,0].axis(\"equal\")\n",
        "\n",
        "    #plt.scatter(X_coord[:,0], X_coord[:,1], c=Y_class)\n",
        "    ax[1,0].scatter(X_coord[:,0], X_coord[:,1], c=Y_class)      # imprime los puntos\n",
        "\n",
        "    clear_output(wait=True)\n",
        "    #plt.show()\n",
        "    ax[1,2].set_title(f'LOSS {loss[-1]} iter:{i}')\n",
        "    ax[1,2].plot(range(len(loss)), loss)                        # imprime el loss\n",
        "    #plt.show()\n",
        "\n",
        "    # FRAMES PARA VIDEO\n",
        "    figu = plt.gcf()\n",
        "    figu.canvas.draw()\n",
        "    image = np.frombuffer(figu.canvas.tostring_rgb(), dtype='uint8')\n",
        "    image = image.reshape(figu.canvas.get_width_height()[::-1] + (3,))\n",
        "    frames.append(image)\n",
        "\n",
        "    plt.show()\n",
        "\n",
        "    #time.sleep(1)\n",
        "\n",
        "# Muestra el video\n",
        "#media.show_video(frames, fps=3)"
      ],
      "metadata": {
        "cellView": "form",
        "id": "qyz88t6pldWC"
      },
      "execution_count": null,
      "outputs": []
    },
    {
      "cell_type": "code",
      "source": [
        "relu[0](-3)"
      ],
      "metadata": {
        "colab": {
          "base_uri": "https://localhost:8080/"
        },
        "id": "B235SHDag8_f",
        "outputId": "3f948887-7640-4ad1-dfea-532502973cb2"
      },
      "execution_count": null,
      "outputs": [
        {
          "output_type": "execute_result",
          "data": {
            "text/plain": [
              "0"
            ]
          },
          "metadata": {},
          "execution_count": 163
        }
      ]
    },
    {
      "cell_type": "code",
      "source": [
        "red[0].W"
      ],
      "metadata": {
        "colab": {
          "base_uri": "https://localhost:8080/"
        },
        "id": "f_HI0NvfgNi-",
        "outputId": "fbeb4826-451b-483e-b843-17bf90122837"
      },
      "execution_count": null,
      "outputs": [
        {
          "output_type": "execute_result",
          "data": {
            "text/plain": [
              "array([[ 1.90401014,  4.62566913, -1.09476949, -2.50862738],\n",
              "       [ 3.57917139,  0.24109113, -3.02505216, -1.62772436]])"
            ]
          },
          "metadata": {},
          "execution_count": 158
        }
      ]
    },
    {
      "cell_type": "code",
      "source": [
        "vars(red[0])"
      ],
      "metadata": {
        "colab": {
          "base_uri": "https://localhost:8080/"
        },
        "id": "yJ9bFxTIfboB",
        "outputId": "500c6af1-80dc-4d4d-b064-dc51050af17c"
      },
      "execution_count": null,
      "outputs": [
        {
          "output_type": "execute_result",
          "data": {
            "text/plain": [
              "{'n_entrada': 2,\n",
              " 'n_salidas': 4,\n",
              " 'func_activacion': <function __main__.<lambda>(x)>,\n",
              " 'deriv_activacion': <function __main__.<lambda>(x)>,\n",
              " 'b': array([[0., 0., 0., 0.]]),\n",
              " 'W': array([[ 1.90401014,  4.62566913, -1.09476949, -2.50862738],\n",
              "        [ 3.57917139,  0.24109113, -3.02505216, -1.62772436]]),\n",
              " 'W_': [],\n",
              " 'X': [],\n",
              " 'neurona': [],\n",
              " 'activa': [],\n",
              " 'dactiva': [],\n",
              " 'loss': [],\n",
              " 'dloss': [],\n",
              " 'dloss_back': [],\n",
              " 'delta': [],\n",
              " 'grad_W': [],\n",
              " 'grad_b': []}"
            ]
          },
          "metadata": {},
          "execution_count": 156
        }
      ]
    },
    {
      "cell_type": "code",
      "source": [
        "#@title  librerias Graphics and plotting.\n",
        "print('Installing mediapy:')\n",
        "!command -v ffmpeg >/dev/null || (apt update && apt install -y ffmpeg)\n",
        "!pip install -q mediapy\n",
        "import mediapy as media"
      ],
      "metadata": {
        "colab": {
          "base_uri": "https://localhost:8080/"
        },
        "id": "_aMlS2F5hdzd",
        "outputId": "9b4f77ec-b24d-4503-c28b-1885786de000"
      },
      "execution_count": null,
      "outputs": [
        {
          "output_type": "stream",
          "name": "stdout",
          "text": [
            "Installing mediapy:\n",
            "\u001b[2K     \u001b[90m━━━━━━━━━━━━━━━━━━━━━━━━━━━━━━━━━━━━━━━━\u001b[0m \u001b[32m1.6/1.6 MB\u001b[0m \u001b[31m27.6 MB/s\u001b[0m eta \u001b[36m0:00:00\u001b[0m\n",
            "\u001b[?25h"
          ]
        }
      ]
    },
    {
      "cell_type": "code",
      "source": [
        "#@title desplegar video\n",
        "import mediapy as media\n",
        "# Muestra el video\n",
        "media.show_video(frames, fps=3)"
      ],
      "metadata": {
        "colab": {
          "base_uri": "https://localhost:8080/",
          "height": 743
        },
        "id": "06DRsbJxhT89",
        "outputId": "6d55c00d-c405-41fe-ab77-e5dc0ed5024e"
      },
      "execution_count": null,
      "outputs": [
        {
          "output_type": "display_data",
          "data": {
            "text/plain": [
              "<IPython.core.display.HTML object>"
            ],
            "text/html": [
              "<table class=\"show_videos\" style=\"border-spacing:0px;\"><tr><td style=\"padding:1px;\"><video controls width=\"1080\" height=\"720\" style=\"object-fit:cover;\" loop autoplay>\n",
              "      <source src=\"data:video/mp4;base64,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\" type=\"video/mp4\"/>\n",
              "      This browser does not support the video tag.\n",
              "      </video></td></tr></table>"
            ]
          },
          "metadata": {}
        }
      ]
    },
    {
      "cell_type": "code",
      "source": [
        "#@title\n",
        "layer"
      ],
      "metadata": {
        "colab": {
          "base_uri": "https://localhost:8080/"
        },
        "cellView": "form",
        "collapsed": true,
        "id": "GmenKfLdd0EW",
        "outputId": "86feb2a2-986a-4812-ceb1-1d260183e559"
      },
      "execution_count": null,
      "outputs": [
        {
          "output_type": "execute_result",
          "data": {
            "text/plain": [
              "array([[-0.11878377, -0.6561763 , -0.6834172 , -0.68873911],\n",
              "       [ 0.66061351,  0.51964402, -0.33897284,  0.96597544],\n",
              "       [ 0.03074625, -0.23378311, -0.23948108,  0.2084533 ]])"
            ]
          },
          "metadata": {},
          "execution_count": 117
        }
      ]
    },
    {
      "cell_type": "code",
      "source": [
        "#@title\n",
        "Nlayer.b"
      ],
      "metadata": {
        "colab": {
          "base_uri": "https://localhost:8080/"
        },
        "cellView": "form",
        "collapsed": true,
        "id": "TsNyYN7ld5T7",
        "outputId": "1a2b1f89-116f-4b00-fb1a-abc7c3efd69a"
      },
      "execution_count": null,
      "outputs": [
        {
          "output_type": "execute_result",
          "data": {
            "text/plain": [
              "array([[ 0.03074625, -0.23378311, -0.23948108,  0.2084533 ]])"
            ]
          },
          "metadata": {},
          "execution_count": 118
        }
      ]
    },
    {
      "cell_type": "code",
      "source": [
        "#@title\n",
        "for l, layer in enumerate(red):\n",
        "  print (layer.W)"
      ],
      "metadata": {
        "colab": {
          "base_uri": "https://localhost:8080/"
        },
        "id": "Ao1Yso5zaUcO",
        "outputId": "2d7e6de5-8b33-4e83-a1b9-5039ef54f792",
        "cellView": "form",
        "collapsed": true
      },
      "execution_count": null,
      "outputs": [
        {
          "output_type": "stream",
          "name": "stdout",
          "text": [
            "[[ 0.91443482 -0.68711245  0.07775442 -0.79371103]\n",
            " [ 0.20993999  0.57737834  0.83419131 -0.55221335]]\n",
            "[[ 0.91911512  0.47607804 -0.78071436  0.44327654 -0.33286943  0.43298399\n",
            "  -0.49094377  0.37441063]\n",
            " [ 0.7678828  -0.36255103 -0.49552923 -0.36897207  0.78443632 -0.90628354\n",
            "   0.46420499  0.19469626]\n",
            " [-0.33180546 -0.81417344  0.37296148  0.382687    0.84906836 -0.81347008\n",
            "   0.60625856  0.76019638]\n",
            " [ 0.4888658   0.26222229 -0.46360502  0.82703822 -0.02636784  0.40843201\n",
            "  -0.80913799 -0.75944577]]\n",
            "[[-0.15976072]\n",
            " [-0.91068376]\n",
            " [-0.2597261 ]\n",
            " [-0.62038373]\n",
            " [-0.72917268]\n",
            " [-0.79408732]\n",
            " [-0.0628835 ]\n",
            " [-0.82925229]]\n"
          ]
        }
      ]
    },
    {
      "cell_type": "code",
      "source": [
        "#@title PRUEBA MULTIPLICACION MATRIS Y MULTIPLICACION VALORES\n",
        "import numpy as np\n",
        "\n",
        "A = np.array([[1, 2], [3, 4]])\n",
        "B = np.array([[5, 6], [7, 8]])\n",
        "C = np.array([[9, 10], [11, 12]])\n",
        "\n",
        "D = A @ B * C\n",
        "print(\"R1:\", D)\n",
        "\n",
        "D = A @ B \n",
        "print(D)\n",
        "\n",
        "D = D * C\n",
        "print(\"R2:\", D)\n",
        "\n",
        "D = B * C\n",
        "print(D)\n",
        "\n",
        "D = A @ D\n",
        "print(\"R3:\", D)\n",
        "\n",
        "D = A.dot(B * C)\n",
        "print(\"R4:\", D)\n",
        "\n",
        "D = A.dot(B)\n",
        "print( D)\n",
        "\n",
        "D = D * C\n",
        "print(\"R5:\", D)\n"
      ],
      "metadata": {
        "colab": {
          "base_uri": "https://localhost:8080/"
        },
        "id": "cLH3jMOYLrpi",
        "outputId": "1e2fb750-3212-4f91-91c2-f090fb109009"
      },
      "execution_count": null,
      "outputs": [
        {
          "output_type": "stream",
          "name": "stdout",
          "text": [
            "R1: [[171 220]\n",
            " [473 600]]\n",
            "[[19 22]\n",
            " [43 50]]\n",
            "R2: [[171 220]\n",
            " [473 600]]\n",
            "[[45 60]\n",
            " [77 96]]\n",
            "R3: [[199 252]\n",
            " [443 564]]\n",
            "R4: [[199 252]\n",
            " [443 564]]\n",
            "[[19 22]\n",
            " [43 50]]\n",
            "R5: [[171 220]\n",
            " [473 600]]\n"
          ]
        }
      ]
    },
    {
      "cell_type": "markdown",
      "source": [
        "Este ejemplo implementa una red neuronal de dos capas con una función de activación sigmoide en cada capa. La regla de la cadena se utiliza para calcular los gradientes de la función de pérdida con respecto a los pesos y sesgos. Finalmente, los pesos y sesgos se actualizan utilizando el descenso de gradiente.\n",
        "\n",
        "\n",
        "La gradiente es el vector de derivadas parciales de la función de pérdida con respecto a cada peso y sesgo en la red neuronal. Se puede calcular utilizando diferentes técnicas, como la regla de la cadena.\n",
        "\n",
        "La regla de la cadena es un método para calcular el gradiente de una función compuesta, es decir, una función que depende de otras funciones. En el caso del backpropagation, la función de pérdida es una función compuesta de las funciones de activación de las capas de la red neuronal.\n",
        "\n",
        "Aquí está un ejemplo de cómo calcular la gradiente de la función de pérdida con respecto a los pesos y sesgos de una capa utilizando la regla de la cadena:\n",
        "\n",
        "Calcular la salida de la capa actual utilizando la función de activación y los pesos y sesgos actuales.\n",
        "\n",
        "Calcular el gradiente de la función de pérdida con respecto a la salida de la capa actual. Este gradiente se conoce como el gradiente \"delta\".\n",
        "\n",
        "Propagar el gradiente delta hacia atrás a través de la capa anterior utilizando la matriz transpuesta de los pesos de la capa actual.\n",
        "\n",
        "Calcular el gradiente de la función de pérdida con respecto a los pesos de la capa actual utilizando la entrada a la capa actual. Este gradiente se puede calcular como el producto punto entre el gradiente delta y la entrada a la capa actual.\n",
        "\n",
        "Calcular el gradiente de la función de pérdida con respecto al sesgo de la capa actual utilizando el gradiente delta.\n",
        "\n",
        "Repetir los pasos 3 a 5 para cada capa de la red neuronal hasta llegar a la capa de entrada.\n",
        "\n",
        "Una vez que se han calculado los gradientes con respecto a todos los pesos y sesgos, se pueden utilizar para actualizar los pesos y sesgos utilizando un algoritmo de optimización, como el descenso de gradiente estocástico o Adam.\n",
        "\n",
        "\n",
        "\n",
        "\n"
      ],
      "metadata": {
        "id": "XHu6j68vSCT2"
      }
    },
    {
      "cell_type": "code",
      "source": [
        "#@title PRUEBA RED BASICA NEURONAL\n",
        "import numpy as np\n",
        "\n",
        "def sigmoid(x):\n",
        "    return 1 / (1 + np.exp(-x))\n",
        "\n",
        "def sigmoid_derivative(x):\n",
        "    return x * (1 - x)\n",
        "\n",
        "# Datos de entrada\n",
        "inputs = np.array([[0,0,1], [0,1,1], [1,0,1], [1,1,1]])\n",
        "outputs = np.array([[0],[1],[1],[0]])\n",
        "\n",
        "# Inicializar pesos aleatoriamente\n",
        "weights_0_1 = 2 * np.random.random((3, 4)) - 1\n",
        "weights_1_2 = 2 * np.random.random((4, 1)) - 1\n",
        "\n",
        "# Entrenamiento\n",
        "for iteration in range(10000):\n",
        "\n",
        "    # Pasada hacia adelante\n",
        "    layer_0 = inputs\n",
        "    layer_1 = sigmoid(np.dot(layer_0, weights_0_1))\n",
        "    layer_2 = sigmoid(np.dot(layer_1, weights_1_2))\n",
        "\n",
        "    # Cálculo de la pérdida\n",
        "    layer_2_error = outputs - layer_2\n",
        "    layer_2_delta = layer_2_error * sigmoid_derivative(layer_2)\n",
        "\n",
        "    # Backpropagation\n",
        "    layer_1_error = layer_2_delta.dot(weights_1_2.T)\n",
        "    layer_1_delta = layer_1_error * sigmoid_derivative(layer_1)\n",
        "\n",
        "    weights_1_2 += layer_1.T.dot(layer_2_delta)\n",
        "    weights_0_1 += layer_0.T.dot(layer_1_delta)\n",
        "\n",
        "# Resultados finales\n",
        "print(\"Salida después del entrenamiento:\")\n",
        "print(layer_2)\n"
      ],
      "metadata": {
        "colab": {
          "base_uri": "https://localhost:8080/"
        },
        "id": "WA1L1Ei6R_BQ",
        "outputId": "c3b0511c-aad2-4373-d624-7a6067e9f18b"
      },
      "execution_count": null,
      "outputs": [
        {
          "output_type": "stream",
          "name": "stdout",
          "text": [
            "Salida después del entrenamiento:\n",
            "[[0.01053463]\n",
            " [0.98987782]\n",
            " [0.98981285]\n",
            " [0.00993244]]\n"
          ]
        }
      ]
    },
    {
      "cell_type": "code",
      "source": [
        "#@title\n",
        "weights_1_2, weights_0_1"
      ],
      "metadata": {
        "colab": {
          "base_uri": "https://localhost:8080/"
        },
        "cellView": "form",
        "collapsed": true,
        "id": "TJbewmHDWvus",
        "outputId": "0913723e-94c3-427b-d7ff-9845a6708bd8"
      },
      "execution_count": null,
      "outputs": [
        {
          "output_type": "execute_result",
          "data": {
            "text/plain": [
              "(array([[-11.87243918],\n",
              "        [  4.97385893],\n",
              "        [ -7.81853413],\n",
              "        [  2.02123815]]),\n",
              " array([[-6.62370136, -2.79553102,  3.97926259, -1.197868  ],\n",
              "        [-6.62083843, -2.85044338,  3.99525479, -1.07274047],\n",
              "        [ 2.83697788,  4.51791006, -6.22097687,  1.94320615]]))"
            ]
          },
          "metadata": {},
          "execution_count": 37
        }
      ]
    },
    {
      "cell_type": "code",
      "source": [
        "#@title test base\n",
        "    layer_0 = np.array([1,1,0])\n",
        "    layer_1 = sigmoid(np.dot(layer_0, weights_0_1))\n",
        "    layer_2 = sigmoid(np.dot(layer_1, weights_1_2))\n",
        "    layer_2"
      ],
      "metadata": {
        "colab": {
          "base_uri": "https://localhost:8080/"
        },
        "id": "Q2h5WMfNXYnv",
        "outputId": "27a755d5-f2d2-4465-dd10-05dd441028b6"
      },
      "execution_count": null,
      "outputs": [
        {
          "output_type": "execute_result",
          "data": {
            "text/plain": [
              "array([0.00049562])"
            ]
          },
          "metadata": {},
          "execution_count": 43
        }
      ]
    }
  ]
}