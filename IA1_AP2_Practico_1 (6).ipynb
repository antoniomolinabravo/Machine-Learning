{
  "nbformat": 4,
  "nbformat_minor": 0,
  "metadata": {
    "colab": {
      "provenance": [],
      "collapsed_sections": [
        "kEloa5uXLIPK",
        "kZWTbXiJ2qnE",
        "NO2-omLG25ZB",
        "g-Y2h_iAjBqi",
        "S_BhTrrQlLOt",
        "Gch1aN5l60Yo",
        "c4DPyT3m64-w",
        "X7LBCq8zdQwP",
        "Mr6SxpSo77kn"
      ]
    },
    "kernelspec": {
      "name": "python3",
      "display_name": "Python 3"
    }
  },
  "cells": [
    {
      "cell_type": "markdown",
      "metadata": {
        "id": "tHopPtVaNF1K"
      },
      "source": [
        "# **Diplomado IA: Inteligencia Artificial I - Parte 2**. <br> Práctico 1: Grafo cómputo, inicialización de pesos y funciones activación\n",
        "---\n",
        "---\n",
        "\n",
        "**Profesores:**\n",
        "- Carlos Aspillaga\n",
        "- Gabriel Sepúlveda\n",
        "\n",
        "**Ayudante:**\n",
        "- Mathias Lambert\n",
        "---\n",
        "---"
      ]
    },
    {
      "cell_type": "markdown",
      "metadata": {
        "id": "uIdAKAdELPSl"
      },
      "source": [
        "# **Instrucciones Generales**"
      ]
    },
    {
      "cell_type": "markdown",
      "metadata": {
        "id": "BmhnKlt8Ns7A"
      },
      "source": [
        "El siguiente práctico se debe realizar de forma **individual**. El formato de entregar es el **archivo .ipynb con todas las celdas ejecutadas**. Las secciones donde se planteen preguntas de forma explícita deben ser respondida en celdas de texto, y no se aceptará solo el _output_ de una celda de código como respuesta.\n",
        "\n",
        "**Nombre alumno:**\n",
        "\n",
        "El siguiente práctico cuanta con 3 secciones donde cada una contendrá 1 o más actividades a realizar. Algunas actividades correspondrán a escribir código y otras a responder preguntas. \n",
        "\n",
        "Antes de responder, se recomienda **fuertemente** revisar las secciones previas donde se desarrollan los ejemplos, dado que algunas de las actividades pueden ser completadas reutilizando el mismo código.\n",
        "\n",
        "**Fecha de entrega:** viernes 16 de septiembre de 2022, 23:59 hrs.\n",
        "\n",
        "---\n",
        "**IMPORTANTE:** habrá un bonus de 1 décima para todos aquellos alumnos/as que muestren buen orden en sus respuestas (esto aplica a legibilidad de código, buena redacción, formalidad, organización del jupyter notebook, seguimiento de instrucciones, etc). El criterio lo pondrá cada ayudante corrector. La nota máxima obtenible en el laboratorio es 7.0"
      ]
    },
    {
      "cell_type": "markdown",
      "metadata": {
        "id": "kEloa5uXLIPK"
      },
      "source": [
        "# **Índice**"
      ]
    },
    {
      "cell_type": "markdown",
      "metadata": {
        "id": "DGlX5q_pQYRa",
        "colab_type": "toc"
      },
      "source": [
        ">[Diplomado IA: Inteligencia Artificial I - Parte 2.  Práctico 1: Grafo cómputo, inicialización de pesos y funciones activación](#scrollTo=tHopPtVaNF1K)\n",
        "\n",
        ">[Instrucciones Generales](#scrollTo=uIdAKAdELPSl)\n",
        "\n",
        ">[Índice](#scrollTo=kEloa5uXLIPK)\n",
        "\n",
        ">[Grafos de Cómputo](#scrollTo=Y653wzAj2ZhO)\n",
        "\n",
        ">>[Experimento 1: Construcción de grafo de cómputo para entrenamiento de perceptrón](#scrollTo=M4AuK4iaYFY9)\n",
        "\n",
        ">>[Experimento 2: ¿ Cómo entrenar nuestro perceptrón en pytorch ?](#scrollTo=DVUgM5taN_R2)\n",
        "\n",
        ">>[Actividad 1](#scrollTo=oILMcIAhnP-C)\n",
        "\n",
        ">[Funciones de Activación](#scrollTo=kZWTbXiJ2qnE)\n",
        "\n",
        ">>[Experimento 1: Explorando y visualizando las funciones de activación](#scrollTo=NO2-omLG25ZB)\n",
        "\n",
        ">>[Actividad 2.1](#scrollTo=g-Y2h_iAjBqi)\n",
        "\n",
        ">>[Actividad 2.2](#scrollTo=S_BhTrrQlLOt)\n",
        "\n",
        ">[Inicialización de Pesos](#scrollTo=Gch1aN5l60Yo)\n",
        "\n",
        ">>[Experimento 1: Inicialización con valor constante](#scrollTo=c4DPyT3m64-w)\n",
        "\n",
        ">>>[Inicialización de pesos con valores menor a 1](#scrollTo=ZbxLQ3iZswW0)\n",
        "\n",
        ">>>[Inicialización de pesos con valores mayor a 1](#scrollTo=4zzY7EAy8cV1)\n",
        "\n",
        ">>[Actividades](#scrollTo=aSZ6LkFc3z_D)\n",
        "\n",
        ">>>[Actividad 3.1](#scrollTo=X7LBCq8zdQwP)\n",
        "\n",
        ">>>[Actividad 3.2](#scrollTo=Mr6SxpSo77kn)\n",
        "\n"
      ]
    },
    {
      "cell_type": "markdown",
      "metadata": {
        "id": "Y653wzAj2ZhO"
      },
      "source": [
        "# **Grafos de Cómputo**"
      ]
    },
    {
      "cell_type": "markdown",
      "metadata": {
        "id": "zC-l7zklAjal"
      },
      "source": [
        "En esta sección implementaremos las estructuras de datos que nos permitirán calcular el valor del gradiente en cada neurona dentro de una red neuronal, y a través de ellos, aplicar una actualización de los parámetros de la red. Este procedimiento es conocido como *Backpropagation*.\n",
        "\n",
        "Las estructuras de datos mencionadas representarán a cada una de las operaciones matemáticas aplicadas, y serán construidas a partir del grafo de cómputo que caracteriza la red."
      ]
    },
    {
      "cell_type": "markdown",
      "metadata": {
        "id": "M4AuK4iaYFY9"
      },
      "source": [
        "## Experimento 1: Construcción de grafo de cómputo para entrenamiento de perceptrón"
      ]
    },
    {
      "cell_type": "markdown",
      "metadata": {
        "id": "uqz2CwT4dwpE"
      },
      "source": [
        "Para comenzar con un ejemplo sencillo, consideraremos la estructura fundamental de redes neuronales conocida como Perceptrón. En la siguiente figura, se puede ver un Perceptrón con función de activación sigmoidal junto a las ecuaciones que lo modelan:\n",
        "\n",
        "<table>\n",
        "  <tr>\n",
        "    <td>\n",
        "      <img src='https://imgur.com/AbVPpPQ.png'/>\n",
        "    </td>\n",
        "    <td>\n",
        "$\\LARGE s = \\sigma( x \\cdot w_{0} + y \\cdot w_{1} + w_{2} )$\n",
        "\n",
        "\\\\\n",
        "\n",
        "$donde:$\n",
        "\n",
        "$\\LARGE \\sigma(x) = \\frac{1}{1+e^{-x}}$\n",
        "    </td>\n",
        "  </tr>\n",
        "</table>"
      ]
    },
    {
      "cell_type": "markdown",
      "metadata": {
        "id": "HKvyfLBvgXP7"
      },
      "source": [
        "Para poder entrenar nuestro perceptrón de forma supervisada (o cualquier otro modelo), lo primero que necesitamos es contar con un conjunto de datos (dataset) que nos informen acerca de la relación entrada/salida que deseamos *aprender*, tal como la tabla que se muestra a continuación:\n",
        "\n",
        "<table>\n",
        "  <tr>\n",
        "    <td align=\"center\"><b>Entrada</b><br>$\\vec{x}$</td>\n",
        "    <td align=\"center\"><b>Salida Ideal<br>target</b></td>\n",
        "  </tr>\n",
        "  <tr>\n",
        "    <td align=\"center\">$\\vec{x}_{0}$</td>\n",
        "    <td align=\"center\">$t{0}$</td>\n",
        "  </tr>\n",
        "  <tr>\n",
        "    <td align=\"center\">$\\vec{x}_{1}$</td>\n",
        "    <td align=\"center\">$t{1}$</td>\n",
        "  </tr>\n",
        "  <tr>\n",
        "    <td align=\"center\">...</td>\n",
        "    <td align=\"center\">...</td>\n",
        "  </tr>\n",
        "  <tr>\n",
        "    <td align=\"center\">$\\vec{x}_{0}$</td>\n",
        "    <td align=\"center\">$t{0}$</td>\n",
        "  </tr>\n",
        "</table>\n",
        "\n",
        "Para poder aprender la relación entrada/salida anteriormente mostrada, luego debemos contar con una función que cuantifique el ***error*** entre el **valor actual** que entrega la red y el **valor deseado** (target), **para cada una de las entradas** (entrada). Esta función es conocida como *función de pérdida* o *Loss Function* (en inglés).\n",
        "\n",
        "La *Loss Function* recibirá como entrada el valor de salida del perceptrón (model output) calculado a partir de una determinada entrada $\\vec{x}$, y el valor de la salida ideal que deseamos obtener para la misma entrada (*target*). Con estos dos valores, la *Loss function* calculará un valor de pérdida (o error) que indicará que tan *parecidas* o *cercanas* son la salida actual con el *target*.\n",
        "\n"
      ]
    },
    {
      "cell_type": "markdown",
      "metadata": {
        "id": "bHJE3ioGlSik"
      },
      "source": [
        "![loss_function_black_box(1).png](data:image/png;base64,iVBORw0KGgoAAAANSUhEUgAAAdcAAAEKCAIAAADPRohnAAAsj0lEQVR4Xu2dCXxMV/vHx77vRe2qr30ram/xWqv2Fq+l1K5FLbW8/KmiCI0lljbU+qL2rbYiKlVbay1q32pNKxEEaZCY/+M+cpycmYlMMjdzZvy+n/n4ZJ7znDsz8eR7zz1z7r0WKwAAAPdhUQMAAAASEVgYAADcCSwMAADuBBYGAAB3AgsDAIA7gYUBAMCdwMIAAOBOYGEAAHAnsDAAALgTWBgAANwJLAwAAO4EFgYAAHcCCwMAgDuBhQEAwJ3AwgAA4E5gYQAAcCewMAAAuBNYGAAA3AksDAAA7gQWBgAAdwILg8Tj0aNHYWFhatQrCAkJUUMAxA1YGCQS27dvL1KkyK+//qo2eDgPHjwYOnTou+++qzYAEDdgYZAY+Pr6Wgy8z8IFChSgz1W5cmW1AYC4AQuDxKBv377eauEkSZLAwiAhwMIgMYCFAXAELAwSA1gYAEfAwsBc1q9fP2rUKJIUW7hbt26jDCIjI+W0q1evjh8/vkmTJkWLFi1oULFixR49euzatUtOY7Zu3UpbGDduHP18/PjxFi1aUH7NmjWnT58eHh4u0iIiIvz9/Rs1asQbbNCgwYwZMyhIL83vYdu2bS82KrF27dqOHTuWK1eOepUuXbpt27YrVqyIioqScx49esQbYQvnzZuXn27cuFFOA+ClwMLAXDp37sz+VSAbcgI5cejQoSlSpFAzomnZsuU///wjb3PAgAEUT5s27blz5zJnziwn79u3j3N+//33QoUKyU1MsWLFTp48yT9//vnn8maJS5cukf1j9njOW2+9df78eZF5//59NcOA9hzS9gB4ObAwMJe5c+d26tSpePHiLCkamXYyePLkCSewUi2GVT/66KOvvvrq22+/JS9XqVJFqG3EiBHyNoWFa9SoIXKIIkWKcMKFCxeyZcvGwTfeeGPIkCGTJ08mP2bKlIkiefLk4SbFwmfPns2ZMyc30Sh40KBBs2fPHjZsWJkyZTiYPXv2ixcvcjLtRfiD8FiYmvjpggUL5G0C8FJgYZAYOJoXPnPmTNKkSSmeI0cOeaTJ+Pv7c69cuXLJcSFuolq1aocPHyanHzhwYPPmzZxQp04dbu3YsaMYdBM3btwoV66c6CtbmIbkNNrleK9evR4/fiyaoqKiaN/ATZUqVXr69KlosmJeGCQYWBgkBo4sPHz4cI6TcOW4oGjRopwQHBwsgsLCWbNmvXv3rpT+DHoJbq1QoYIYcQuuX78uJjFkCy9fvpyDDRo0UDzLdOjQgROE6xlYGCQQWBgkBo4s/McffyxdunTs2LGhoaFyXNCkSRPu+Oeff4qgsHDXrl2l3Of079+fW1euXKm2GQwaNIgTZAs3btyYg7/88ouU+4KDBw9yQvv27eU4LAwSCCwMEgNHFo6Fhw8fBgYGlipVijuKCVmrZOHvvvtO6vEc/nqN5Hj79m21zSAgIIC7yxbOkiULRVKmTKks3hBERUWlTp3aYkw0y3FYGCQQWBgkBi+1cHh4OA1C/f39Bw4c2KJFi5IlSyZLloy7MHYtbHdZGPuU/lUborly5Qp3FxYOCQnhCL0oL2uzS/LkySmH/pWnLGBhkEBgYZAYxGLhO3fu9O/fP0OGDJwgky5dOrHUwa6F7a4m5kVvefPmVRuioTEydxcWvnDhAkfiiHxlOFgYJBBYGCQGjiwcHBxcrFgxYbc0adKUL1++bdu2vr6+gYGBERERTZs25Sa7FrY7h8tfvsUyFr527Rp3Fxa+fv06R/Lly8cnX8SOvO4CFgYJBBYGiYEjC4uFByVLlgwICLBd0lC/fn1OoOGqCMZuYZ5KJjnaLp9g9uzZw92FhcPDw1mmypxvXICFQQKBhUFiYNfCDx48SJUqFQXpXxqfSukvECNleTVx7Bbu1q0bt9qdNSZ8fHw4Qf52jpfEkVIdvROChuf0NpRdBSwMEggsDBIDsXps//79InjmzBkO0kBYyn3B6dOn2XEE/SzisVv4p59+4tZ69eqpbcawlwa8nCBbuHfv3hxUztMTbNu2jRPKli0rx/lbxIoVK8pBAOIOLAwSg6FDh7LCNm3aJIJ//fUXBzNkyGB7J6SHDx9Wr16dE4ijR4+Kptgt/PTpU3HxoC+//FJuevToUevWrcU2ZQuT5fksPhqY7969W+r0jHv37omTsGfOnCk3pU2b1hKvqQwAGFgYJAZTpkxhhZUoUcLf39/Pz48v0FOhQgWOv//++0FBQZwcGRm5ZcsWcfUGJjAwUGwtdgsTJ06cSJ8+PedUrVqVvLlw4UIfH58iRYpYjOVo3KRcR2LYsGEcJ7FSMu0kKPjkyZPt27eXLl2am8qVK0cql3uJkXX37t3pVdavXy+3AvBSYGGQGBw7dkxZ/3vkyBGr8UUZTw1bjDlZXpYrBFqvXj1xq6Rp06aJrb3UwlZjDlescpOh7U+dOpV//u9//yt3IfuLOWVGWT9XtGjRK1euyF2IHj16yDm4AR1wFlgYJBLz58+Xr0L5/fffc5xEXLZsWcljz6CxJyVERUVdv36d9V2pUiWxqbhY2GosgxsxYgRtimSaIkWKUqVKjR49OiwsjIar3H3UqFFqH6t1zZo18hV/mCxZsgwePNh22oS4e/du8+bNRSapX80AIFZgYZB40LH877//vmvXrqtXrypNZ86cWbVqFR3Rb9myRb5khBksWrSIjfntt9+qbdFcu3YtICCA3g/tDA4dOqTMQthCxt+9e/fRo0fv3LmjtgEQK7Aw8DYCAwPHjx9PTg8JCVHbDMRXheRZtQ2ARAcWBt7GsmXLWLI+Pj5qm9UaFhaWO3duak2dOvW9e/fUZgASHVgYeBs3b97ky+5kzZp1z549clNQUJC4ADxuTQQ0ARYGXohYc2Yx1pbxvYhq164t1mOULl3a0fnNACQysDDwTnx8fNKkSSNcLEiaNGmHDh3wHRrQB1gYeC23b9+eO3dur169mjdvXr9+/S5dukydOlW+NhsAOgALAwCAO4GFAQDAncDCAADgTmBhAABwJ7AwAAC4E1gYAADcCSwMAADuBBYGAAB3AgsDL2T06NGjRo2if9UGAPQDFgZeCN9Bjv5VGwDQD1gYeCGwMPAgYGHghcDCwIOAhYEXAgsDDwIWBl4ILAw8CFgYeCGwMPAgYGHghcDCwIOAhYEXAgsDDwIWBl4ILAw8CFgYeCGwMPAgYGHghcDCwIOAhYEXAgsDDwIWBl4ILAw8CFgYeCGwMPAgYGHghcDCwIOAhYEXAgsDDwIWBl4ILAw8CFgYeCGwMPAgYGHghcDCwIOAhYEXAgsDDwIWBl4ILAw8CFgYeCGwMPAgYGHghcDCwIOAhYEXAgsDDwIWBl4ILAw8CFgYeCGwMPAgYGHghcDCwIOAhYEXAgsDDwIWBl4ILAw8CFgYeCGwMPAgYGHghcDCwIOAhYEXAgsDDwIWBl4ILAw8CFgYeCGwMPAgYGHghcDCwIOAhYEXAgsDDwIWBl4ILAw8CFgYeCGwMPAgYGHghcDCwIOAhYEXAgsDDwIWBl4ILAw8CFgYeCGwMPAgYGHghcDCwIOAhYEXAgsDDwIWBl4ILAw8CFgYeCGwMPAgYGHghcDCwIOAhYEXAgsDDwIWBl4ILAw8CBdbeN26daOi+eqrr54+fapm2BAZGTlmzBjR6+7du2qGSwkNDeUXWrNmjdrmJGfOnOFN7dq1S20DbgUWBh6Eiy388ccfWyT27NmjZtiwfft2ucuff/6pZriUCxcu8Au1b99ebXOSH374gTdF+xu1DbgVWBh4EOZauF+/fmqGDV27dpW7wMIg4cDCwIMw18J58uSJfVLi0aNHWbNmlbvAwiDhwMLAgzDLwuXLl+cfdu/erSZJbNy4kXKSJEmSK1cuzoeFQcKBhYEHYZaFJ0yYwD/07dtXTZIgFVJOlSpVKleuzPmwMEg4sDDwIMyy8LZt24oUKWKJdVIiPDw8Q4YMlOPn5/dSC9+6dWvFihW8JmHSpEmBgYGPHz9Wk2ISERGxadMmUiR1mT179o0bN6xxs/DBgwenT5/Or7V06dK///5bzTCAhbUFFgYehIkW/uKLL/hnR5MSq1atotZkyZLdvHkzFguHhIR07tw5ZcqUnCB4/fXXZ82apSQLFi9enDNnTjk/efLkgwYNOn36ND+1a+GtW7cWL15c7mUx3mGXLl3obSjJsLC2wMLAgzDRwidOnOCfHU1KfPjhh9Rau3Zt+tmRhU+ePEmjaW4iChQoUKVKlSxZsohIhw4doqKi5C4EjWFFAiVTlxw5cvDTGjVq8A+2Fp48eTL/9RIZM2asWrVq6dKlyd0cKVy4sPLeYGFtgYWBB2GihelpyZIlLQ4mJcLCwtKkSUOt3333ndWBhSnnjTfe4DjJmoaxHI+MjFy+fPlrr73GTcOHDxddiB07diRJkoTitP25c+dSMsc3bdpEw2fuYrGx8OrVqzmePn36OXPmPHnyhON///13x44dualixYqPHj0SXWBhbYGFgQdhroVHjx7NT20nJRYvXkzxlClT3r592+rAwiNHjuQgKdh2FvjYsWPscRquXrp0ScRpDMu9VqxYIaU/g4bnqVKl4lbZwhEREXnz5rUYkw+BgYEvOkTTuXNn7kWCFkFYWFtgYeBBmGvhM2fO8FPbSYlGjRpRvHHjxvzU1sI0fOa5CBrYnjt37kVPCaHpIUOGcOTs2bMcqVSpUszc5/Tr148TZAuLgbDtNAVDI2KemC5fvrwIwsLaAgsDD8JcCxNly5a1GJMS8uwtjX9ZakuWLOGIrYVPnTrFkSpVqoiOCmLBw9tvv82RWbNmcWTcuHExc5+zd+9eTpCF2717dw6uXbtWyo0BD7HpD/vOnTscgYW1BRYGHoTpFh4/fjxH5EkJOq6nSNq0ae/fv88RWwuTEDnSu3dv0dEWPvUuXbp0/JQG3dxrw4YNMROf8/DhQ541li1crVo17tWzZ09eoGZLqVKlOGffvn3cy8UWHjHCmiqV1WLBI+EP/o41qU0cj/g/qDipRIEJmG5hGq6y9eRJiTp16lCkdevWImJr4blz53KEDCjSbOFVyURERAQ9bdeuHT+N5UJCvEhZtvCbb77JveLCpk2buJeLLZwmjVr3eMT3MZrKxvjXtgmP+D+oRIEJmG5h4u2336ZI7ty5eVLir7/+SpYsGUXWrVsncmwtPHv27Lg4rmjRopz2zz//0NM2bdrwUzFitSV79uyWmBYuVKgQ96pZs2atlyGuY+liC9Phs23d44GHPg/M8JhDYlj466+/5uAvv/xCT2fOnEk/Z8qUiUevjK2FV6xYwZEBAwaINFt4vVoqOlwy+PTTT7nX5s2bYya+IHXq1JaYFq5QoQL3cnSanF1MsTAKHWgIitNMEsPCJFZ5UuLdd9+lnzt16vSimz0LHzp0iCN169aVM2Vu3rzJOcWLF+eIn58fRyZOnBgz9zm0fU6QLdyqVSsObt++Xcp9CbAweFVAcZpJYliYqFKlCgXz5ct3/fp1/v5aSbC18OPHj2m8bDHGubdu3ZKTBTNmzOBeXbt25cixY8c4Uq1atZi5zxGLKGQLT5s2jYPdu3eXcl/w9OlTeodlypRp2rSpGC/DwuBVAcVpJolk4alTp3Kcz0PLkSOHODmNsbUw8cknn3DQrhxDQkLE9TB37twp4mJ6gSwppT/j4cOH4os42cIkVj4BJGXKlDQGl3o8Z/78+dxLDLqtsDB4dUBxmkkiWVgMgXlqolevXnKr1YGFr169mjFjRo4PGDCAv39jzp0799Zbb3HT+++/L+JEQEAAv0r69Onl2eHg4GBem8EoJ2gMHz6c47SHUOYl1q5dmzZtWm5dtWqViMPC4FUBxWkmiWRha/R0MGN7QrNdCxOkUWHA7Nmzt2nTplOnTvXq1UuRIgUHS5cuzedAy4hz6oiqVatSl1atWvECtTJlyvCwV7Ewjc0bNmwoepUrV66TAeWLYJ8+feQusDB4VUBxmkniWVjM4ebPn9/24j6OLGw1rvYrhr0yyZMn79mz571795R8ZubMmaxdGdoObZ/GyBYbC1uNiwTRiJgdrZAuXbpJkyYp+bAweFVAcZqJiy1Mg9yFBnxJdRkasXKT3fvGb9q0iVsfPHigthlfjgUEBAwePPg///lPrVq12rVr5+fnd/XqVTUvJrdu3Zo+fXrr1q3r1KnTpUuXpUuX8hXRlixZQi/Ey+ZsCQoKmjt3brdu3Ro1atSgQQMS/Zw5c0JDQ9U8Y8KE3/OxY8fUtniAQgfaguI0ExdbGMQfFDrQFhSnmcDC2oBCB9qC4jQTWFgbUOhAW1CcZgILawMKHWiLK4ozICBAvVBhrPj4+Kib8FJgYW1wRaEDYAquKM4hQ4bEXHn0EjJlyqRuwkuBhbXBFYUOgCm4ojhhYUfAwtrgikIHwBRcUZzCwoMHD74cB65cuaJuwkuBhbXBFYUOgCm4ojiFhcePH6+2vdrAwtrgikIHwBRcUZywsCNgYW1wRaEDYAquKM4EWvjo0aOBgYFHjhyhn0NDQ6dOnTpw4MDZs2fzZWTCw8MDDf766y+rcdmDoUOHjhw5cuvWrcp2rMa94WfMmDFs2LB+/fqNHTt2586djx8/VpMMDhw4QNv8448/rMZNgr7++mt60QULFogbZroEWFgbXFHoAJiCK4ozgRauWbMm9X3nnXeuXLmSN29e3pTFuHRicHDw2bNn+emiRYv8/f35qopMx44dxUZOnz5dt25d0STInz//999/L73ac4oXL06tH3zwAYk4W7ZsIj9HjhzyJR4TCCysDa4odABMwRXF6RILV69evUaNGsKGFuOiidQqLDxo0KCUKVPKCfPnz+ctyBdoTJEiRaVKlWrVqsU3cWdonBvjJaMt3KRJE3ELdqZZs2ZKZkKAhbXBFYUOgCm4ojhdYmE2bMGCBf38/BYvXtyrV6+FCxdaJQtzAlmSWr/99tsGDRqEhYVZjSuS88UUiW7duoWEhPBmIyMjSdPp0qXjplmzZskvyhbmbRYrVow2SJvt1KnTxo0b5bQEAgtrgysKHQBTcEVxCgtnyZKlYBwQomTYwkTOnDl58ldGWNji4NY8LVu25FbbW0wQO3bs4NtQZM6cWb5YLluYKFy48N27d6UergQW1gZXFDoApuCK4nT2rA3lhujCwiNHjpTjjGzha9euKa0k9OTJk1sMyT58+FBpZfhmbIS/v78ICgvPnDlTynUxHmzhffv21atXT40mLvT/3bp1a1xfGHg5rihOV42Fadwqxxlh4UKFCqltVuu6deu4Vbn1u8z27ds5h/6iRVBY+Pjx41Kui/FUC/fr1y9JkiTZs2dXGxKRpUuX8kwTLAy8HFcUp0vmhYnLly+rbZKF7Y7MJkyYwK3Tpk1T26Ih6XNO2bJlRVBY2NEI2iV4qoVpj2cx7kSnNiQi3bt35/8hWBh4Oa4oTldZ2O78rLCwPJIViJemkZPaFs3Tp0+TJUtGOfny5RNBtnCqVKmkRNcDC8cfWBi8KriiOF1lYbtnTAgLt2vXTm2zWgcPHsyty5YtU9uiERbOnz+/CLKF06ZNKyW6Hlg4/sDC4FXBFcXpRguPGzeOW7/55hu1LZrbt29zTunSpUXQgy38zz//rF27tn///nwz+S+//DIwMDAyMlLNk847PHXqlNpmcP78eU4QhyF79+6lp7lz57YY33hyq/DgxYsXOcK3ed6zZw/tBvlt+Pr6UqvYssz+/fupC21ZbTAICQnhbYr7Q588eZKeNm7cmP/b5s2bR09//vnnmP2cxBWFDoApuKI43WjhlStXcmuPHj3Utmh27tzJOc2bNxdBT7XwnDlzcubMyZ9HpkSJEqQqJTn23x1BKueE3bt3c4TGvy82Go2Ykv/vf//LEfqvEktPBHTE0adPn4iIiBcvYJAvXz6LsQ5RiTMbN27k7qNHj+ZImzZtYmzXIGnCatQlhQ6AKbiiON1o4Zs3b/JyYPobd3TJiF69evEWaLgmgp5nYRp+du3alT+JxTi/hfYqDRs2FOcIJk+efNGiRXKX2H93VnsWLl++PG2ZV/+RVXlRy0cffcStwsItWrTgV6Q3QMNheiepU6fmJoooA3NnLfzZZ5/Ri2bIkIHjNDCnp3aXyDiBKwodAFNwRXG60cLEe++9xwnir1jm+PHjqVKlshhnNsvLjT3Pwn5+fvw5M2bMSIcAIk47H/rkfH0N+qgHDhwQTS/93dlamHE0LywsTLz++usHDx4UTefPny9cuDA3ybs7q/MWZjAvDF4VXFGcwsItW7ZcGDfkVboJtPCRI0fIsJRAIhozZow8It65c6c4fKc3KXXyNAuHhYVlzpzZYhyY2848ED4+Pvw5a9WqJYIv/d3F28I0Cj506JDSSiJOkyYNtWbLlk2+JBIsDEBsuKI4nT13jpgwYYLonkALE//73//4GNpiXBTtww8//Pjjj+XL9DRr1uzJkydyFw+z8KJFi/iT2F2vR0RFRbE6iTNnznDwpb+7eFtYvpydTI8ePThh7dq1IggLAxAbrihOt1vYagx7xYkYMjSCnDhxou0KAg+zcLdu3fjzrF69Wm2LZujQoZwze/Zsjrz0dxdvCzu66NGGDRs4oV+/fiIICwMQG64oTjo2VWccXoY8I/Hjjz9yUBmuMvfu3ePWXbt2qW0xIdXu2LGDRNGpU6e2bdv26dOHRpB83TVb1q1bR9tcvHix2uBSXGZhsaeio361LZrly5dzzuDBgzlinoVtr+jB0NvjhPfee08EYWEAYgPFaSYus3CZMmVYSaGhoWpbNAEBAZzTtWtXjphnYUdXwg8ODuaEypUriyAsDEBsoDjNJFEtvHXrVs4Ra6dfauF+/fpxgrMWfvTokdLEBAUFcUL16tVFMHYLi0kMWBi8oqA4zcRlFq5VqxYricSqtkWzePFiziFXckRYuE2bNjFzn9OzZ09OcNbCtteBZk6cOMEJLVq0EEG2sO3WGHHiDSwMXlFQnGbiMguLtQcrVqxQ26L5/PPPOWfOnDkcEbO0shNlxFnCzlr4p59+UpoYsSeQrxVdoEABi7HMWUp8wdSpU7kLLAxeUVCcZuIyCy9btoyV5MinkZGRPOS0SCvVbty4wZFq1arFTH/GkydPxPnKioXffPNNCr722mty0CpZuG/fvkoT06xZM06QrxrB61GSJEli9yqi4l4pioXFjgcWBl4OitNMXGZh8hc5kV22detWtdlqHTNmDDuL75nKkJr5rqipUqUiI0vpzxCDUIuNhcU6Pr5qj0BYmJps50ZogMyn8JUqVUqON2zYkHstX75cjhOHDx/mU24sNhbu3bs3xx1dBsg5UOhAW1CcZuIyCxOzZ89mK6VLl27BggXCj+Hh4f/3f//H+iOj7d+/X+4lBqeVK1e+dOkSB2/dujV8+PBkBtyqWLh69eoc9/HxOXfunFhXKJ/BnD9/fvm11q1blylTJou9/cT06dO5Cw29xVRGRETEwoULs2XLJt6DYuGRI0dyvFWrVvQGDhw4oOwSnAOFDrQFxWkmrrQwMXDgQBaTxbiMQ61atWrWrCluQG17NR/i4MGDfB0Ni+HHIkWKFC5cmE80pPHs2LFjuUmxcN++fTnOUBeOCwvnzZuXfyhbtiy9jX/9618i+auvvpI3RTx48KBgwYIiIVeuXCVLlhRve8qUKfyDYuH169eLLsyVK1fkBOdAoQNtQXGaiYstTCxZskTM/8rQUPfXX39Vsw22b98uS5AhsVL+jh07+KliYRosk15FMg1X+XqVwsIbNmywvbIl6dV2zoG5fPlyjRo1lPyMGTPOnTuXRrj8VLEwxTt06CDn252KiSsodKAtKE4zcb2FrcaxPNmThpyffPJJjx49Jk+efPjwYTUpJtRly5YtdIzfqVOnQYMGkUP5PMXQ0FC+wrrtzaYeP368efPmqVOnzpgxY926dYqF+Uatx44dGz9+fLdu3WibIicWfvvtNx8fn549e/bp02fevHl37tzhuHKVdxnq4u/v7+vru3Tp0qCgILU57qDQgbagOM3EFAu7EcXCngQKHWgLitNMYGFtQKEDbUFxmgksrA0odKAtKE4zgYW1AYUOtAXFaSawsDag0IG2oDjNxNssvHLlSr7v/cmTJ9U2zUGhA21BcZqJt1nYg3Gy0Dds2MA3FwgODlbbvIVTp07xZ4wLS5YsUft7FNeuXeMPcvToUbXN7ThZnMApYGFtcLLQy5Urx3Mv8j2tvQxxZnlcyJAhg9pfVx4/fuzr66vcDmbz5s38Qb788ks5rgVOFidwClhYG5wsdFhYwVMsvHfv3hIlSlhs7g0GC7+ywMLa4GShv1IWrl27dszpBzt4yoxE+/bt+UMpFt65c2dBg6lTp8pxLXCyOIFTwMLa4GShv1IW/vTTT9U2j8WRhbXGyeIETgELa4OThQ4LeyiwMFCAhbXByUJPoIWfPHmyb98+OpCfP3/+999/b3tFfFuuXr26atWqefPmUa9169bdvHlTzYjJhQsXli9fzvkbNmyIx1qOeFs4NDT0soGjW3H/+eef1KrcWIA+EQXFHQsfPHjw448/0u9nwYIFO3bscHQ/WZlTp04tXbqUutBH/u233/iKVIK///6btt+8eXP+UD///DM9FVdDDQ8P5/csriGl8PTp00OHDvF/2aJFi06cOKFmRMMfX1x8Kioqav/+/dxxzZo1thfGejlOFidwClhYG5ws9HhbmGwyZswYvjGKTMmSJcmtarbBwYMH3333XSWfqFOnDjWp2VYr+aVChQpKctKkSRs1auTUOu54W1jc4ZDeidpmkDp1aovxkeVg5cqVKVi3bl3S1oQJE/ieAIKsWbP6+vo6upD/2rVrxW3IBXny5BG3WCSaNm2qJBDp06fn1li+naP3M23atNy5c8fsailUqBDtIZRkYtiwYRbjcq/088aNG/kmjYIUKVJ0797dORc7WZzAKWBhbXCy0ONnYRroiY4W40ZT+fPnF0+J/v37K6LZvXt3mjRpuJX+sAsWLChfP5q2sHPnTjmf/uz5Iv1EypQpKZ9kJPJJOkeOHJHzY8FdFv7444+j36/KoEGD5C5Mnz59RALtbOgjywbv168fp8XPwvfu3fv3v/8t8ul3S9vnO9cw7du3f/z4sdxFWJgcLWfK0IdVhuqx4WRxAqeAhbXByUKPh4Xpr65ixYrcq3jx4nS4HRkZSfGwsDA/Pz9xbxEfHx/RhYxctGhRCpKI6U9aXKCZDq7FLaiLFSsmxE0D7ddff52CpKFVq1YJO1y/fr1Vq1ac/84773DwpbjFwtyUK1eu7777LiQkhOJHjx5t06YNb5DUdvHiRbnXjBkzuIl+gfTz/fv3rcbvbeXKlTR85qY1a9ZYXzYj4cjC77//Psdpf7l69WqeGAkPD58/f744oFHudcsWJv/SPpJ2hF988cWFCxesxokho0ePFvtIu+No+9gUJ70Nnj+xCx3x8CW57fLDDz/Ii1sUpkyZMsoxvXr14pNj7VK/fv1ajqFjAl6FYosyFrG9HY+pOLQwfWD5bQGziaIqN9nC33zzDXcpVaqU7eTjvn376C/WYhyxCjWcOHGCuwwZMiRm+jNq1qzJrb///jtHaFzMka+//jpm7rM7vZYuXdpi2IGkrLTaRViY9gTqH1xMxI0HmYRY2GLcrMv2HQobyivJaKCaJUsWizFE/eWXX6T0Z4jfRoUKFUTQ0bdzdi28du1aDubNm9d2Iv7UqVNi0H3o0CERZwtbjIH5tm3bpB7P8PX15VYamytNDkma9Avu82pA9lN/A2YCC+tCIliY5Mtd9uzZo7YZiL9e4dxdu3ZxhLwWM/cZ5LhJkyaRKW7dusURGqxxvjygFmzZsoVGOjQUst0H2CXuZ23QuF7umEAL2+5CrNJH6927twjScJKDdGQg5b6A59NJ6+IjO2XhevXqcZAOLF6kSohfUYcOHURQ/D82bNhQyn3O7du3eZqiRIkSapsjkiYdxVt8NaCjB/U3YCawsC6YbeEbN25wPo0r1bZo6Fibc2jjHKHxF42nLMYAeeLEiXyEHgt//PEHbyFt2rQzZ86koaKa4QzusrDdKznQYJNbO3fuLIJCqcrkuCAoKEj5JcTdwhEREXx0kjVrVkdzuGFhYfRfYzGmUERQWHjy5MlS7gsyZsxIrXQkrjY4ImnSr3iL0dAhvHJQL6ADf3UuQKJ+/frqgYxEr1695PkHBdqFq/MXErR3V+c+JE6ePKnOm0jEZQGMeTi0MEhsbKbeYsdZCwcEBHC+PGiyJUeOHBbDuSIipkQtxhFu1apVSRN79+6NioqS+r2gbt26Ip+2U6NGjbFjx9pdSvFShIU/+ugj9e8mJuHh4XLHBFo4NDRUjjP0Z8ytHTt2FMG33norli52ibuFxS6NfqVypoK4Da44IhEW5vloW3LmzEmt+fLlUxsc4WRxAqeAhbXByUJ31sJLly7l/MGDB6ttEmK5lVjJdP/+fTqw5aBM9uzZ6TBcno5kgoOD7S5ry507d58+fcgsSn4suOXbOUJZcsDYtTCvHpN3Wi8l7hamERxHaCckZyo0aNCA006fPs0RYWHbSWEGFtYKWFgbnCx0Zy28aNEizh8+fLjaJlG+fHlOu337thynv2caRGfOnJlbBUmSJOnbt6+yuI2erl+/vnXr1mLdhSBZsmS262Ed4S4L2z38t2th1lnatGmlxJcQdwuLw5cuXbrImQqNGjXiNLGHExamLcTMfQ4srBWwsDY4WejOWpi0yPnyl0u2vPHGGxbDrXZnyiIjI/fu3TtmzBga7ZJPeYPElClT1FQD2gh58IsvvqhSpYpIJhYvXqym2sM8C/NqrYRbuEiRIhbj12W3i13ibuHffvuNIx988IGcqVCtWjVOEytbYGHPAhbWBicL3VkLHzt2jPNr1aqltkVz//59/i4uT548apsNQUFBdKTM21R0ZhdyRJMmTV76HmTibeGBAwdyR7saomG+3bcdDwuLSfBTp05JuS84ePDguHHjli1bJpa+xd3Ct27d4kgsX6jSYQcfoKRMmZJXf1thYU8DFtYGJwvdWQuTWXhtaapUqRwtdSBZ8DbF4IsGra1bty5btqzt+lmrMdSlg3GLcY4GR/z9/T/88MMyZco8ePAgZu4zQkNDeftvvvmm2maPeFt4+PDh3HHFihVqm3Skn3ALjxgxgoMzZ86Ucl8g9gdbt27lSNwtTBQuXNhijLUdXeiDBvvcq2rVqiIIC3sWsLA2OFnozlqYEGe7iXNqZSIiIshKnCDkRUbgyKRJk2KmP4NUS063SDrr3bs35y9cuDBm7jNu3rzJrWaPhcX5bJ999pnaZrU2a9aMWxNu4RMnTvDa2yJFiogTCwX0+8mVKxe10nD14cOHHOzUqRNvR/mi0q6FR44cyUHaF75IjSYqKkqcOOPn5yfisLBnAQtrg5OFLiw8a9YsZWmkghjGXrp0iYeuJI7x48eLA1irMUoV54aVL19eNF28eJHnfzNkyKDMsVKO0DrJgoN0AM6R11577fDhw3I+DZxpmMytpFe5yRHxtrA45S916tQ//fSTiJMWycvcZHGFhYkWLVpwnA4gwsLCRJy0K5poyCziffv25eDEiRNF0OrAwnTUkj17do73799fnqynz9KhQwduKliwoHzwAQt7FrCwNjhZ6PJFeWJHVt7y5cvFZQRo+DZ48OBRo0aRTMUVD2jsxtccEAwdOpSbkiZNWq9ePTrYpy5kBP5iiihQoIC8WrZbt24cpxcis5OgKZ/cJ07VL1WqlLK81xHxtrBVmrGlt12nTh0agdI+gOdkyD41atSwuMjCwcHB/JUmQXbj8w7oaENcAq1SpUryBTZnzpzJcSJjxoz09ligdi1M7Nixg/edFuNcCfrN0/bpmIOv12ExBtrKDg8W9ixgYW1wstDjZ2GrMStK3lSTDOrXr3/16lU52Wp8/0OylldEyJC5Ll++LOeTwnr06KHmRVO7du2goCA5PxYSYuFbt24pCzOYEiVKnD9/vmXLlhYXWdhqXKmORC9eQqZp06bKCR00Xi5WrJicw6e0OLKw1TjCULoI6DPafjEIC3sWsLA2OFnos2bNks7tjI1ff/1V6UsHtosWLWrXrh0NCWkcR2YcMGDAvn37lDSZs2fP0qYaN25csWJFOv595513Pvnkky1btqh50Rw/fpxGzTQWrlChAuXXrFmThsOO1o05gt45f4RNmzapbXGA9h9r1qyhj0l6JYuREOfNm8cH9StXrqTNfvPNN3L+nDlz+OXsnhZIWudWR1dhDgwMpCFqrVq1ChcuTJ+Xfj+OPu+9e/d8fX1peN62bVvqwho9d+4cb5+2o3Yw5n9Wr17duXNn2j79l9F/HA26aZis5hlQnDelXP5NQK8+yjghWG1whJPFCZwCFtYGFDrQFhSnmcDC2oBCB9qC4jQTWFgbUOhAW1CcZgILawMKHWgLitNMYGFtQKEDbUFxmgksrA0odKAtKE4zgYW1AYUOtAXFaSawsDag0IG2oDjNBBbWBhQ60BYUp5nAwtqAQgfaguI0E1hYG1DoQFtQnGYCC2sDCh1oC4rTTGBhbUChA21BcZoJLKwNKHSgLShOM4GFtQGFDrQFxWkmsLA2oNCBtqA4zQQW1gYUOtAWFKeZwMLagEIH2oLiNBNYWBtQ6EBbUJxmAgtrAwodaAuK00xgYW1AoQNtQXGaCSysDSh0oC0oTjOBhbUBhQ60BcVpJrCwNqDQgbagOM0EFtYGFDrQFhSnmcDC2oBCB9qC4jQTWFgbUOhAW1CcZgILawMKHWgLitNMYGFtQKEDbUFxmgksrA0odKAtKE4zgYW1AYUOtAXFaSawsDag0IG2oDjNBBbWBhQ60BYUp5nAwtqAQgfaguI0E1hYG1DoQFtQnGYCC2sDCh1oC4rTTGBhbUChA21BcZoJLKwNKHSgLShOM4GFtQGFDrQFxWkmsLA2oNCBtqA4zQQW1gYUOtAWFKeZwMLagEIH2oLiNBNYWBtQ6EBbUJxmAgtrAwodaAuK00xgYW1AoQNtQXGaCSysDSh0oC0oTjOBhbUBhQ60BcVpJrCwNqDQgbagOM0EFtYGFDrQFhSnmcDC2oBCB9qC4jQTWFgbUOhAW1CcZgILawMXOh54aPuAhc0BFtaGNGnUoscDD60eVKLABGBhbRgxwpoqlVr3eOChyYOKk0oUmAAsDAAA7gQWBgAAdwILAwCAO4GFAQDAncDCAADgTmBhAABwJ7AwAAC4E1gYAADcCSwMAADuBBYGAAB3AgsDAIA7+X9xUuYE6cP4MgAAAABJRU5ErkJggg==)"
      ]
    },
    {
      "cell_type": "markdown",
      "metadata": {
        "id": "sdycA1yZk38i"
      },
      "source": [
        "Para el presente laboratorio, utilizaremos la función de pérdida Mean Square Error (MSE), cuya ecuación es presentada a continuación:\n",
        "\n",
        "$\\large MSE Loss = \\frac{1}{2} \\cdot (model\\_output-target)^2$\n",
        "\n",
        "A partir de lo anteriore, implemenatremos el grafo de cómputo correspondiente de uestro perceptrón más la función de pérdida MSE, tal como se muestra en la siguiente figura:"
      ]
    },
    {
      "cell_type": "markdown",
      "metadata": {
        "id": "g-D0bw4KdCa2"
      },
      "source": [
        "![gc_experiment_6.png](data:image/png;base64,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)"
      ]
    },
    {
      "cell_type": "markdown",
      "metadata": {
        "id": "P_6x4undnmJM"
      },
      "source": [
        "Con el fin de demostrar a bajo nivel como se implementan los grafos de cómputo, **en esta sección no utilizaremos pytorch**. Sin embargo, para facilitar las operaciones vectoriales, nos ayudaremos por la biblioteca *numpy*.\n",
        "\n",
        "Dado lo anterior, comenzaremos por importar *numpy* y asignandole el alias *np*."
      ]
    },
    {
      "cell_type": "code",
      "metadata": {
        "id": "c_517ducYVDa"
      },
      "source": [
        "import numpy as np"
      ],
      "execution_count": 2,
      "outputs": []
    },
    {
      "cell_type": "markdown",
      "metadata": {
        "id": "CyUK4LZgn4UM"
      },
      "source": [
        "Como vimos en clases, los grafos de cómputo requieren almacenar los valores de gradiente calculados en el proceso de *Backward*. Para ello, crearemos una clase de nombre *Var* que nos permitirá manejar todas las variables dentro de la red. Esta variable tiene como atributos el valor actual (*value*) y el valor del gradiente (*grad*), los cuales pueden ser escalares o vectores."
      ]
    },
    {
      "cell_type": "code",
      "source": [
        "Gcount = 0"
      ],
      "metadata": {
        "id": "tolb3b-mD1vS"
      },
      "execution_count": 202,
      "outputs": []
    },
    {
      "cell_type": "code",
      "metadata": {
        "id": "_xpxCz6SYM_L"
      },
      "source": [
        "class Var(object):\n",
        "  name = 'noname'\n",
        "  def __init__(self, name, value, grad = None):\n",
        "    global Gcount\n",
        "    Gcount += 1\n",
        "    self.n = Gcount\n",
        "    self.value = value\n",
        "    self.name = name + '_' + str(self.n)\n",
        "    if grad == None:\n",
        "      self.grad = np.zeros(value.shape)\n",
        "    else:\n",
        "      self.grad = grad\n",
        "\n",
        "#  @ property\n",
        "#  def value(self):\n",
        "#        return self.__name\n",
        "#    \n",
        "#  @ value.setter\n",
        "#  def value(self, value):\n",
        "#        self.__name=value\n",
        "\n",
        "\n",
        "#    def __getstate__(self):\n",
        "        # Deliberately do not return self.value or self.last_change.\n",
        "        # We want to have a \"blank slate\" when we unpickle.\n",
        "#        return self.history\n",
        "\n",
        "#    def __setstate__(self, state):\n",
        "        # Make self.history = state and last_change and value undefined\n",
        "#        self.history = state\n",
        "#        self.value, self.last_change = None, None\n",
        "\n",
        "  def __str__(self):\n",
        "    # uso: print(var)\n",
        "    return f'Var:{self.name} val:{self.value} grad:{self.grad}'\n"
      ],
      "execution_count": 189,
      "outputs": []
    },
    {
      "cell_type": "code",
      "source": [
        "Gcount"
      ],
      "metadata": {
        "colab": {
          "base_uri": "https://localhost:8080/"
        },
        "id": "uv9ciWkLDER_",
        "outputId": "94bc51b3-64d2-4614-ee66-bd0bd753b90c"
      },
      "execution_count": 7,
      "outputs": [
        {
          "output_type": "execute_result",
          "data": {
            "text/plain": [
              "1"
            ]
          },
          "metadata": {},
          "execution_count": 7
        }
      ]
    },
    {
      "cell_type": "code",
      "source": [
        "temp = Var('temp', 5, 0)\n",
        "print(temp)"
      ],
      "metadata": {
        "colab": {
          "base_uri": "https://localhost:8080/"
        },
        "id": "HpLPqjP8Y2BM",
        "outputId": "ddc86237-05c2-459a-ecf6-943a7d1bc2a3"
      },
      "execution_count": 4,
      "outputs": [
        {
          "output_type": "stream",
          "name": "stdout",
          "text": [
            "Var:temp_1 val:5 grad:0\n"
          ]
        }
      ]
    },
    {
      "cell_type": "code",
      "source": [
        "puntero = temp\n",
        "print(puntero)"
      ],
      "metadata": {
        "colab": {
          "base_uri": "https://localhost:8080/"
        },
        "id": "tpdiP1BbZaGz",
        "outputId": "0986eab5-9811-47ff-ee66-48823992d6fe"
      },
      "execution_count": 5,
      "outputs": [
        {
          "output_type": "stream",
          "name": "stdout",
          "text": [
            "Var:temp_1 val:5 grad:0\n"
          ]
        }
      ]
    },
    {
      "cell_type": "code",
      "source": [
        "temp.value = 6\n",
        "print(puntero)"
      ],
      "metadata": {
        "colab": {
          "base_uri": "https://localhost:8080/"
        },
        "id": "Q8TCkaulZfA6",
        "outputId": "89ca9430-0e56-43b8-e2bc-c411e848fb04"
      },
      "execution_count": 6,
      "outputs": [
        {
          "output_type": "stream",
          "name": "stdout",
          "text": [
            "Var:temp_1 val:6 grad:0\n"
          ]
        }
      ]
    },
    {
      "cell_type": "markdown",
      "metadata": {
        "id": "8EJbIexcrOk5"
      },
      "source": [
        "A continuación definimos el nodo que permitirá realizar el producto punto entre dos vectores (entrada y pesos), el cual denominaremos *DotProdGate*.\n",
        "\n",
        "Su método *forward* recibirá como argumento dos vectores, los cuales representarán los operandos de la función. En nuestro caso, uno de ellos será la entrada del perceptrón, y el otro, el vector de pesos que pondera a cada una de ellas. A partir de estos vectores, se calculará el producto punto: multiplicación elemento a elemento, y luego suma.\n",
        "\n",
        "Por otro lado, el método *backward* calculará el vector de gradientes para los vectores de pesos y entradas. Para ello, multiplicará el gradiente recibido desde el \"lado derecho\" de la red (z.grad) con el gradiente local del producto punto. Este último puede ser considerado como el valor de la variable *contraria*:\n",
        "\n",
        "*   Si el gradiente es de x, usaremos el valor de y\n",
        "*   Si el gradiente es de y, usaremos el valor de x\n",
        "\n"
      ]
    },
    {
      "cell_type": "code",
      "source": [
        "evento = 0  \n",
        "  \n",
        "class regDatos(object):\n",
        "  def __init__(self):\n",
        "    global evento\n",
        "    evento = 0\n",
        "    self.eventos = []\n",
        "\n",
        "    self.dat_W0v = []\n",
        "    self.dat_W1v = []\n",
        "    self.dat_W2v = []\n",
        "\n",
        "    self.dat_W0g = []\n",
        "    self.dat_W1g = []\n",
        "    self.dat_W2g = []\n",
        "\n",
        "    self.dat_S0v = []\n",
        "    self.dat_S1v = []\n",
        "    self.dat_S2v = []\n",
        "\n",
        "    self.dat_S0g = []\n",
        "    self.dat_S1g = []\n",
        "    self.dat_S2g = []\n",
        "\n",
        "    self.dat_D0v = []\n",
        "    self.dat_D1v = []\n",
        "    self.dat_D2v = []\n",
        "\n",
        "    self.dat_D0g = []\n",
        "    self.dat_D1g = []\n",
        "    self.dat_D2g = []\n",
        "\n",
        "    self.dat_L0v = []\n",
        "    self.dat_L1v = []\n",
        "    self.dat_L2v = []\n",
        "\n",
        "    self.dat_L0g = []\n",
        "    self.dat_L1g = []\n",
        "    self.dat_L2g = []\n",
        "\n",
        "    self.dat_X0v = []\n",
        "    self.dat_X1v = []\n",
        "    self.dat_X2v = []\n",
        "\n",
        "    self.dat_X0g = []\n",
        "    self.dat_X1g = []\n",
        "    self.dat_X2g = []\n",
        "\n",
        "    self.dat_E0v = []\n",
        "\n",
        "    self.dat_N0v = []\n",
        "\n",
        "\n",
        "  def add(self, x, w, dp, sg, loss, e, neuron_output):\n",
        "    global evento\n",
        "    evento += 1\n",
        "    self.eventos.append(evento)\n",
        "\n",
        "    self.dat_W0v.append(w.value[0])\n",
        "    self.dat_W1v.append(w.value[1])\n",
        "    self.dat_W2v.append(w.value[2])\n",
        "\n",
        "    self.dat_W0g.append(w.grad[0])\n",
        "    self.dat_W1g.append(w.grad[1])\n",
        "    self.dat_W2g.append(w.grad[2])\n",
        "\n",
        "    self.dat_S0v.append(sg.x.value)\n",
        "    self.dat_S1v.append(0)\n",
        "    self.dat_S2v.append(sg.z.value)\n",
        "\n",
        "    self.dat_S0g.append(sg.x.grad)\n",
        "    self.dat_S1g.append(0)\n",
        "    self.dat_S2g.append(sg.z.grad)\n",
        "\n",
        " # x  self.dat_D0v.append(dp.x.value)\n",
        " # w  self.dat_D1v.append(dp.y.value)\n",
        "    self.dat_D2v.append(dp.z.value)\n",
        "\n",
        " # x  self.dat_D0g.append(dp.x.grad)\n",
        " # w  self.dat_D1g.append(dp.y.grad)\n",
        "    self.dat_D2g.append(dp.z.grad)\n",
        "\n",
        "    self.dat_L0v.append(loss.x.value)\n",
        "    self.dat_L1v.append(loss.y.value)\n",
        "    self.dat_L2v.append(loss.z.value)\n",
        "\n",
        "    self.dat_L0g.append(loss.x.grad)\n",
        "    self.dat_L1g.append(loss.y.grad)\n",
        "    self.dat_L2g.append(loss.z.grad)\n",
        "\n",
        "    self.dat_X0v.append(x.value[0])\n",
        "    self.dat_X1v.append(x.value[1])\n",
        "    self.dat_X2v.append(x.value[2])\n",
        "\n",
        "    self.dat_X0g.append(x.grad[0])\n",
        "    self.dat_X1g.append(x.grad[1])\n",
        "    self.dat_X2g.append(x.grad[2])\n",
        "\n",
        "    self.dat_E0v.append(e.value[0])\n",
        "\n",
        "    self.dat_N0v.append(neuron_output.value)\n",
        "\n",
        "\n",
        "reg = regDatos()"
      ],
      "metadata": {
        "id": "1kiGaatQ-J0g"
      },
      "execution_count": 201,
      "outputs": []
    },
    {
      "cell_type": "code",
      "source": [
        "sg.z.value"
      ],
      "metadata": {
        "colab": {
          "base_uri": "https://localhost:8080/"
        },
        "id": "ZggJO1i2VpTI",
        "outputId": "4717b504-0541-428b-a524-f8b3e13f4dea"
      },
      "execution_count": 212,
      "outputs": [
        {
          "output_type": "execute_result",
          "data": {
            "text/plain": [
              "0.8998971911897301"
            ]
          },
          "metadata": {},
          "execution_count": 212
        }
      ]
    },
    {
      "cell_type": "code",
      "source": [
        "#reg.add(x, w, dp, sg, loss, e, neuron_output)"
      ],
      "metadata": {
        "id": "iCyVmtXqSDju"
      },
      "execution_count": 210,
      "outputs": []
    },
    {
      "cell_type": "code",
      "metadata": {
        "id": "S93I7ZlJYYnQ"
      },
      "source": [
        "class DotProdGate(object):\n",
        "  def __init__(self):\n",
        "    self.x = None\n",
        "    self.y = None\n",
        "#    self.z = None\n",
        "    self.z = Var('Dot', 0.0, 0.0)\n",
        "  def forward(self, x, y):\n",
        "#    print('DOT.forward()',x,y)\n",
        "    self.x = x\n",
        "    self.y = y\n",
        "#    self.z = Var('ZtempDOT', self.x.value.dot(self.y.value), 0.0)\n",
        "    self.z.value = self.x.value.dot(self.y.value)\n",
        "    print('Dot.forward() => ', self.x, self.y, self.z)\n",
        "    #print( '\\nDotProdGate => ' % (self.z.value) )\n",
        "    return self.z\n",
        "  def backward(self):\n",
        "    print('Dot.backward(pre) <= ', self.x, self.y, self.z)\n",
        "    #print( '\\nDotProdGate pre <= x: %.4f  y: %.4f  z: %.4f' % (self.x.value, self.y.value, self.z.value) )\n",
        "    self.x.grad += self.y.value * self.z.grad\n",
        "    self.y.grad += self.x.value * self.z.grad\n",
        "    #print( '\\nDotProdGate pos <= x: %.4f  y: %.4f  z: %.4f' % (self.x.value, self.y.value, self.z.value) )\n",
        "    print('Dot.backward(pos) <= ', self.x, self.y, self.z)\n"
      ],
      "execution_count": 191,
      "outputs": []
    },
    {
      "cell_type": "markdown",
      "metadata": {
        "id": "Qx8eNVHLrDmi"
      },
      "source": [
        "A continuación, crearemos el tercer nodo bajo el nombre de SigmoidGate, el cual tendrá como objetivo implementar la función sigmoide. En sus atributos, almacenará el argumento recibido (x) y el valor resultante (z). Estos 2 atributos deberán ser del tipo *Var* anteriormente definido.\n",
        "\n",
        "Al igual que la clase anterior, esta clase implementa los métodos *forward* y *backward*. El primero de ellos hará el \"paso adelante\" de los datos, evaluando el argumento en la función sigmoide y retornando el valor resultante. El segundo, hará el \"paso hacia atrás\" de los datos calculando el gradiente de la variable x. Como vimos en clases, la derivada local de la sigmoide puede ser calculada en términos de su salida mediante la expresión s * (1-s). Por esta razón, calculamos el gradiente local a partir del valor de z (salida), y luego, multiplicamos por el producto de gradientes que vienen desde el final de la red, siguiendo la lógica de la regla de la cadena."
      ]
    },
    {
      "cell_type": "code",
      "metadata": {
        "id": "CXDnlwFkYuwT"
      },
      "source": [
        "class SigmoidGate( object ):\n",
        "  def __init__(self):\n",
        "    self.x = None\n",
        "#    self.z = None\n",
        "    self.z = Var('Sig', 0.0, 0.0)\n",
        "  def sigmoid(x):\n",
        "    return 1/(1+np.exp(-x))\n",
        "  def forward(self, x):\n",
        "    self.x = x\n",
        "#    self.z = Var('ZtempSGM', SigmoidGate.sigmoid(self.x.value), 0.0)\n",
        "    self.z.value =  SigmoidGate.sigmoid(self.x.value)\n",
        "    print('Sgm.forward(pos) => ', self.x, self.z)\n",
        "    return self.z\n",
        "  def backward(self):\n",
        "    s = self.z.value\n",
        "    self.x.grad += s * (1-s) * self.z.grad\n",
        "    print('Sgm.backward(pos) <= ', self.x, self.z)"
      ],
      "execution_count": 192,
      "outputs": []
    },
    {
      "cell_type": "markdown",
      "metadata": {
        "id": "33-SkBUEosH6"
      },
      "source": [
        "A continuación, crearemos un nodo denominado LossGate, el cual tendrá como objetivo implementar la función que calcula el error entre la salida actual de la red y el valor deseado. En sus atributos, almacenará los argumentos recibidos (x e y) y el valor resultante (z). Estos 3 atributos deberán ser del tipo *Var* anteriormente definido.\n",
        "\n",
        "Una vez más, esta clase implementa los métodos *forward* y *backward*. El primero de ellos hará el *paso adelante* de los datos, evaluando los argumentos en la función *Mean Square Error* y retornando el valor resultante. El segundo, hará el *paso hacia atrás* de los datos calculando el gradiente de las variables x e y. En este caso, la derivada local corrsponde a las derivadas parciales de la función MSE con respectoa x e y. La primera de ellas corresponde a (x - y), y la segunda a -(x-y). Cada uno de estos gradientes locales es multiplicado por el producto de gradientes que vienen desde el final de la red, siguiendo la lógica de la regla de la cadena."
      ]
    },
    {
      "cell_type": "code",
      "metadata": {
        "id": "oWJQ4rZzY3Dm"
      },
      "source": [
        "class LossGate(object):\n",
        "  def __init__(self):\n",
        "    self.x = None\n",
        "    self.y = None\n",
        "#    self.z = None\n",
        "    self.z = Var('Loss', 0.0, 0.0)\n",
        "  def forward(self, x, y):\n",
        "    self.x = x\n",
        "    self.y = y\n",
        "#    self.z = Var('ZtempLOSS', 0.5*(self.x.value-self.y.value)**2, 0.0)\n",
        "    self.z.value =  0.5*(self.x.value-self.y.value)**2\n",
        "    print('Loss.forward(pos) => ', self.x, self.y, self.z)\n",
        "    return self.z\n",
        "  def backward(self):\n",
        "    print('Loss.backward(pre) <= ', self.x, self.y, self.z)\n",
        "    self.x.grad += (self.x.value-self.y.value) * self.z.grad\n",
        "    self.y.grad += -1.0*(self.x.value-self.y.value) * self.z.grad\n",
        "    print('Loss.backward(pos) <= ', self.x, self.y, self.z)"
      ],
      "execution_count": 193,
      "outputs": []
    },
    {
      "cell_type": "code",
      "source": [
        "a=np.array([2.0,-3.0,-3.0])\n",
        "b=np.array([-1.0, -2.0, 1.0])\n",
        "c=a-b\n",
        "c"
      ],
      "metadata": {
        "colab": {
          "base_uri": "https://localhost:8080/"
        },
        "id": "RbNDFX2AaLUq",
        "outputId": "904f82e4-07ec-4e4c-befe-a4852eb5d9d5"
      },
      "execution_count": null,
      "outputs": [
        {
          "output_type": "execute_result",
          "data": {
            "text/plain": [
              "array([ 3., -1., -4.])"
            ]
          },
          "metadata": {},
          "execution_count": 201
        }
      ]
    },
    {
      "cell_type": "code",
      "source": [
        "c*.5"
      ],
      "metadata": {
        "colab": {
          "base_uri": "https://localhost:8080/"
        },
        "id": "Bz6CfnLKanKZ",
        "outputId": "e24a6ad3-a075-4a11-ceb5-08ae32ebec8a"
      },
      "execution_count": null,
      "outputs": [
        {
          "output_type": "execute_result",
          "data": {
            "text/plain": [
              "array([ 1.5, -0.5, -2. ])"
            ]
          },
          "metadata": {},
          "execution_count": 202
        }
      ]
    },
    {
      "cell_type": "markdown",
      "metadata": {
        "id": "6gx6PEkqpCGs"
      },
      "source": [
        "A continuación definiremos los objetos que contendrán las variables y nodos del grafo."
      ]
    },
    {
      "cell_type": "code",
      "metadata": {
        "id": "sG0GdDAuY9sR",
        "colab": {
          "base_uri": "https://localhost:8080/"
        },
        "outputId": "245a1b0c-95c6-48fc-a996-1a941bedf6c6"
      },
      "source": [
        "# value and gates definition\n",
        "#w = Var('W', np.array([2.0,-3.0,-3.0]))\n",
        "#x = Var('X', np.array([-1.0, -2.0, 1.0]))\n",
        "#t = Var('T', np.array([0.5]))\n",
        "\n",
        "w = Var('W', np.array([1.0,-1.0,-2.0]))\n",
        "x = Var('X', np.array([-1.0, -2.0, 1.0]))\n",
        "t = Var('T', np.array([0.9]))\n",
        "print('Ini() = ', w, x, t)\n",
        "\n",
        "dp = DotProdGate()\n",
        "sg = SigmoidGate()\n",
        "loss = LossGate()"
      ],
      "execution_count": 203,
      "outputs": [
        {
          "output_type": "stream",
          "name": "stdout",
          "text": [
            "Ini() =  Var:W_1 val:[ 1. -1. -2.] grad:[0. 0. 0.] Var:X_2 val:[-1. -2.  1.] grad:[0. 0. 0.] Var:T_3 val:[0.9] grad:[0.]\n"
          ]
        }
      ]
    },
    {
      "cell_type": "code",
      "source": [
        "print(dp.x, dp.y, dp.z)"
      ],
      "metadata": {
        "colab": {
          "base_uri": "https://localhost:8080/"
        },
        "id": "O_s1Dd9BcYB1",
        "outputId": "531b93fe-c7fa-42ea-bfd5-f06f4b721000"
      },
      "execution_count": 23,
      "outputs": [
        {
          "output_type": "stream",
          "name": "stdout",
          "text": [
            "Var:W_1 val:[ 330.45191597  653.90383193 -331.45191597] grad:[-430.67005715 -861.3401143   430.67005715] Var:X_2 val:[-1. -2.  1.] grad:[ 47731.71348517  92448.7365703  -48162.38354232] Var:Dot_4 val:-1969.711495790773 grad:[2.84305861]\n"
          ]
        }
      ]
    },
    {
      "cell_type": "markdown",
      "metadata": {
        "id": "Y5RMRaUOpJxJ"
      },
      "source": [
        "Para armar la secuencia completa de operaciones que realiza nuestro perceptrón, implementaremos la función forwardNetwork que tomará las variables creadas y las pasará a través de los nodos, retornando a la salida el valor del error."
      ]
    },
    {
      "cell_type": "code",
      "metadata": {
        "id": "CDViUKt-ZJ_w"
      },
      "source": [
        "# forward pass\n",
        "def forwardNetwork():\n",
        "  dp_out = dp.forward(x,w)\n",
        "  p_out = sg.forward(dp_out)\n",
        "  l = loss.forward(p_out,t)\n",
        "  return l, p_out"
      ],
      "execution_count": 204,
      "outputs": []
    },
    {
      "cell_type": "markdown",
      "metadata": {
        "id": "rpG9qg3LpSUc"
      },
      "source": [
        "De manera similar, implementaremos la función backwardNetwork que hará el paso inverso desde la función de error hasta los nodos de multiplicación. Note la asignación del valor 1 al gradiente de la variable de error."
      ]
    },
    {
      "cell_type": "code",
      "metadata": {
        "id": "kaT13LsgZO0Z"
      },
      "source": [
        "# backward pass\n",
        "def backwardNetwork(output):\n",
        "  output.grad = 1.0;\n",
        "  loss.backward()\n",
        "  sg.backward()\n",
        "  dp.backward()"
      ],
      "execution_count": 205,
      "outputs": []
    },
    {
      "cell_type": "markdown",
      "metadata": {
        "id": "UOt5yq7RpaG2"
      },
      "source": [
        "A continuación se implementa el loop de entrenamiento mediante el método del descenso del gradiente. Como primer paso, se establece el valor del *learning rate* en 0.01, el cual corresponde al parámetro $\\eta$ visto en clases.\n",
        "\n",
        "Posteriormente, se hace un llamado a la función *forwardNetwork* para hacer el paso hacia adelante, obteniendo como resultado la variable de error y salida del perceptrón. Antes de entrar al loop, se imprime el valor inicial predicho por la red.\n",
        "\n",
        "Al entrar al loop *while*, se establece como condición de término que el valor del error sea menor o igual a $1^{-4}$, lo cual definirá el grado de precisión que alcanzará nuestro modelo. Una vez dentro del loop, se llama a la función *backwardNetwork* para propagar los gradientes hacia atrás, y luego, se actualizan los pesos de la red según la regla de actualización definida por el método del descenso del gradiente. Luego de esto, se hace un nuevo llamado a la función *forwardNetwork* para pasar los datos hacia adelante y continuar estos pasos de forma iterativa. En cada paso, imprimiremos el valor que va tomando el error.\n",
        "\n",
        "Finalmente, imprimimos el último valor que predijo el perceptrón durante su entrenamiento, el cual deberá ser cercano al valor objetivo, es decir, cercano a 5."
      ]
    },
    {
      "cell_type": "code",
      "source": [
        "id(e), type(e), e.name, e.n"
      ],
      "metadata": {
        "colab": {
          "base_uri": "https://localhost:8080/"
        },
        "id": "1WxJs5Oa36RX",
        "outputId": "dbc85e91-c159-48ff-9c9f-a2371a9bd021"
      },
      "execution_count": null,
      "outputs": [
        {
          "output_type": "execute_result",
          "data": {
            "text/plain": [
              "(140448887986704, __main__.Var, 'ZtempLOSS_90', 90)"
            ]
          },
          "metadata": {},
          "execution_count": 195
        }
      ]
    },
    {
      "cell_type": "code",
      "source": [
        "print(e)"
      ],
      "metadata": {
        "colab": {
          "base_uri": "https://localhost:8080/"
        },
        "id": "xBeOoVBwZr-5",
        "outputId": "5a87d13f-06d9-478f-d850-78849aaf0f4d"
      },
      "execution_count": 121,
      "outputs": [
        {
          "output_type": "stream",
          "name": "stdout",
          "text": [
            "Var:Loss_12 val:[2.04092558e-06] grad:0.0\n"
          ]
        }
      ]
    },
    {
      "cell_type": "code",
      "source": [
        "def gradZero():\n",
        "  dp.z.grad = 0.0\n",
        "  sg.z.grad = 0.0\n",
        "  loss.z.grad = 0.0"
      ],
      "metadata": {
        "id": "NeuYydZfeKAA"
      },
      "execution_count": 206,
      "outputs": []
    },
    {
      "cell_type": "code",
      "metadata": {
        "id": "Uc4sr7jnZS1G",
        "colab": {
          "base_uri": "https://localhost:8080/"
        },
        "outputId": "94b13f92-3ac7-45cd-b634-9a04d4f335e8"
      },
      "source": [
        "import time\n",
        "\n",
        "# gradient descent\n",
        "learning_rate = 0.01;\n",
        "e, neuron_output = forwardNetwork()\n",
        "print( 'First output value: %.4f' % (neuron_output.value) )\n",
        "reg.add(x, w, dp, sg, loss, e, neuron_output)\n",
        "while e.value > 1e-4:\n",
        "  backwardNetwork( e )\n",
        "  w.value -= learning_rate * w.grad \n",
        "  print('Actualiza(pos) = ', e, w, learning_rate, neuron_output)\n",
        "  print('\\n')\n",
        "\n",
        "  #print( '\\n W: %.4f -= lr: %.4f * Grad: %.4f' % (w.value, learning_rate, w.grad) )\n",
        "  reg.add(x, w, dp, sg, loss, e, neuron_output)\n",
        "  gradZero()\n",
        "  e, neuron_output = forwardNetwork()\n",
        "  print( 'current loss: %.4f - current output: %.4f' % (e.value, neuron_output.value) )\n",
        "  time.sleep(0.25) # Esta linea solo sirve para ver la evolucion del entrenamiento \"lentamente\"\n",
        "print( 'Last output value: %.4f' % (neuron_output.value) )"
      ],
      "execution_count": 207,
      "outputs": [
        {
          "output_type": "stream",
          "name": "stdout",
          "text": [
            "Dot.forward() =>  Var:X_2 val:[-1. -2.  1.] grad:[0. 0. 0.] Var:W_1 val:[ 1. -1. -2.] grad:[0. 0. 0.] Var:Dot_4 val:-1.0 grad:0.0\n",
            "Sgm.forward(pos) =>  Var:Dot_4 val:-1.0 grad:0.0 Var:Sig_5 val:0.2689414213699951 grad:0.0\n",
            "Loss.forward(pos) =>  Var:Sig_5 val:0.2689414213699951 grad:0.0 Var:T_3 val:[0.9] grad:[0.] Var:Loss_6 val:[0.19911746] grad:0.0\n",
            "First output value: 0.2689\n",
            "Loss.backward(pre) <=  Var:Sig_5 val:0.2689414213699951 grad:0.0 Var:T_3 val:[0.9] grad:[0.] Var:Loss_6 val:[0.19911746] grad:1.0\n",
            "Loss.backward(pos) <=  Var:Sig_5 val:0.2689414213699951 grad:[-0.63105858] Var:T_3 val:[0.9] grad:[0.63105858] Var:Loss_6 val:[0.19911746] grad:1.0\n",
            "Sgm.backward(pos) <=  Var:Dot_4 val:-1.0 grad:[-0.12407365] Var:Sig_5 val:0.2689414213699951 grad:[-0.63105858]\n",
            "Dot.backward(pre) <=  Var:X_2 val:[-1. -2.  1.] grad:[0. 0. 0.] Var:W_1 val:[ 1. -1. -2.] grad:[0. 0. 0.] Var:Dot_4 val:-1.0 grad:[-0.12407365]\n",
            "Dot.backward(pos) <=  Var:X_2 val:[-1. -2.  1.] grad:[-0.12407365  0.12407365  0.24814729] Var:W_1 val:[ 1. -1. -2.] grad:[ 0.12407365  0.24814729 -0.12407365] Var:Dot_4 val:-1.0 grad:[-0.12407365]\n",
            "Actualiza(pos) =  Var:Loss_6 val:[0.19911746] grad:1.0 Var:W_1 val:[ 0.99875926 -1.00248147 -1.99875926] grad:[ 0.12407365  0.24814729 -0.12407365] 0.01 Var:Sig_5 val:0.2689414213699951 grad:[-0.63105858]\n",
            "\n",
            "\n",
            "Dot.forward() =>  Var:X_2 val:[-1. -2.  1.] grad:[-0.12407365  0.12407365  0.24814729] Var:W_1 val:[ 0.99875926 -1.00248147 -1.99875926] grad:[ 0.12407365  0.24814729 -0.12407365] Var:Dot_4 val:-0.9925555811720157 grad:0.0\n",
            "Sgm.forward(pos) =>  Var:Dot_4 val:-0.9925555811720157 grad:0.0 Var:Sig_5 val:0.2704075981424374 grad:0.0\n",
            "Loss.forward(pos) =>  Var:Sig_5 val:0.2704075981424374 grad:0.0 Var:T_3 val:[0.9] grad:[0.63105858] Var:Loss_6 val:[0.1981933] grad:0.0\n",
            "current loss: 0.1982 - current output: 0.2704\n",
            "Loss.backward(pre) <=  Var:Sig_5 val:0.2704075981424374 grad:0.0 Var:T_3 val:[0.9] grad:[0.63105858] Var:Loss_6 val:[0.1981933] grad:1.0\n",
            "Loss.backward(pos) <=  Var:Sig_5 val:0.2704075981424374 grad:[-0.6295924] Var:T_3 val:[0.9] grad:[1.26065098] Var:Loss_6 val:[0.1981933] grad:1.0\n",
            "Sgm.backward(pos) <=  Var:Dot_4 val:-0.9925555811720157 grad:[-0.1242106] Var:Sig_5 val:0.2704075981424374 grad:[-0.6295924]\n",
            "Dot.backward(pre) <=  Var:X_2 val:[-1. -2.  1.] grad:[-0.12407365  0.12407365  0.24814729] Var:W_1 val:[ 0.99875926 -1.00248147 -1.99875926] grad:[ 0.12407365  0.24814729 -0.12407365] Var:Dot_4 val:-0.9925555811720157 grad:[-0.1242106]\n",
            "Dot.backward(pos) <=  Var:X_2 val:[-1. -2.  1.] grad:[-0.24813014  0.24859248  0.49641439] Var:W_1 val:[ 0.99875926 -1.00248147 -1.99875926] grad:[ 0.24828425  0.4965685  -0.24828425] Var:Dot_4 val:-0.9925555811720157 grad:[-0.1242106]\n",
            "Actualiza(pos) =  Var:Loss_6 val:[0.1981933] grad:1.0 Var:W_1 val:[ 0.99627642 -1.00744716 -1.99627642] grad:[ 0.24828425  0.4965685  -0.24828425] 0.01 Var:Sig_5 val:0.2704075981424374 grad:[-0.6295924]\n",
            "\n",
            "\n",
            "Dot.forward() =>  Var:X_2 val:[-1. -2.  1.] grad:[-0.24813014  0.24859248  0.49641439] Var:W_1 val:[ 0.99627642 -1.00744716 -1.99627642] grad:[ 0.24828425  0.4965685  -0.24828425] Var:Dot_4 val:-0.9776585261444106 grad:0.0\n",
            "Sgm.forward(pos) =>  Var:Dot_4 val:-0.9776585261444106 grad:0.0 Var:Sig_5 val:0.2733566302300516 grad:0.0\n",
            "Loss.forward(pos) =>  Var:Sig_5 val:0.2733566302300516 grad:0.0 Var:T_3 val:[0.9] grad:[1.26065098] Var:Loss_6 val:[0.19634096] grad:0.0\n",
            "current loss: 0.1963 - current output: 0.2734\n",
            "Loss.backward(pre) <=  Var:Sig_5 val:0.2733566302300516 grad:0.0 Var:T_3 val:[0.9] grad:[1.26065098] Var:Loss_6 val:[0.19634096] grad:1.0\n",
            "Loss.backward(pos) <=  Var:Sig_5 val:0.2733566302300516 grad:[-0.62664337] Var:T_3 val:[0.9] grad:[1.88729435] Var:Loss_6 val:[0.19634096] grad:1.0\n",
            "Sgm.backward(pos) <=  Var:Dot_4 val:-0.9776585261444106 grad:[-0.12447192] Var:Sig_5 val:0.2733566302300516 grad:[-0.62664337]\n",
            "Dot.backward(pre) <=  Var:X_2 val:[-1. -2.  1.] grad:[-0.24813014  0.24859248  0.49641439] Var:W_1 val:[ 0.99627642 -1.00744716 -1.99627642] grad:[ 0.24828425  0.4965685  -0.24828425] Var:Dot_4 val:-0.9776585261444106 grad:[-0.12447192]\n",
            "Dot.backward(pos) <=  Var:X_2 val:[-1. -2.  1.] grad:[-0.37213857  0.37399135  0.74489474] Var:W_1 val:[ 0.99627642 -1.00744716 -1.99627642] grad:[ 0.37275617  0.74551233 -0.37275617] Var:Dot_4 val:-0.9776585261444106 grad:[-0.12447192]\n",
            "Actualiza(pos) =  Var:Loss_6 val:[0.19634096] grad:1.0 Var:W_1 val:[ 0.99254886 -1.01490228 -1.99254886] grad:[ 0.37275617  0.74551233 -0.37275617] 0.01 Var:Sig_5 val:0.2733566302300516 grad:[-0.62664337]\n",
            "\n",
            "\n",
            "Dot.forward() =>  Var:X_2 val:[-1. -2.  1.] grad:[-0.37213857  0.37399135  0.74489474] Var:W_1 val:[ 0.99254886 -1.01490228 -1.99254886] grad:[ 0.37275617  0.74551233 -0.37275617] Var:Dot_4 val:-0.9552931561299329 grad:0.0\n",
            "Sgm.forward(pos) =>  Var:Dot_4 val:-0.9552931561299329 grad:0.0 Var:Sig_5 val:0.2778215724277567 grad:0.0\n",
            "Loss.forward(pos) =>  Var:Sig_5 val:0.2778215724277567 grad:0.0 Var:T_3 val:[0.9] grad:[1.88729435] Var:Loss_6 val:[0.193553] grad:0.0\n",
            "current loss: 0.1936 - current output: 0.2778\n",
            "Loss.backward(pre) <=  Var:Sig_5 val:0.2778215724277567 grad:0.0 Var:T_3 val:[0.9] grad:[1.88729435] Var:Loss_6 val:[0.193553] grad:1.0\n",
            "Loss.backward(pos) <=  Var:Sig_5 val:0.2778215724277567 grad:[-0.62217843] Var:T_3 val:[0.9] grad:[2.50947278] Var:Loss_6 val:[0.193553] grad:1.0\n",
            "Sgm.backward(pos) <=  Var:Dot_4 val:-0.9552931561299329 grad:[-0.12483186] Var:Sig_5 val:0.2778215724277567 grad:[-0.62217843]\n",
            "Dot.backward(pre) <=  Var:X_2 val:[-1. -2.  1.] grad:[-0.37213857  0.37399135  0.74489474] Var:W_1 val:[ 0.99254886 -1.01490228 -1.99254886] grad:[ 0.37275617  0.74551233 -0.37275617] Var:Dot_4 val:-0.9552931561299329 grad:[-0.12483186]\n",
            "Dot.backward(pos) <=  Var:X_2 val:[-1. -2.  1.] grad:[-0.49604029  0.50068349  0.99362831] Var:W_1 val:[ 0.99254886 -1.01490228 -1.99254886] grad:[ 0.49758802  0.99517604 -0.49758802] Var:Dot_4 val:-0.9552931561299329 grad:[-0.12483186]\n",
            "Actualiza(pos) =  Var:Loss_6 val:[0.193553] grad:1.0 Var:W_1 val:[ 0.98757298 -1.02485404 -1.98757298] grad:[ 0.49758802  0.99517604 -0.49758802] 0.01 Var:Sig_5 val:0.2778215724277567 grad:[-0.62217843]\n",
            "\n",
            "\n",
            "Dot.forward() =>  Var:X_2 val:[-1. -2.  1.] grad:[-0.49604029  0.50068349  0.99362831] Var:W_1 val:[ 0.98757298 -1.02485404 -1.98757298] grad:[ 0.49758802  0.99517604 -0.49758802] Var:Dot_4 val:-0.9254378747950831 grad:0.0\n",
            "Sgm.forward(pos) =>  Var:Dot_4 val:-0.9254378747950831 grad:0.0 Var:Sig_5 val:0.2838511867075371 grad:0.0\n",
            "Loss.forward(pos) =>  Var:Sig_5 val:0.2838511867075371 grad:0.0 Var:T_3 val:[0.9] grad:[2.50947278] Var:Loss_6 val:[0.18981968] grad:0.0\n",
            "current loss: 0.1898 - current output: 0.2839\n",
            "Loss.backward(pre) <=  Var:Sig_5 val:0.2838511867075371 grad:0.0 Var:T_3 val:[0.9] grad:[2.50947278] Var:Loss_6 val:[0.18981968] grad:1.0\n",
            "Loss.backward(pos) <=  Var:Sig_5 val:0.2838511867075371 grad:[-0.61614881] Var:T_3 val:[0.9] grad:[3.12562159] Var:Loss_6 val:[0.18981968] grad:1.0\n",
            "Sgm.backward(pos) <=  Var:Dot_4 val:-0.9254378747950831 grad:[-0.12525054] Var:Sig_5 val:0.2838511867075371 grad:[-0.61614881]\n",
            "Dot.backward(pre) <=  Var:X_2 val:[-1. -2.  1.] grad:[-0.49604029  0.50068349  0.99362831] Var:W_1 val:[ 0.98757298 -1.02485404 -1.98757298] grad:[ 0.49758802  0.99517604 -0.49758802] Var:Dot_4 val:-0.9254378747950831 grad:[-0.12525054]\n",
            "Dot.backward(pos) <=  Var:X_2 val:[-1. -2.  1.] grad:[-0.61973434  0.62904701  1.2425729 ] Var:W_1 val:[ 0.98757298 -1.02485404 -1.98757298] grad:[ 0.62283856  1.24567712 -0.62283856] Var:Dot_4 val:-0.9254378747950831 grad:[-0.12525054]\n",
            "Actualiza(pos) =  Var:Loss_6 val:[0.18981968] grad:1.0 Var:W_1 val:[ 0.98134459 -1.03731081 -1.98134459] grad:[ 0.62283856  1.24567712 -0.62283856] 0.01 Var:Sig_5 val:0.2838511867075371 grad:[-0.61614881]\n",
            "\n",
            "\n",
            "Dot.forward() =>  Var:X_2 val:[-1. -2.  1.] grad:[-0.61973434  0.62904701  1.2425729 ] Var:W_1 val:[ 0.98134459 -1.03731081 -1.98134459] grad:[ 0.62283856  1.24567712 -0.62283856] Var:Dot_4 val:-0.8880675610556983 grad:0.0\n",
            "Sgm.forward(pos) =>  Var:Dot_4 val:-0.8880675610556983 grad:0.0 Var:Sig_5 val:0.29150877591365815 grad:0.0\n",
            "Loss.forward(pos) =>  Var:Sig_5 val:0.29150877591365815 grad:0.0 Var:T_3 val:[0.9] grad:[3.12562159] Var:Loss_6 val:[0.18513078] grad:0.0\n",
            "current loss: 0.1851 - current output: 0.2915\n",
            "Loss.backward(pre) <=  Var:Sig_5 val:0.29150877591365815 grad:0.0 Var:T_3 val:[0.9] grad:[3.12562159] Var:Loss_6 val:[0.18513078] grad:1.0\n",
            "Loss.backward(pos) <=  Var:Sig_5 val:0.29150877591365815 grad:[-0.60849122] Var:T_3 val:[0.9] grad:[3.73411282] Var:Loss_6 val:[0.18513078] grad:1.0\n",
            "Sgm.backward(pos) <=  Var:Dot_4 val:-0.8880675610556983 grad:[-0.12567255] Var:Sig_5 val:0.29150877591365815 grad:[-0.60849122]\n",
            "Dot.backward(pre) <=  Var:X_2 val:[-1. -2.  1.] grad:[-0.61973434  0.62904701  1.2425729 ] Var:W_1 val:[ 0.98134459 -1.03731081 -1.98134459] grad:[ 0.62283856  1.24567712 -0.62283856] Var:Dot_4 val:-0.8880675610556983 grad:[-0.12567255]\n",
            "Dot.backward(pos) <=  Var:X_2 val:[-1. -2.  1.] grad:[-0.74306242  0.75940851  1.49157353] Var:W_1 val:[ 0.98134459 -1.03731081 -1.98134459] grad:[ 0.74851111  1.49702222 -0.74851111] Var:Dot_4 val:-0.8880675610556983 grad:[-0.12567255]\n",
            "Actualiza(pos) =  Var:Loss_6 val:[0.18513078] grad:1.0 Var:W_1 val:[ 0.97385948 -1.05228104 -1.97385948] grad:[ 0.74851111  1.49702222 -0.74851111] 0.01 Var:Sig_5 val:0.29150877591365815 grad:[-0.60849122]\n",
            "\n",
            "\n",
            "Dot.forward() =>  Var:X_2 val:[-1. -2.  1.] grad:[-0.74306242  0.75940851  1.49157353] Var:W_1 val:[ 0.97385948 -1.05228104 -1.97385948] grad:[ 0.74851111  1.49702222 -0.74851111] Var:Dot_4 val:-0.8431568943063446 grad:0.0\n",
            "Sgm.forward(pos) =>  Var:Dot_4 val:-0.8431568943063446 grad:0.0 Var:Sig_5 val:0.30087032242845013 grad:0.0\n",
            "Loss.forward(pos) =>  Var:Sig_5 val:0.30087032242845013 grad:0.0 Var:T_3 val:[0.9] grad:[3.73411282] Var:Loss_6 val:[0.17947819] grad:0.0\n",
            "current loss: 0.1795 - current output: 0.3009\n",
            "Loss.backward(pre) <=  Var:Sig_5 val:0.30087032242845013 grad:0.0 Var:T_3 val:[0.9] grad:[3.73411282] Var:Loss_6 val:[0.17947819] grad:1.0\n",
            "Loss.backward(pos) <=  Var:Sig_5 val:0.30087032242845013 grad:[-0.59912968] Var:T_3 val:[0.9] grad:[4.33324249] Var:Loss_6 val:[0.17947819] grad:1.0\n",
            "Sgm.backward(pos) <=  Var:Dot_4 val:-0.8431568943063446 grad:[-0.12602535] Var:Sig_5 val:0.30087032242845013 grad:[-0.59912968]\n",
            "Dot.backward(pre) <=  Var:X_2 val:[-1. -2.  1.] grad:[-0.74306242  0.75940851  1.49157353] Var:W_1 val:[ 0.97385948 -1.05228104 -1.97385948] grad:[ 0.74851111  1.49702222 -0.74851111] Var:Dot_4 val:-0.8431568943063446 grad:[-0.12602535]\n",
            "Dot.backward(pos) <=  Var:X_2 val:[-1. -2.  1.] grad:[-0.8657934   0.8920226   1.74032987] Var:W_1 val:[ 0.97385948 -1.05228104 -1.97385948] grad:[ 0.87453647  1.74907293 -0.87453647] Var:Dot_4 val:-0.8431568943063446 grad:[-0.12602535]\n",
            "Actualiza(pos) =  Var:Loss_6 val:[0.17947819] grad:1.0 Var:W_1 val:[ 0.96511412 -1.06977176 -1.96511412] grad:[ 0.87453647  1.74907293 -0.87453647] 0.01 Var:Sig_5 val:0.30087032242845013 grad:[-0.59912968]\n",
            "\n",
            "\n",
            "Dot.forward() =>  Var:X_2 val:[-1. -2.  1.] grad:[-0.8657934   0.8920226   1.74032987] Var:W_1 val:[ 0.96511412 -1.06977176 -1.96511412] grad:[ 0.87453647  1.74907293 -0.87453647] Var:Dot_4 val:-0.7906847063847335 grad:0.0\n",
            "Sgm.forward(pos) =>  Var:Dot_4 val:-0.7906847063847335 grad:0.0 Var:Sig_5 val:0.3120216685904618 grad:0.0\n",
            "Loss.forward(pos) =>  Var:Sig_5 val:0.3120216685904618 grad:0.0 Var:T_3 val:[0.9] grad:[4.33324249] Var:Loss_6 val:[0.17285926] grad:0.0\n",
            "current loss: 0.1729 - current output: 0.3120\n",
            "Loss.backward(pre) <=  Var:Sig_5 val:0.3120216685904618 grad:0.0 Var:T_3 val:[0.9] grad:[4.33324249] Var:Loss_6 val:[0.17285926] grad:1.0\n",
            "Loss.backward(pos) <=  Var:Sig_5 val:0.3120216685904618 grad:[-0.58797833] Var:T_3 val:[0.9] grad:[4.92122082] Var:Loss_6 val:[0.17285926] grad:1.0\n",
            "Sgm.backward(pos) <=  Var:Dot_4 val:-0.7906847063847335 grad:[-0.12621787] Var:Sig_5 val:0.3120216685904618 grad:[-0.58797833]\n",
            "Dot.backward(pre) <=  Var:X_2 val:[-1. -2.  1.] grad:[-0.8657934   0.8920226   1.74032987] Var:W_1 val:[ 0.96511412 -1.06977176 -1.96511412] grad:[ 0.87453647  1.74907293 -0.87453647] Var:Dot_4 val:-0.7906847063847335 grad:[-0.12621787]\n",
            "Dot.backward(pos) <=  Var:X_2 val:[-1. -2.  1.] grad:[-0.98760805  1.02704691  1.98836238] Var:W_1 val:[ 0.96511412 -1.06977176 -1.96511412] grad:[ 1.00075433  2.00150866 -1.00075433] Var:Dot_4 val:-0.7906847063847335 grad:[-0.12621787]\n",
            "Actualiza(pos) =  Var:Loss_6 val:[0.17285926] grad:1.0 Var:W_1 val:[ 0.95510657 -1.08978685 -1.95510657] grad:[ 1.00075433  2.00150866 -1.00075433] 0.01 Var:Sig_5 val:0.3120216685904618 grad:[-0.58797833]\n",
            "\n",
            "\n",
            "Dot.forward() =>  Var:X_2 val:[-1. -2.  1.] grad:[-0.98760805  1.02704691  1.98836238] Var:W_1 val:[ 0.95510657 -1.08978685 -1.95510657] grad:[ 1.00075433  2.00150866 -1.00075433] Var:Dot_4 val:-0.7306394464479369 grad:0.0\n",
            "Sgm.forward(pos) =>  Var:Dot_4 val:-0.7306394464479369 grad:0.0 Var:Sig_5 val:0.325054420984242 grad:0.0\n",
            "Loss.forward(pos) =>  Var:Sig_5 val:0.325054420984242 grad:0.0 Var:T_3 val:[0.9] grad:[4.92122082] Var:Loss_6 val:[0.16528121] grad:0.0\n",
            "current loss: 0.1653 - current output: 0.3251\n",
            "Loss.backward(pre) <=  Var:Sig_5 val:0.325054420984242 grad:0.0 Var:T_3 val:[0.9] grad:[4.92122082] Var:Loss_6 val:[0.16528121] grad:1.0\n",
            "Loss.backward(pos) <=  Var:Sig_5 val:0.325054420984242 grad:[-0.57494558] Var:T_3 val:[0.9] grad:[5.4961664] Var:Loss_6 val:[0.16528121] grad:1.0\n",
            "Sgm.backward(pos) <=  Var:Dot_4 val:-0.7306394464479369 grad:[-0.12613964] Var:Sig_5 val:0.325054420984242 grad:[-0.57494558]\n",
            "Dot.backward(pre) <=  Var:X_2 val:[-1. -2.  1.] grad:[-0.98760805  1.02704691  1.98836238] Var:W_1 val:[ 0.95510657 -1.08978685 -1.95510657] grad:[ 1.00075433  2.00150866 -1.00075433] Var:Dot_4 val:-0.7306394464479369 grad:[-0.12613964]\n",
            "Dot.backward(pos) <=  Var:X_2 val:[-1. -2.  1.] grad:[-1.10808484  1.16451222  2.23497881] Var:W_1 val:[ 0.95510657 -1.08978685 -1.95510657] grad:[ 1.12689397  2.25378794 -1.12689397] Var:Dot_4 val:-0.7306394464479369 grad:[-0.12613964]\n",
            "Actualiza(pos) =  Var:Loss_6 val:[0.16528121] grad:1.0 Var:W_1 val:[ 0.94383763 -1.11232473 -1.94383763] grad:[ 1.12689397  2.25378794 -1.12689397] 0.01 Var:Sig_5 val:0.325054420984242 grad:[-0.57494558]\n",
            "\n",
            "\n",
            "Dot.forward() =>  Var:X_2 val:[-1. -2.  1.] grad:[-1.10808484  1.16451222  2.23497881] Var:W_1 val:[ 0.94383763 -1.11232473 -1.94383763] grad:[ 1.12689397  2.25378794 -1.12689397] Var:Dot_4 val:-0.6630258083583223 grad:0.0\n",
            "Sgm.forward(pos) =>  Var:Dot_4 val:-0.6630258083583223 grad:0.0 Var:Sig_5 val:0.3400602335776522 grad:0.0\n",
            "Loss.forward(pos) =>  Var:Sig_5 val:0.3400602335776522 grad:0.0 Var:T_3 val:[0.9] grad:[5.4961664] Var:Loss_6 val:[0.15676627] grad:0.0\n",
            "current loss: 0.1568 - current output: 0.3401\n",
            "Loss.backward(pre) <=  Var:Sig_5 val:0.3400602335776522 grad:0.0 Var:T_3 val:[0.9] grad:[5.4961664] Var:Loss_6 val:[0.15676627] grad:1.0\n",
            "Loss.backward(pos) <=  Var:Sig_5 val:0.3400602335776522 grad:[-0.55993977] Var:T_3 val:[0.9] grad:[6.05610617] Var:Loss_6 val:[0.15676627] grad:1.0\n",
            "Sgm.backward(pos) <=  Var:Dot_4 val:-0.6630258083583223 grad:[-0.12566127] Var:Sig_5 val:0.3400602335776522 grad:[-0.55993977]\n",
            "Dot.backward(pre) <=  Var:X_2 val:[-1. -2.  1.] grad:[-1.10808484  1.16451222  2.23497881] Var:W_1 val:[ 0.94383763 -1.11232473 -1.94383763] grad:[ 1.12689397  2.25378794 -1.12689397] Var:Dot_4 val:-0.6630258083583223 grad:[-0.12566127]\n",
            "Dot.backward(pos) <=  Var:X_2 val:[-1. -2.  1.] grad:[-1.22668868  1.30428836  2.47924392] Var:W_1 val:[ 0.94383763 -1.11232473 -1.94383763] grad:[ 1.25255524  2.50511048 -1.25255524] Var:Dot_4 val:-0.6630258083583223 grad:[-0.12566127]\n",
            "Actualiza(pos) =  Var:Loss_6 val:[0.15676627] grad:1.0 Var:W_1 val:[ 0.93131208 -1.13737584 -1.93131208] grad:[ 1.25255524  2.50511048 -1.25255524] 0.01 Var:Sig_5 val:0.3400602335776522 grad:[-0.55993977]\n",
            "\n",
            "\n",
            "Dot.forward() =>  Var:X_2 val:[-1. -2.  1.] grad:[-1.22668868  1.30428836  2.47924392] Var:W_1 val:[ 0.93131208 -1.13737584 -1.93131208] grad:[ 1.25255524  2.50511048 -1.25255524] Var:Dot_4 val:-0.5878724938137194 grad:0.0\n",
            "Sgm.forward(pos) =>  Var:Dot_4 val:-0.5878724938137194 grad:0.0 Var:Sig_5 val:0.357123151767023 grad:0.0\n",
            "Loss.forward(pos) =>  Var:Sig_5 val:0.357123151767023 grad:0.0 Var:T_3 val:[0.9] grad:[6.05610617] Var:Loss_6 val:[0.14735764] grad:0.0\n",
            "current loss: 0.1474 - current output: 0.3571\n",
            "Loss.backward(pre) <=  Var:Sig_5 val:0.357123151767023 grad:0.0 Var:T_3 val:[0.9] grad:[6.05610617] Var:Loss_6 val:[0.14735764] grad:1.0\n",
            "Loss.backward(pos) <=  Var:Sig_5 val:0.357123151767023 grad:[-0.54287685] Var:T_3 val:[0.9] grad:[6.59898302] Var:Loss_6 val:[0.14735764] grad:1.0\n",
            "Sgm.backward(pos) <=  Var:Dot_4 val:-0.5878724938137194 grad:[-0.12463704] Var:Sig_5 val:0.357123151767023 grad:[-0.54287685]\n",
            "Dot.backward(pre) <=  Var:X_2 val:[-1. -2.  1.] grad:[-1.22668868  1.30428836  2.47924392] Var:W_1 val:[ 0.93131208 -1.13737584 -1.93131208] grad:[ 1.25255524  2.50511048 -1.25255524] Var:Dot_4 val:-0.5878724938137194 grad:[-0.12463704]\n",
            "Dot.backward(pos) <=  Var:X_2 val:[-1. -2.  1.] grad:[-1.34276466  1.44604752  2.71995694] Var:W_1 val:[ 0.93131208 -1.13737584 -1.93131208] grad:[ 1.37719228  2.75438456 -1.37719228] Var:Dot_4 val:-0.5878724938137194 grad:[-0.12463704]\n",
            "Actualiza(pos) =  Var:Loss_6 val:[0.14735764] grad:1.0 Var:W_1 val:[ 0.91754016 -1.16491968 -1.91754016] grad:[ 1.37719228  2.75438456 -1.37719228] 0.01 Var:Sig_5 val:0.357123151767023 grad:[-0.54287685]\n",
            "\n",
            "\n",
            "Dot.forward() =>  Var:X_2 val:[-1. -2.  1.] grad:[-1.34276466  1.44604752  2.71995694] Var:W_1 val:[ 0.91754016 -1.16491968 -1.91754016] grad:[ 1.37719228  2.75438456 -1.37719228] Var:Dot_4 val:-0.5052409571066689 grad:0.0\n",
            "Sgm.forward(pos) =>  Var:Dot_4 val:-0.5052409571066689 grad:0.0 Var:Sig_5 val:0.37630981720557033 grad:0.0\n",
            "Loss.forward(pos) =>  Var:Sig_5 val:0.37630981720557033 grad:0.0 Var:T_3 val:[0.9] grad:[6.59898302] Var:Loss_6 val:[0.1371257] grad:0.0\n",
            "current loss: 0.1371 - current output: 0.3763\n",
            "Loss.backward(pre) <=  Var:Sig_5 val:0.37630981720557033 grad:0.0 Var:T_3 val:[0.9] grad:[6.59898302] Var:Loss_6 val:[0.1371257] grad:1.0\n",
            "Loss.backward(pos) <=  Var:Sig_5 val:0.37630981720557033 grad:[-0.52369018] Var:T_3 val:[0.9] grad:[7.1226732] Var:Loss_6 val:[0.1371257] grad:1.0\n",
            "Sgm.backward(pos) <=  Var:Dot_4 val:-0.5052409571066689 grad:[-0.12291047] Var:Sig_5 val:0.37630981720557033 grad:[-0.52369018]\n",
            "Dot.backward(pre) <=  Var:X_2 val:[-1. -2.  1.] grad:[-1.34276466  1.44604752  2.71995694] Var:W_1 val:[ 0.91754016 -1.16491968 -1.91754016] grad:[ 1.37719228  2.75438456 -1.37719228] Var:Dot_4 val:-0.5052409571066689 grad:[-0.12291047]\n",
            "Dot.backward(pos) <=  Var:X_2 val:[-1. -2.  1.] grad:[-1.45553995  1.58922835  2.9556427 ] Var:W_1 val:[ 0.91754016 -1.16491968 -1.91754016] grad:[ 1.50010275  3.0002055  -1.50010275] Var:Dot_4 val:-0.5052409571066689 grad:[-0.12291047]\n",
            "Actualiza(pos) =  Var:Loss_6 val:[0.1371257] grad:1.0 Var:W_1 val:[ 0.90253913 -1.19492174 -1.90253913] grad:[ 1.50010275  3.0002055  -1.50010275] 0.01 Var:Sig_5 val:0.37630981720557033 grad:[-0.52369018]\n",
            "\n",
            "\n",
            "Dot.forward() =>  Var:X_2 val:[-1. -2.  1.] grad:[-1.45553995  1.58922835  2.9556427 ] Var:W_1 val:[ 0.90253913 -1.19492174 -1.90253913] grad:[ 1.50010275  3.0002055  -1.50010275] Var:Dot_4 val:-0.4152347920351305 grad:0.0\n",
            "Sgm.forward(pos) =>  Var:Dot_4 val:-0.4152347920351305 grad:0.0 Var:Sig_5 val:0.39765758295624887 grad:0.0\n",
            "Loss.forward(pos) =>  Var:Sig_5 val:0.39765758295624887 grad:0.0 Var:T_3 val:[0.9] grad:[7.1226732] Var:Loss_6 val:[0.12617395] grad:0.0\n",
            "current loss: 0.1262 - current output: 0.3977\n",
            "Loss.backward(pre) <=  Var:Sig_5 val:0.39765758295624887 grad:0.0 Var:T_3 val:[0.9] grad:[7.1226732] Var:Loss_6 val:[0.12617395] grad:1.0\n",
            "Loss.backward(pos) <=  Var:Sig_5 val:0.39765758295624887 grad:[-0.50234242] Var:T_3 val:[0.9] grad:[7.62501562] Var:Loss_6 val:[0.12617395] grad:1.0\n",
            "Sgm.backward(pos) <=  Var:Dot_4 val:-0.4152347920351305 grad:[-0.12032408] Var:Sig_5 val:0.39765758295624887 grad:[-0.50234242]\n",
            "Dot.backward(pre) <=  Var:X_2 val:[-1. -2.  1.] grad:[-1.45553995  1.58922835  2.9556427 ] Var:W_1 val:[ 0.90253913 -1.19492174 -1.90253913] grad:[ 1.50010275  3.0002055  -1.50010275] Var:Dot_4 val:-0.4152347920351305 grad:[-0.12032408]\n",
            "Dot.backward(pos) <=  Var:X_2 val:[-1. -2.  1.] grad:[-1.56413715  1.73300621  3.18456398] Var:W_1 val:[ 0.90253913 -1.19492174 -1.90253913] grad:[ 1.62042684  3.24085367 -1.62042684] Var:Dot_4 val:-0.4152347920351305 grad:[-0.12032408]\n",
            "Actualiza(pos) =  Var:Loss_6 val:[0.12617395] grad:1.0 Var:W_1 val:[ 0.88633486 -1.22733027 -1.88633486] grad:[ 1.62042684  3.24085367 -1.62042684] 0.01 Var:Sig_5 val:0.39765758295624887 grad:[-0.50234242]\n",
            "\n",
            "\n",
            "Dot.forward() =>  Var:X_2 val:[-1. -2.  1.] grad:[-1.56413715  1.73300621  3.18456398] Var:W_1 val:[ 0.88633486 -1.22733027 -1.88633486] grad:[ 1.62042684  3.24085367 -1.62042684] Var:Dot_4 val:-0.3180091818821227 grad:0.0\n",
            "Sgm.forward(pos) =>  Var:Dot_4 val:-0.3180091818821227 grad:0.0 Var:Sig_5 val:0.4211610019533934 grad:0.0\n",
            "Loss.forward(pos) =>  Var:Sig_5 val:0.4211610019533934 grad:0.0 Var:T_3 val:[0.9] grad:[7.62501562] Var:Loss_6 val:[0.11464339] grad:0.0\n",
            "current loss: 0.1146 - current output: 0.4212\n",
            "Loss.backward(pre) <=  Var:Sig_5 val:0.4211610019533934 grad:0.0 Var:T_3 val:[0.9] grad:[7.62501562] Var:Loss_6 val:[0.11464339] grad:1.0\n",
            "Loss.backward(pos) <=  Var:Sig_5 val:0.4211610019533934 grad:[-0.478839] Var:T_3 val:[0.9] grad:[8.10385462] Var:Loss_6 val:[0.11464339] grad:1.0\n",
            "Sgm.backward(pos) <=  Var:Dot_4 val:-0.3180091818821227 grad:[-0.11673348] Var:Sig_5 val:0.4211610019533934 grad:[-0.478839]\n",
            "Dot.backward(pre) <=  Var:X_2 val:[-1. -2.  1.] grad:[-1.56413715  1.73300621  3.18456398] Var:W_1 val:[ 0.88633486 -1.22733027 -1.88633486] grad:[ 1.62042684  3.24085367 -1.62042684] Var:Dot_4 val:-0.3180091818821227 grad:[-0.11673348]\n",
            "Dot.backward(pos) <=  Var:X_2 val:[-1. -2.  1.] grad:[-1.6676021   1.87627675  3.40476242] Var:W_1 val:[ 0.88633486 -1.22733027 -1.88633486] grad:[ 1.73716032  3.47432064 -1.73716032] Var:Dot_4 val:-0.3180091818821227 grad:[-0.11673348]\n",
            "Actualiza(pos) =  Var:Loss_6 val:[0.11464339] grad:1.0 Var:W_1 val:[ 0.86896326 -1.26207348 -1.86896326] grad:[ 1.73716032  3.47432064 -1.73716032] 0.01 Var:Sig_5 val:0.4211610019533934 grad:[-0.478839]\n",
            "\n",
            "\n",
            "Dot.forward() =>  Var:X_2 val:[-1. -2.  1.] grad:[-1.6676021   1.87627675  3.40476242] Var:W_1 val:[ 0.86896326 -1.26207348 -1.86896326] grad:[ 1.73716032  3.47432064 -1.73716032] Var:Dot_4 val:-0.21377956270310872 grad:0.0\n",
            "Sgm.forward(pos) =>  Var:Dot_4 val:-0.21377956270310872 grad:0.0 Var:Sig_5 val:0.44675772691410126 grad:0.0\n",
            "Loss.forward(pos) =>  Var:Sig_5 val:0.44675772691410126 grad:0.0 Var:T_3 val:[0.9] grad:[8.10385462] Var:Loss_6 val:[0.10271428] grad:0.0\n",
            "current loss: 0.1027 - current output: 0.4468\n",
            "Loss.backward(pre) <=  Var:Sig_5 val:0.44675772691410126 grad:0.0 Var:T_3 val:[0.9] grad:[8.10385462] Var:Loss_6 val:[0.10271428] grad:1.0\n",
            "Loss.backward(pos) <=  Var:Sig_5 val:0.44675772691410126 grad:[-0.45324227] Var:T_3 val:[0.9] grad:[8.55709689] Var:Loss_6 val:[0.10271428] grad:1.0\n",
            "Sgm.backward(pos) <=  Var:Dot_4 val:-0.21377956270310872 grad:[-0.11202574] Var:Sig_5 val:0.44675772691410126 grad:[-0.45324227]\n",
            "Dot.backward(pre) <=  Var:X_2 val:[-1. -2.  1.] grad:[-1.6676021   1.87627675  3.40476242] Var:W_1 val:[ 0.86896326 -1.26207348 -1.86896326] grad:[ 1.73716032  3.47432064 -1.73716032] Var:Dot_4 val:-0.21377956270310872 grad:[-0.11202574]\n",
            "Dot.backward(pos) <=  Var:X_2 val:[-1. -2.  1.] grad:[-1.76494836  2.01766147  3.61413443] Var:W_1 val:[ 0.86896326 -1.26207348 -1.86896326] grad:[ 1.84918606  3.69837213 -1.84918606] Var:Dot_4 val:-0.21377956270310872 grad:[-0.11202574]\n",
            "Actualiza(pos) =  Var:Loss_6 val:[0.10271428] grad:1.0 Var:W_1 val:[ 0.8504714 -1.2990572 -1.8504714] grad:[ 1.84918606  3.69837213 -1.84918606] 0.01 Var:Sig_5 val:0.44675772691410126 grad:[-0.45324227]\n",
            "\n",
            "\n",
            "Dot.forward() =>  Var:X_2 val:[-1. -2.  1.] grad:[-1.76494836  2.01766147  3.61413443] Var:W_1 val:[ 0.8504714 -1.2990572 -1.8504714] grad:[ 1.84918606  3.69837213 -1.84918606] Var:Dot_4 val:-0.10282839885818018 grad:0.0\n",
            "Sgm.forward(pos) =>  Var:Dot_4 val:-0.10282839885818018 grad:0.0 Var:Sig_5 val:0.47431552791303844 grad:0.0\n",
            "Loss.forward(pos) =>  Var:Sig_5 val:0.47431552791303844 grad:0.0 Var:T_3 val:[0.9] grad:[8.55709689] Var:Loss_6 val:[0.09060363] grad:0.0\n",
            "current loss: 0.0906 - current output: 0.4743\n",
            "Loss.backward(pre) <=  Var:Sig_5 val:0.47431552791303844 grad:0.0 Var:T_3 val:[0.9] grad:[8.55709689] Var:Loss_6 val:[0.09060363] grad:1.0\n",
            "Loss.backward(pos) <=  Var:Sig_5 val:0.47431552791303844 grad:[-0.42568447] Var:T_3 val:[0.9] grad:[8.98278136] Var:Loss_6 val:[0.09060363] grad:1.0\n",
            "Sgm.backward(pos) <=  Var:Dot_4 val:-0.10282839885818018 grad:[-0.1061403] Var:Sig_5 val:0.47431552791303844 grad:[-0.42568447]\n",
            "Dot.backward(pre) <=  Var:X_2 val:[-1. -2.  1.] grad:[-1.76494836  2.01766147  3.61413443] Var:W_1 val:[ 0.8504714 -1.2990572 -1.8504714] grad:[ 1.84918606  3.69837213 -1.84918606] Var:Dot_4 val:-0.10282839885818018 grad:[-0.1061403]\n",
            "Dot.backward(pos) <=  Var:X_2 val:[-1. -2.  1.] grad:[-1.85521765  2.15554379  3.81054401] Var:W_1 val:[ 0.8504714 -1.2990572 -1.8504714] grad:[ 1.95532636  3.91065272 -1.95532636] Var:Dot_4 val:-0.10282839885818018 grad:[-0.1061403]\n",
            "Actualiza(pos) =  Var:Loss_6 val:[0.09060363] grad:1.0 Var:W_1 val:[ 0.83091814 -1.33816373 -1.83091814] grad:[ 1.95532636  3.91065272 -1.95532636] 0.01 Var:Sig_5 val:0.47431552791303844 grad:[-0.42568447]\n",
            "\n",
            "\n",
            "Dot.forward() =>  Var:X_2 val:[-1. -2.  1.] grad:[-1.85521765  2.15554379  3.81054401] Var:W_1 val:[ 0.83091814 -1.33816373 -1.83091814] grad:[ 1.95532636  3.91065272 -1.95532636] Var:Dot_4 val:0.014491182826890325 grad:0.0\n",
            "Sgm.forward(pos) =>  Var:Dot_4 val:0.014491182826890325 grad:0.0 Var:Sig_5 val:0.5036227323108258 grad:0.0\n",
            "Loss.forward(pos) =>  Var:Sig_5 val:0.5036227323108258 grad:0.0 Var:T_3 val:[0.9] grad:[8.98278136] Var:Loss_6 val:[0.07855747] grad:0.0\n",
            "current loss: 0.0786 - current output: 0.5036\n",
            "Loss.backward(pre) <=  Var:Sig_5 val:0.5036227323108258 grad:0.0 Var:T_3 val:[0.9] grad:[8.98278136] Var:Loss_6 val:[0.07855747] grad:1.0\n",
            "Loss.backward(pos) <=  Var:Sig_5 val:0.5036227323108258 grad:[-0.39637727] Var:T_3 val:[0.9] grad:[9.37915863] Var:Loss_6 val:[0.07855747] grad:1.0\n",
            "Sgm.backward(pos) <=  Var:Dot_4 val:0.014491182826890325 grad:[-0.09908911] Var:Sig_5 val:0.5036227323108258 grad:[-0.39637727]\n",
            "Dot.backward(pre) <=  Var:X_2 val:[-1. -2.  1.] grad:[-1.85521765  2.15554379  3.81054401] Var:W_1 val:[ 0.83091814 -1.33816373 -1.83091814] grad:[ 1.95532636  3.91065272 -1.95532636] Var:Dot_4 val:0.014491182826890325 grad:[-0.09908911]\n",
            "Dot.backward(pos) <=  Var:X_2 val:[-1. -2.  1.] grad:[-1.93755259  2.28814125  3.99196807] Var:W_1 val:[ 0.83091814 -1.33816373 -1.83091814] grad:[ 2.05441548  4.10883095 -2.05441548] Var:Dot_4 val:0.014491182826890325 grad:[-0.09908911]\n",
            "Actualiza(pos) =  Var:Loss_6 val:[0.07855747] grad:1.0 Var:W_1 val:[ 0.81037398 -1.37925204 -1.81037398] grad:[ 2.05441548  4.10883095 -2.05441548] 0.01 Var:Sig_5 val:0.5036227323108258 grad:[-0.39637727]\n",
            "\n",
            "\n",
            "Dot.forward() =>  Var:X_2 val:[-1. -2.  1.] grad:[-1.93755259  2.28814125  3.99196807] Var:W_1 val:[ 0.81037398 -1.37925204 -1.81037398] grad:[ 2.05441548  4.10883095 -2.05441548] Var:Dot_4 val:0.13775611139947852 grad:0.0\n",
            "Sgm.forward(pos) =>  Var:Dot_4 val:0.13775611139947852 grad:0.0 Var:Sig_5 val:0.5343846692781016 grad:0.0\n",
            "Loss.forward(pos) =>  Var:Sig_5 val:0.5343846692781016 grad:0.0 Var:T_3 val:[0.9] grad:[9.37915863] Var:Loss_6 val:[0.06683729] grad:0.0\n",
            "current loss: 0.0668 - current output: 0.5344\n",
            "Loss.backward(pre) <=  Var:Sig_5 val:0.5343846692781016 grad:0.0 Var:T_3 val:[0.9] grad:[9.37915863] Var:Loss_6 val:[0.06683729] grad:1.0\n",
            "Loss.backward(pos) <=  Var:Sig_5 val:0.5343846692781016 grad:[-0.36561533] Var:T_3 val:[0.9] grad:[9.74477396] Var:Loss_6 val:[0.06683729] grad:1.0\n",
            "Sgm.backward(pos) <=  Var:Dot_4 val:0.13775611139947852 grad:[-0.09097156] Var:Sig_5 val:0.5343846692781016 grad:[-0.36561533]\n",
            "Dot.backward(pre) <=  Var:X_2 val:[-1. -2.  1.] grad:[-1.93755259  2.28814125  3.99196807] Var:W_1 val:[ 0.81037398 -1.37925204 -1.81037398] grad:[ 2.05441548  4.10883095 -2.05441548] Var:Dot_4 val:0.13775611139947852 grad:[-0.09097156]\n",
            "Dot.backward(pos) <=  Var:X_2 val:[-1. -2.  1.] grad:[-2.01127358  2.41361396  4.15666062] Var:W_1 val:[ 0.81037398 -1.37925204 -1.81037398] grad:[ 2.14538704  4.29077408 -2.14538704] Var:Dot_4 val:0.13775611139947852 grad:[-0.09097156]\n",
            "Actualiza(pos) =  Var:Loss_6 val:[0.06683729] grad:1.0 Var:W_1 val:[ 0.78892011 -1.42215978 -1.78892011] grad:[ 2.14538704  4.29077408 -2.14538704] 0.01 Var:Sig_5 val:0.5343846692781016 grad:[-0.36561533]\n",
            "\n",
            "\n",
            "Dot.forward() =>  Var:X_2 val:[-1. -2.  1.] grad:[-2.01127358  2.41361396  4.15666062] Var:W_1 val:[ 0.78892011 -1.42215978 -1.78892011] grad:[ 2.14538704  4.29077408 -2.14538704] Var:Dot_4 val:0.26647933379232036 grad:0.0\n",
            "Sgm.forward(pos) =>  Var:Dot_4 val:0.26647933379232036 grad:0.0 Var:Sig_5 val:0.5662283832270523 grad:0.0\n",
            "Loss.forward(pos) =>  Var:Sig_5 val:0.5662283832270523 grad:0.0 Var:T_3 val:[0.9] grad:[9.74477396] Var:Loss_6 val:[0.05570175] grad:0.0\n",
            "current loss: 0.0557 - current output: 0.5662\n",
            "Loss.backward(pre) <=  Var:Sig_5 val:0.5662283832270523 grad:0.0 Var:T_3 val:[0.9] grad:[9.74477396] Var:Loss_6 val:[0.05570175] grad:1.0\n",
            "Loss.backward(pos) <=  Var:Sig_5 val:0.5662283832270523 grad:[-0.33377162] Var:T_3 val:[0.9] grad:[10.07854558] Var:Loss_6 val:[0.05570175] grad:1.0\n",
            "Sgm.backward(pos) <=  Var:Dot_4 val:0.26647933379232036 grad:[-0.08197892] Var:Sig_5 val:0.5662283832270523 grad:[-0.33377162]\n",
            "Dot.backward(pre) <=  Var:X_2 val:[-1. -2.  1.] grad:[-2.01127358  2.41361396  4.15666062] Var:W_1 val:[ 0.78892011 -1.42215978 -1.78892011] grad:[ 2.14538704  4.29077408 -2.14538704] Var:Dot_4 val:0.26647933379232036 grad:[-0.08197892]\n",
            "Dot.backward(pos) <=  Var:X_2 val:[-1. -2.  1.] grad:[-2.07594839  2.53020108  4.30331435] Var:W_1 val:[ 0.78892011 -1.42215978 -1.78892011] grad:[ 2.22736596  4.45473191 -2.22736596] Var:Dot_4 val:0.26647933379232036 grad:[-0.08197892]\n",
            "Actualiza(pos) =  Var:Loss_6 val:[0.05570175] grad:1.0 Var:W_1 val:[ 0.76664645 -1.4667071  -1.76664645] grad:[ 2.22736596  4.45473191 -2.22736596] 0.01 Var:Sig_5 val:0.5662283832270523 grad:[-0.33377162]\n",
            "\n",
            "\n",
            "Dot.forward() =>  Var:X_2 val:[-1. -2.  1.] grad:[-2.07594839  2.53020108  4.30331435] Var:W_1 val:[ 0.76664645 -1.4667071  -1.76664645] grad:[ 2.22736596  4.45473191 -2.22736596] Var:Dot_4 val:0.40012129111796213 grad:0.0\n",
            "Sgm.forward(pos) =>  Var:Dot_4 val:0.40012129111796213 grad:0.0 Var:Sig_5 val:0.598716801258052 grad:0.0\n",
            "Loss.forward(pos) =>  Var:Sig_5 val:0.598716801258052 grad:0.0 Var:T_3 val:[0.9] grad:[10.07854558] Var:Loss_6 val:[0.04538578] grad:0.0\n",
            "current loss: 0.0454 - current output: 0.5987\n",
            "Loss.backward(pre) <=  Var:Sig_5 val:0.598716801258052 grad:0.0 Var:T_3 val:[0.9] grad:[10.07854558] Var:Loss_6 val:[0.04538578] grad:1.0\n",
            "Loss.backward(pos) <=  Var:Sig_5 val:0.598716801258052 grad:[-0.3012832] Var:T_3 val:[0.9] grad:[10.37982877] Var:Loss_6 val:[0.04538578] grad:1.0\n",
            "Sgm.backward(pos) <=  Var:Dot_4 val:0.40012129111796213 grad:[-0.07238479] Var:Sig_5 val:0.598716801258052 grad:[-0.3012832]\n",
            "Dot.backward(pre) <=  Var:X_2 val:[-1. -2.  1.] grad:[-2.07594839  2.53020108  4.30331435] Var:W_1 val:[ 0.76664645 -1.4667071  -1.76664645] grad:[ 2.22736596  4.45473191 -2.22736596] Var:Dot_4 val:0.40012129111796213 grad:[-0.07238479]\n",
            "Dot.backward(pos) <=  Var:X_2 val:[-1. -2.  1.] grad:[-2.13144194  2.63636837  4.43119269] Var:W_1 val:[ 0.76664645 -1.4667071  -1.76664645] grad:[ 2.29975075  4.5995015  -2.29975075] Var:Dot_4 val:0.40012129111796213 grad:[-0.07238479]\n",
            "Actualiza(pos) =  Var:Loss_6 val:[0.04538578] grad:1.0 Var:W_1 val:[ 0.74364894 -1.51270211 -1.74364894] grad:[ 2.29975075  4.5995015  -2.29975075] 0.01 Var:Sig_5 val:0.598716801258052 grad:[-0.3012832]\n",
            "\n",
            "\n",
            "Dot.forward() =>  Var:X_2 val:[-1. -2.  1.] grad:[-2.13144194  2.63636837  4.43119269] Var:W_1 val:[ 0.74364894 -1.51270211 -1.74364894] grad:[ 2.29975075  4.5995015  -2.29975075] Var:Dot_4 val:0.5381063360145901 grad:0.0\n",
            "Sgm.forward(pos) =>  Var:Dot_4 val:0.5381063360145901 grad:0.0 Var:Sig_5 val:0.6313717933782887 grad:0.0\n",
            "Loss.forward(pos) =>  Var:Sig_5 val:0.6313717933782887 grad:0.0 Var:T_3 val:[0.9] grad:[10.37982877] Var:Loss_6 val:[0.03608056] grad:0.0\n",
            "current loss: 0.0361 - current output: 0.6314\n",
            "Loss.backward(pre) <=  Var:Sig_5 val:0.6313717933782887 grad:0.0 Var:T_3 val:[0.9] grad:[10.37982877] Var:Loss_6 val:[0.03608056] grad:1.0\n",
            "Loss.backward(pos) <=  Var:Sig_5 val:0.6313717933782887 grad:[-0.26862821] Var:T_3 val:[0.9] grad:[10.64845698] Var:Loss_6 val:[0.03608056] grad:1.0\n",
            "Sgm.backward(pos) <=  Var:Dot_4 val:0.5381063360145901 grad:[-0.06252092] Var:Sig_5 val:0.6313717933782887 grad:[-0.26862821]\n",
            "Dot.backward(pre) <=  Var:X_2 val:[-1. -2.  1.] grad:[-2.13144194  2.63636837  4.43119269] Var:W_1 val:[ 0.74364894 -1.51270211 -1.74364894] grad:[ 2.29975075  4.5995015  -2.29975075] Var:Dot_4 val:0.5381063360145901 grad:[-0.06252092]\n",
            "Dot.backward(pos) <=  Var:X_2 val:[-1. -2.  1.] grad:[-2.17793555  2.73094389  4.54020722] Var:W_1 val:[ 0.74364894 -1.51270211 -1.74364894] grad:[ 2.36227167  4.72454333 -2.36227167] Var:Dot_4 val:0.5381063360145901 grad:[-0.06252092]\n",
            "Actualiza(pos) =  Var:Loss_6 val:[0.03608056] grad:1.0 Var:W_1 val:[ 0.72002623 -1.55994755 -1.72002623] grad:[ 2.36227167  4.72454333 -2.36227167] 0.01 Var:Sig_5 val:0.6313717933782887 grad:[-0.26862821]\n",
            "\n",
            "\n",
            "Dot.forward() =>  Var:X_2 val:[-1. -2.  1.] grad:[-2.17793555  2.73094389  4.54020722] Var:W_1 val:[ 0.72002623 -1.55994755 -1.72002623] grad:[ 2.36227167  4.72454333 -2.36227167] Var:Dot_4 val:0.679842636041118 grad:0.0\n",
            "Sgm.forward(pos) =>  Var:Dot_4 val:0.679842636041118 grad:0.0 Var:Sig_5 val:0.6637035744942581 grad:0.0\n",
            "Loss.forward(pos) =>  Var:Sig_5 val:0.6637035744942581 grad:0.0 Var:T_3 val:[0.9] grad:[10.64845698] Var:Loss_6 val:[0.027918] grad:0.0\n",
            "current loss: 0.0279 - current output: 0.6637\n",
            "Loss.backward(pre) <=  Var:Sig_5 val:0.6637035744942581 grad:0.0 Var:T_3 val:[0.9] grad:[10.64845698] Var:Loss_6 val:[0.027918] grad:1.0\n",
            "Loss.backward(pos) <=  Var:Sig_5 val:0.6637035744942581 grad:[-0.23629643] Var:T_3 val:[0.9] grad:[10.88475341] Var:Loss_6 val:[0.027918] grad:1.0\n",
            "Sgm.backward(pos) <=  Var:Dot_4 val:0.679842636041118 grad:[-0.05274163] Var:Sig_5 val:0.6637035744942581 grad:[-0.23629643]\n",
            "Dot.backward(pre) <=  Var:X_2 val:[-1. -2.  1.] grad:[-2.17793555  2.73094389  4.54020722] Var:W_1 val:[ 0.72002623 -1.55994755 -1.72002623] grad:[ 2.36227167  4.72454333 -2.36227167] Var:Dot_4 val:0.679842636041118 grad:[-0.05274163]\n",
            "Dot.backward(pos) <=  Var:X_2 val:[-1. -2.  1.] grad:[-2.21591091  2.81321807  4.63092421] Var:W_1 val:[ 0.72002623 -1.55994755 -1.72002623] grad:[ 2.4150133  4.8300266 -2.4150133] Var:Dot_4 val:0.679842636041118 grad:[-0.05274163]\n",
            "Actualiza(pos) =  Var:Loss_6 val:[0.027918] grad:1.0 Var:W_1 val:[ 0.69587609 -1.60824781 -1.69587609] grad:[ 2.4150133  4.8300266 -2.4150133] 0.01 Var:Sig_5 val:0.6637035744942581 grad:[-0.23629643]\n",
            "\n",
            "\n",
            "Dot.forward() =>  Var:X_2 val:[-1. -2.  1.] grad:[-2.21591091  2.81321807  4.63092421] Var:W_1 val:[ 0.69587609 -1.60824781 -1.69587609] grad:[ 2.4150133  4.8300266 -2.4150133] Var:Dot_4 val:0.8247434339564099 grad:0.0\n",
            "Sgm.forward(pos) =>  Var:Dot_4 val:0.8247434339564099 grad:0.0 Var:Sig_5 val:0.6952423107445952 grad:0.0\n",
            "Loss.forward(pos) =>  Var:Sig_5 val:0.6952423107445952 grad:0.0 Var:T_3 val:[0.9] grad:[10.88475341] Var:Loss_6 val:[0.02096286] grad:0.0\n",
            "current loss: 0.0210 - current output: 0.6952\n",
            "Loss.backward(pre) <=  Var:Sig_5 val:0.6952423107445952 grad:0.0 Var:T_3 val:[0.9] grad:[10.88475341] Var:Loss_6 val:[0.02096286] grad:1.0\n",
            "Loss.backward(pos) <=  Var:Sig_5 val:0.6952423107445952 grad:[-0.20475769] Var:T_3 val:[0.9] grad:[11.0895111] Var:Loss_6 val:[0.02096286] grad:1.0\n",
            "Sgm.backward(pos) <=  Var:Dot_4 val:0.8247434339564099 grad:[-0.04338415] Var:Sig_5 val:0.6952423107445952 grad:[-0.20475769]\n",
            "Dot.backward(pre) <=  Var:X_2 val:[-1. -2.  1.] grad:[-2.21591091  2.81321807  4.63092421] Var:W_1 val:[ 0.69587609 -1.60824781 -1.69587609] grad:[ 2.4150133  4.8300266 -2.4150133] Var:Dot_4 val:0.8247434339564099 grad:[-0.04338415]\n",
            "Dot.backward(pos) <=  Var:X_2 val:[-1. -2.  1.] grad:[-2.2461009   2.88299053  4.70449835] Var:W_1 val:[ 0.69587609 -1.60824781 -1.69587609] grad:[ 2.45839745  4.9167949  -2.45839745] Var:Dot_4 val:0.8247434339564099 grad:[-0.04338415]\n",
            "Actualiza(pos) =  Var:Loss_6 val:[0.02096286] grad:1.0 Var:W_1 val:[ 0.67129212 -1.65741576 -1.67129212] grad:[ 2.45839745  4.9167949  -2.45839745] 0.01 Var:Sig_5 val:0.6952423107445952 grad:[-0.20475769]\n",
            "\n",
            "\n",
            "Dot.forward() =>  Var:X_2 val:[-1. -2.  1.] grad:[-2.2461009   2.88299053  4.70449835] Var:W_1 val:[ 0.67129212 -1.65741576 -1.67129212] grad:[ 2.45839745  4.9167949  -2.45839745] Var:Dot_4 val:0.972247280830439 grad:0.0\n",
            "Sgm.forward(pos) =>  Var:Dot_4 val:0.972247280830439 grad:0.0 Var:Sig_5 val:0.7255672018430964 grad:0.0\n",
            "Loss.forward(pos) =>  Var:Sig_5 val:0.7255672018430964 grad:0.0 Var:T_3 val:[0.9] grad:[11.0895111] Var:Loss_6 val:[0.0152134] grad:0.0\n",
            "current loss: 0.0152 - current output: 0.7256\n",
            "Loss.backward(pre) <=  Var:Sig_5 val:0.7255672018430964 grad:0.0 Var:T_3 val:[0.9] grad:[11.0895111] Var:Loss_6 val:[0.0152134] grad:1.0\n",
            "Loss.backward(pos) <=  Var:Sig_5 val:0.7255672018430964 grad:[-0.1744328] Var:T_3 val:[0.9] grad:[11.26394389] Var:Loss_6 val:[0.0152134] grad:1.0\n",
            "Sgm.backward(pos) <=  Var:Dot_4 val:0.972247280830439 grad:[-0.03473296] Var:Sig_5 val:0.7255672018430964 grad:[-0.1744328]\n",
            "Dot.backward(pre) <=  Var:X_2 val:[-1. -2.  1.] grad:[-2.2461009   2.88299053  4.70449835] Var:W_1 val:[ 0.67129212 -1.65741576 -1.67129212] grad:[ 2.45839745  4.9167949  -2.45839745] Var:Dot_4 val:0.972247280830439 grad:[-0.03473296]\n",
            "Dot.backward(pos) <=  Var:X_2 val:[-1. -2.  1.] grad:[-2.26941687  2.94055749  4.76254728] Var:W_1 val:[ 0.67129212 -1.65741576 -1.67129212] grad:[ 2.49313041  4.98626082 -2.49313041] Var:Dot_4 val:0.972247280830439 grad:[-0.03473296]\n",
            "Actualiza(pos) =  Var:Loss_6 val:[0.0152134] grad:1.0 Var:W_1 val:[ 0.64636082 -1.70727837 -1.64636082] grad:[ 2.49313041  4.98626082 -2.49313041] 0.01 Var:Sig_5 val:0.7255672018430964 grad:[-0.1744328]\n",
            "\n",
            "\n",
            "Dot.forward() =>  Var:X_2 val:[-1. -2.  1.] grad:[-2.26941687  2.94055749  4.76254728] Var:W_1 val:[ 0.64636082 -1.70727837 -1.64636082] grad:[ 2.49313041  4.98626082 -2.49313041] Var:Dot_4 val:1.1218351053430062 grad:0.0\n",
            "Sgm.forward(pos) =>  Var:Dot_4 val:1.1218351053430062 grad:0.0 Var:Sig_5 val:0.7543289509696132 grad:0.0\n",
            "Loss.forward(pos) =>  Var:Sig_5 val:0.7543289509696132 grad:0.0 Var:T_3 val:[0.9] grad:[11.26394389] Var:Loss_6 val:[0.01061003] grad:0.0\n",
            "current loss: 0.0106 - current output: 0.7543\n",
            "Loss.backward(pre) <=  Var:Sig_5 val:0.7543289509696132 grad:0.0 Var:T_3 val:[0.9] grad:[11.26394389] Var:Loss_6 val:[0.01061003] grad:1.0\n",
            "Loss.backward(pos) <=  Var:Sig_5 val:0.7543289509696132 grad:[-0.14567105] Var:T_3 val:[0.9] grad:[11.40961494] Var:Loss_6 val:[0.01061003] grad:1.0\n",
            "Sgm.backward(pos) <=  Var:Dot_4 val:1.1218351053430062 grad:[-0.02699529] Var:Sig_5 val:0.7543289509696132 grad:[-0.14567105]\n",
            "Dot.backward(pre) <=  Var:X_2 val:[-1. -2.  1.] grad:[-2.26941687  2.94055749  4.76254728] Var:W_1 val:[ 0.64636082 -1.70727837 -1.64636082] grad:[ 2.49313041  4.98626082 -2.49313041] Var:Dot_4 val:1.1218351053430062 grad:[-0.02699529]\n",
            "Dot.backward(pos) <=  Var:X_2 val:[-1. -2.  1.] grad:[-2.28686557  2.98664597  4.80699126] Var:W_1 val:[ 0.64636082 -1.70727837 -1.64636082] grad:[ 2.5201257  5.0402514 -2.5201257] Var:Dot_4 val:1.1218351053430062 grad:[-0.02699529]\n",
            "Actualiza(pos) =  Var:Loss_6 val:[0.01061003] grad:1.0 Var:W_1 val:[ 0.62115956 -1.75768088 -1.62115956] grad:[ 2.5201257  5.0402514 -2.5201257] 0.01 Var:Sig_5 val:0.7543289509696132 grad:[-0.14567105]\n",
            "\n",
            "\n",
            "Dot.forward() =>  Var:X_2 val:[-1. -2.  1.] grad:[-2.28686557  2.98664597  4.80699126] Var:W_1 val:[ 0.62115956 -1.75768088 -1.62115956] grad:[ 2.5201257  5.0402514 -2.5201257] Var:Dot_4 val:1.2730426472813732 grad:0.0\n",
            "Sgm.forward(pos) =>  Var:Dot_4 val:1.2730426472813732 grad:0.0 Var:Sig_5 val:0.7812631540189287 grad:0.0\n",
            "Loss.forward(pos) =>  Var:Sig_5 val:0.7812631540189287 grad:0.0 Var:T_3 val:[0.9] grad:[11.40961494] Var:Loss_6 val:[0.00704922] grad:0.0\n",
            "current loss: 0.0070 - current output: 0.7813\n",
            "Loss.backward(pre) <=  Var:Sig_5 val:0.7812631540189287 grad:0.0 Var:T_3 val:[0.9] grad:[11.40961494] Var:Loss_6 val:[0.00704922] grad:1.0\n",
            "Loss.backward(pos) <=  Var:Sig_5 val:0.7812631540189287 grad:[-0.11873685] Var:T_3 val:[0.9] grad:[11.52835179] Var:Loss_6 val:[0.00704922] grad:1.0\n",
            "Sgm.backward(pos) <=  Var:Dot_4 val:1.2730426472813732 grad:[-0.02029106] Var:Sig_5 val:0.7812631540189287 grad:[-0.11873685]\n",
            "Dot.backward(pre) <=  Var:X_2 val:[-1. -2.  1.] grad:[-2.28686557  2.98664597  4.80699126] Var:W_1 val:[ 0.62115956 -1.75768088 -1.62115956] grad:[ 2.5201257  5.0402514 -2.5201257] Var:Dot_4 val:1.2730426472813732 grad:[-0.02029106]\n",
            "Dot.backward(pos) <=  Var:X_2 val:[-1. -2.  1.] grad:[-2.29946955  3.02231118  4.83988631] Var:W_1 val:[ 0.62115956 -1.75768088 -1.62115956] grad:[ 2.54041676  5.08083352 -2.54041676] Var:Dot_4 val:1.2730426472813732 grad:[-0.02029106]\n",
            "Actualiza(pos) =  Var:Loss_6 val:[0.00704922] grad:1.0 Var:W_1 val:[ 0.59575539 -1.80848922 -1.59575539] grad:[ 2.54041676  5.08083352 -2.54041676] 0.01 Var:Sig_5 val:0.7812631540189287 grad:[-0.11873685]\n",
            "\n",
            "\n",
            "Dot.forward() =>  Var:X_2 val:[-1. -2.  1.] grad:[-2.29946955  3.02231118  4.83988631] Var:W_1 val:[ 0.59575539 -1.80848922 -1.59575539] grad:[ 2.54041676  5.08083352 -2.54041676] Var:Dot_4 val:1.425467652992616 grad:0.0\n",
            "Sgm.forward(pos) =>  Var:Dot_4 val:1.425467652992616 grad:0.0 Var:Sig_5 val:0.806194141150186 grad:0.0\n",
            "Loss.forward(pos) =>  Var:Sig_5 val:0.806194141150186 grad:0.0 Var:T_3 val:[0.9] grad:[11.52835179] Var:Loss_6 val:[0.00439977] grad:0.0\n",
            "current loss: 0.0044 - current output: 0.8062\n",
            "Loss.backward(pre) <=  Var:Sig_5 val:0.806194141150186 grad:0.0 Var:T_3 val:[0.9] grad:[11.52835179] Var:Loss_6 val:[0.00439977] grad:1.0\n",
            "Loss.backward(pos) <=  Var:Sig_5 val:0.806194141150186 grad:[-0.09380586] Var:T_3 val:[0.9] grad:[11.62215765] Var:Loss_6 val:[0.00439977] grad:1.0\n",
            "Sgm.backward(pos) <=  Var:Dot_4 val:1.425467652992616 grad:[-0.01465671] Var:Sig_5 val:0.806194141150186 grad:[-0.09380586]\n",
            "Dot.backward(pre) <=  Var:X_2 val:[-1. -2.  1.] grad:[-2.29946955  3.02231118  4.83988631] Var:W_1 val:[ 0.59575539 -1.80848922 -1.59575539] grad:[ 2.54041676  5.08083352 -2.54041676] Var:Dot_4 val:1.425467652992616 grad:[-0.01465671]\n",
            "Dot.backward(pos) <=  Var:X_2 val:[-1. -2.  1.] grad:[-2.30820137  3.04881768  4.86327484] Var:W_1 val:[ 0.59575539 -1.80848922 -1.59575539] grad:[ 2.55507347  5.11014694 -2.55507347] Var:Dot_4 val:1.425467652992616 grad:[-0.01465671]\n",
            "Actualiza(pos) =  Var:Loss_6 val:[0.00439977] grad:1.0 Var:W_1 val:[ 0.57020466 -1.85959069 -1.57020466] grad:[ 2.55507347  5.11014694 -2.55507347] 0.01 Var:Sig_5 val:0.806194141150186 grad:[-0.09380586]\n",
            "\n",
            "\n",
            "Dot.forward() =>  Var:X_2 val:[-1. -2.  1.] grad:[-2.30820137  3.04881768  4.86327484] Var:W_1 val:[ 0.57020466 -1.85959069 -1.57020466] grad:[ 2.55507347  5.11014694 -2.55507347] Var:Dot_4 val:1.5787720613213936 grad:0.0\n",
            "Sgm.forward(pos) =>  Var:Dot_4 val:1.5787720613213936 grad:0.0 Var:Sig_5 val:0.8290305416101675 grad:0.0\n",
            "Loss.forward(pos) =>  Var:Sig_5 val:0.8290305416101675 grad:0.0 Var:T_3 val:[0.9] grad:[11.62215765] Var:Loss_6 val:[0.00251833] grad:0.0\n",
            "current loss: 0.0025 - current output: 0.8290\n",
            "Loss.backward(pre) <=  Var:Sig_5 val:0.8290305416101675 grad:0.0 Var:T_3 val:[0.9] grad:[11.62215765] Var:Loss_6 val:[0.00251833] grad:1.0\n",
            "Loss.backward(pos) <=  Var:Sig_5 val:0.8290305416101675 grad:[-0.07096946] Var:T_3 val:[0.9] grad:[11.69312711] Var:Loss_6 val:[0.00251833] grad:1.0\n",
            "Sgm.backward(pos) <=  Var:Dot_4 val:1.5787720613213936 grad:[-0.01005913] Var:Sig_5 val:0.8290305416101675 grad:[-0.07096946]\n",
            "Dot.backward(pre) <=  Var:X_2 val:[-1. -2.  1.] grad:[-2.30820137  3.04881768  4.86327484] Var:W_1 val:[ 0.57020466 -1.85959069 -1.57020466] grad:[ 2.55507347  5.11014694 -2.55507347] Var:Dot_4 val:1.5787720613213936 grad:[-0.01005913]\n",
            "Dot.backward(pos) <=  Var:X_2 val:[-1. -2.  1.] grad:[-2.31393713  3.06752355  4.87906974] Var:W_1 val:[ 0.57020466 -1.85959069 -1.57020466] grad:[ 2.56513261  5.13026521 -2.56513261] Var:Dot_4 val:1.5787720613213936 grad:[-0.01005913]\n",
            "Actualiza(pos) =  Var:Loss_6 val:[0.00251833] grad:1.0 Var:W_1 val:[ 0.54455333 -1.91089334 -1.54455333] grad:[ 2.56513261  5.13026521 -2.56513261] 0.01 Var:Sig_5 val:0.8290305416101675 grad:[-0.07096946]\n",
            "\n",
            "\n",
            "Dot.forward() =>  Var:X_2 val:[-1. -2.  1.] grad:[-2.31393713  3.06752355  4.87906974] Var:W_1 val:[ 0.54455333 -1.91089334 -1.54455333] grad:[ 2.56513261  5.13026521 -2.56513261] Var:Dot_4 val:1.7326800176395631 grad:0.0\n",
            "Sgm.forward(pos) =>  Var:Dot_4 val:1.7326800176395631 grad:0.0 Var:Sig_5 val:0.8497549029682084 grad:0.0\n",
            "Loss.forward(pos) =>  Var:Sig_5 val:0.8497549029682084 grad:0.0 Var:T_3 val:[0.9] grad:[11.69312711] Var:Loss_6 val:[0.00126228] grad:0.0\n",
            "current loss: 0.0013 - current output: 0.8498\n",
            "Loss.backward(pre) <=  Var:Sig_5 val:0.8497549029682084 grad:0.0 Var:T_3 val:[0.9] grad:[11.69312711] Var:Loss_6 val:[0.00126228] grad:1.0\n",
            "Loss.backward(pos) <=  Var:Sig_5 val:0.8497549029682084 grad:[-0.0502451] Var:T_3 val:[0.9] grad:[11.7433722] Var:Loss_6 val:[0.00126228] grad:1.0\n",
            "Sgm.backward(pos) <=  Var:Dot_4 val:1.7326800176395631 grad:[-0.00641487] Var:Sig_5 val:0.8497549029682084 grad:[-0.0502451]\n",
            "Dot.backward(pre) <=  Var:X_2 val:[-1. -2.  1.] grad:[-2.31393713  3.06752355  4.87906974] Var:W_1 val:[ 0.54455333 -1.91089334 -1.54455333] grad:[ 2.56513261  5.13026521 -2.56513261] Var:Dot_4 val:1.7326800176395631 grad:[-0.00641487]\n",
            "Dot.backward(pos) <=  Var:X_2 val:[-1. -2.  1.] grad:[-2.31743037  3.07978168  4.88897784] Var:W_1 val:[ 0.54455333 -1.91089334 -1.54455333] grad:[ 2.57154747  5.14309495 -2.57154747] Var:Dot_4 val:1.7326800176395631 grad:[-0.00641487]\n",
            "Actualiza(pos) =  Var:Loss_6 val:[0.00126228] grad:1.0 Var:W_1 val:[ 0.51883786 -1.96232429 -1.51883786] grad:[ 2.57154747  5.14309495 -2.57154747] 0.01 Var:Sig_5 val:0.8497549029682084 grad:[-0.0502451]\n",
            "\n",
            "\n",
            "Dot.forward() =>  Var:X_2 val:[-1. -2.  1.] grad:[-2.31743037  3.07978168  4.88897784] Var:W_1 val:[ 0.51883786 -1.96232429 -1.51883786] grad:[ 2.57154747  5.14309495 -2.57154747] Var:Dot_4 val:1.8869728659957383 grad:0.0\n",
            "Sgm.forward(pos) =>  Var:Dot_4 val:1.8869728659957383 grad:0.0 Var:Sig_5 val:0.8684099932337493 grad:0.0\n",
            "Loss.forward(pos) =>  Var:Sig_5 val:0.8684099932337493 grad:0.0 Var:T_3 val:[0.9] grad:[11.7433722] Var:Loss_6 val:[0.00049896] grad:0.0\n",
            "current loss: 0.0005 - current output: 0.8684\n",
            "Loss.backward(pre) <=  Var:Sig_5 val:0.8684099932337493 grad:0.0 Var:T_3 val:[0.9] grad:[11.7433722] Var:Loss_6 val:[0.00049896] grad:1.0\n",
            "Loss.backward(pos) <=  Var:Sig_5 val:0.8684099932337493 grad:[-0.03159001] Var:T_3 val:[0.9] grad:[11.77496221] Var:Loss_6 val:[0.00049896] grad:1.0\n",
            "Sgm.backward(pos) <=  Var:Dot_4 val:1.8869728659957383 grad:[-0.00360992] Var:Sig_5 val:0.8684099932337493 grad:[-0.03159001]\n",
            "Dot.backward(pre) <=  Var:X_2 val:[-1. -2.  1.] grad:[-2.31743037  3.07978168  4.88897784] Var:W_1 val:[ 0.51883786 -1.96232429 -1.51883786] grad:[ 2.57154747  5.14309495 -2.57154747] Var:Dot_4 val:1.8869728659957383 grad:[-0.00360992]\n",
            "Dot.backward(pos) <=  Var:X_2 val:[-1. -2.  1.] grad:[-2.31930333  3.08686551  4.89446072] Var:W_1 val:[ 0.51883786 -1.96232429 -1.51883786] grad:[ 2.57515739  5.15031478 -2.57515739] Var:Dot_4 val:1.8869728659957383 grad:[-0.00360992]\n",
            "Actualiza(pos) =  Var:Loss_6 val:[0.00049896] grad:1.0 Var:W_1 val:[ 0.49308628 -2.01382744 -1.49308628] grad:[ 2.57515739  5.15031478 -2.57515739] 0.01 Var:Sig_5 val:0.8684099932337493 grad:[-0.03159001]\n",
            "\n",
            "\n",
            "Dot.forward() =>  Var:X_2 val:[-1. -2.  1.] grad:[-2.31930333  3.08686551  4.89446072] Var:W_1 val:[ 0.49308628 -2.01382744 -1.49308628] grad:[ 2.57515739  5.15031478 -2.57515739] Var:Dot_4 val:2.0414823094836345 grad:0.0\n",
            "Sgm.forward(pos) =>  Var:Dot_4 val:2.0414823094836345 grad:0.0 Var:Sig_5 val:0.8850841200596955 grad:0.0\n",
            "Loss.forward(pos) =>  Var:Sig_5 val:0.8850841200596955 grad:0.0 Var:T_3 val:[0.9] grad:[11.77496221] Var:Loss_6 val:[0.00011124] grad:0.0\n",
            "current loss: 0.0001 - current output: 0.8851\n",
            "Loss.backward(pre) <=  Var:Sig_5 val:0.8850841200596955 grad:0.0 Var:T_3 val:[0.9] grad:[11.77496221] Var:Loss_6 val:[0.00011124] grad:1.0\n",
            "Loss.backward(pos) <=  Var:Sig_5 val:0.8850841200596955 grad:[-0.01491588] Var:T_3 val:[0.9] grad:[11.78987809] Var:Loss_6 val:[0.00011124] grad:1.0\n",
            "Sgm.backward(pos) <=  Var:Dot_4 val:2.0414823094836345 grad:[-0.0015171] Var:Sig_5 val:0.8850841200596955 grad:[-0.01491588]\n",
            "Dot.backward(pre) <=  Var:X_2 val:[-1. -2.  1.] grad:[-2.31930333  3.08686551  4.89446072] Var:W_1 val:[ 0.49308628 -2.01382744 -1.49308628] grad:[ 2.57515739  5.15031478 -2.57515739] Var:Dot_4 val:2.0414823094836345 grad:[-0.0015171]\n",
            "Dot.backward(pos) <=  Var:X_2 val:[-1. -2.  1.] grad:[-2.32005139  3.08992068  4.89672588] Var:W_1 val:[ 0.49308628 -2.01382744 -1.49308628] grad:[ 2.57667449  5.15334898 -2.57667449] Var:Dot_4 val:2.0414823094836345 grad:[-0.0015171]\n",
            "Actualiza(pos) =  Var:Loss_6 val:[0.00011124] grad:1.0 Var:W_1 val:[ 0.46731954 -2.06536093 -1.46731954] grad:[ 2.57667449  5.15334898 -2.57667449] 0.01 Var:Sig_5 val:0.8850841200596955 grad:[-0.01491588]\n",
            "\n",
            "\n",
            "Dot.forward() =>  Var:X_2 val:[-1. -2.  1.] grad:[-2.32005139  3.08992068  4.89672588] Var:W_1 val:[ 0.46731954 -2.06536093 -1.46731954] grad:[ 2.57667449  5.15334898 -2.57667449] Var:Dot_4 val:2.1960827788177717 grad:0.0\n",
            "Sgm.forward(pos) =>  Var:Dot_4 val:2.1960827788177717 grad:0.0 Var:Sig_5 val:0.8998971911897301 grad:0.0\n",
            "Loss.forward(pos) =>  Var:Sig_5 val:0.8998971911897301 grad:0.0 Var:T_3 val:[0.9] grad:[11.78987809] Var:Loss_6 val:[5.28482573e-09] grad:0.0\n",
            "current loss: 0.0000 - current output: 0.8999\n",
            "Last output value: 0.8999\n"
          ]
        }
      ]
    },
    {
      "cell_type": "code",
      "source": [
        "Gcount"
      ],
      "metadata": {
        "colab": {
          "base_uri": "https://localhost:8080/"
        },
        "id": "ylTy8CvQeBA8",
        "outputId": "7863d7b7-fc4c-4c12-c7b4-4edd44c73d73"
      },
      "execution_count": 208,
      "outputs": [
        {
          "output_type": "execute_result",
          "data": {
            "text/plain": [
              "6"
            ]
          },
          "metadata": {},
          "execution_count": 208
        }
      ]
    },
    {
      "cell_type": "code",
      "source": [
        "print(reg.dat_X0g)"
      ],
      "metadata": {
        "colab": {
          "base_uri": "https://localhost:8080/"
        },
        "id": "nf5VuCZvY91q",
        "outputId": "bbb5789b-4bf6-4331-8275-0d15e575ca97"
      },
      "execution_count": 137,
      "outputs": [
        {
          "output_type": "stream",
          "name": "stdout",
          "text": [
            "[0.09085774767294842, 0.18163936413972032, 0.27226591118459703, 0.36265283008302807, 0.4527071178114959, 0.5423244946009205, 0.6313865727507523, 0.7197580478607606, 0.8072839479018783, 0.8937869927888501, 0.9790651370794452, 1.0628893905287335, 1.1450020344447562, 1.2251153745231629, 1.3029111908111386, 1.3780410596856576, 1.450127727611268, 1.5187677079425441, 1.5835352461491958, 1.6439877522266968, 1.6996727298753151, 1.7501361408861753, 1.7949320339551518, 1.8336331475626848, 1.8658420780684628, 1.891202501097539, 1.909409862051027, 1.9202209241536996]\n"
          ]
        }
      ]
    },
    {
      "cell_type": "code",
      "source": [
        "print(x)\n",
        "print(dp.x)\n",
        "print(w)\n",
        "print(dp.y)\n",
        "print(dp.z)\n"
      ],
      "metadata": {
        "colab": {
          "base_uri": "https://localhost:8080/"
        },
        "id": "YmiPj-8BUnfH",
        "outputId": "1682ad3e-79ff-4a15-c0a5-43d5f815e3ff"
      },
      "execution_count": 169,
      "outputs": [
        {
          "output_type": "stream",
          "name": "stdout",
          "text": [
            "Var:X_2 val:[-1. -2.  1.] grad:[ 1.92022092 -2.75435451 -2.86233469]\n",
            "Var:X_2 val:[-1. -2.  1.] grad:[ 1.92022092 -2.75435451 -2.86233469]\n",
            "Var:W_1 val:[ 2.16267002 -2.67465996 -3.16267002] grad:[-0.94211377 -1.88422753  0.94211377]\n",
            "Var:W_1 val:[ 2.16267002 -2.67465996 -3.16267002] grad:[-0.94211377 -1.88422753  0.94211377]\n",
            "Var:Dot_4 val:0.023979888863403076 grad:0.0\n"
          ]
        }
      ]
    },
    {
      "cell_type": "code",
      "source": [
        "neuron_output.value"
      ],
      "metadata": {
        "colab": {
          "base_uri": "https://localhost:8080/"
        },
        "id": "KgmOVTBaBxqs",
        "outputId": "01228402-0c32-43df-b5fb-15af13c036e4"
      },
      "execution_count": 118,
      "outputs": [
        {
          "output_type": "execute_result",
          "data": {
            "text/plain": [
              "0.5020203591654242"
            ]
          },
          "metadata": {},
          "execution_count": 118
        }
      ]
    },
    {
      "cell_type": "code",
      "source": [
        "'VAL:', w.value, 'GRAD:', w.grad\n",
        "#'VAL:', e.value, 'GRAD:', e.grad\n",
        "#'VAL:', neuron_output.value, 'GRAD:', neuron_output.grad\n",
        "#e.value\n",
        "#w.grad * learning_rate\n",
        "#neuron_output.value, neuron_output.grad"
      ],
      "metadata": {
        "colab": {
          "base_uri": "https://localhost:8080/"
        },
        "id": "u9kKPuYrtjcx",
        "outputId": "eb7cee91-b21a-406c-d9a6-b7a1d84b6ef2"
      },
      "execution_count": 14,
      "outputs": [
        {
          "output_type": "execute_result",
          "data": {
            "text/plain": [
              "('VAL:',\n",
              " array([ 2.16267002, -2.67465996, -3.16267002]),\n",
              " 'GRAD:',\n",
              " array([-0.94211377, -1.88422753,  0.94211377]))"
            ]
          },
          "metadata": {},
          "execution_count": 14
        }
      ]
    },
    {
      "cell_type": "code",
      "source": [
        "%matplotlib inline\n",
        "import matplotlib.pyplot as plt\n",
        "plt.plot(reg.eventos, reg.dat_W0v, label='W0')\n",
        "plt.plot(reg.eventos, reg.dat_W1v, label='W1')\n",
        "plt.plot(reg.eventos, reg.dat_W2v, label='W2')\n",
        "plt.plot(reg.eventos, reg.dat_W0g, label='G0')\n",
        "plt.plot(reg.eventos, reg.dat_W1g, label='G1')\n",
        "plt.plot(reg.eventos, reg.dat_W2g, label='G2')\n",
        "plt.legend()\n",
        "plt.show()\n",
        "\n",
        "plt.plot(reg.eventos, reg.dat_D2v, label='D OUT')\n",
        "plt.plot(reg.eventos, reg.dat_D2g, label='DG')\n",
        "plt.legend()\n",
        "plt.show()\n",
        "\n",
        "plt.plot(reg.eventos, reg.dat_S0v, label='S0 IN')\n",
        "plt.plot(reg.eventos, reg.dat_S2v, label='S2 OUT')\n",
        "plt.plot(reg.eventos, reg.dat_S0g, label='G0')\n",
        "plt.plot(reg.eventos, reg.dat_S2g, label='G2')\n",
        "plt.legend()\n",
        "plt.show()\n",
        "\n",
        "plt.plot(reg.eventos, reg.dat_L0v, label='L0 Y´ PRED')\n",
        "plt.plot(reg.eventos, reg.dat_L1v, label='L1 Y TARGT')\n",
        "plt.plot(reg.eventos, reg.dat_L2v, label='L2 LOSS')\n",
        "plt.plot(reg.eventos, reg.dat_L0g, label='G0')\n",
        "#plt.plot(reg.eventos, reg.dat_L1g, label='G1')\n",
        "plt.plot(reg.eventos, reg.dat_L2g, label='G2')\n",
        "plt.legend()\n",
        "plt.show()\n",
        "\n",
        "#plt.plot(reg.eventos, reg.dat_L0v, label='L0 Y´')\n",
        "plt.plot(reg.eventos, reg.dat_L1v, label='L1 Y TARGT')\n",
        "#plt.plot(reg.eventos, reg.dat_L2v, label='L2 LOSS')\n",
        "plt.plot(reg.eventos, reg.dat_E0v, label='ERR')\n",
        "plt.plot(reg.eventos, reg.dat_N0v, label='PREDICT')\n",
        "plt.legend()\n",
        "plt.show()\n"
      ],
      "metadata": {
        "colab": {
          "base_uri": "https://localhost:8080/",
          "height": 1000
        },
        "id": "0WDZnWdTZLIE",
        "outputId": "bd7da1c7-d505-41d8-c917-f93153a94e4c"
      },
      "execution_count": 209,
      "outputs": [
        {
          "output_type": "display_data",
          "data": {
            "text/plain": [
              "<Figure size 432x288 with 1 Axes>"
            ],
            "image/png": "[encoded data removed]"
          },
          "metadata": {
            "needs_background": "light"
          }
        },
        {
          "output_type": "display_data",
          "data": {
            "text/plain": [
              "<Figure size 432x288 with 1 Axes>"
            ],
            "image/png": "[encoded data removed]"
          },
          "metadata": {
            "needs_background": "light"
          }
        },
        {
          "output_type": "display_data",
          "data": {
            "text/plain": [
              "<Figure size 432x288 with 1 Axes>"
            ],
            "image/png": "[encoded data removed]"
          },
          "metadata": {
            "needs_background": "light"
          }
        },
        {
          "output_type": "display_data",
          "data": {
            "text/plain": [
              "<Figure size 432x288 with 1 Axes>"
            ],
            "image/png": "[encoded data removed]"
          },
          "metadata": {
            "needs_background": "light"
          }
        },
        {
          "output_type": "display_data",
          "data": {
            "text/plain": [
              "<Figure size 432x288 with 1 Axes>"
            ],
            "image/png": "[encoded data removed]"
          },
          "metadata": {
            "needs_background": "light"
          }
        }
      ]
    },
    {
      "cell_type": "markdown",
      "metadata": {
        "id": "DVUgM5taN_R2"
      },
      "source": [
        "## Experimento 2: ¿ Cómo entrenar nuestro perceptrón en pytorch ?"
      ]
    },
    {
      "cell_type": "markdown",
      "metadata": {
        "id": "rTOjGzqpODwX"
      },
      "source": [
        "En este punto cabe preguntarse, ¿ cómo implementaríamos el experimento anterior utilizando pytorch ?.\n",
        "\n",
        "A continuación se muestra un código de ejemplo para el entrenamiento de un perceptrón bajo las mismas condiciones que el experimento anterior."
      ]
    },
    {
      "cell_type": "code",
      "metadata": {
        "id": "uqN_a86wOJzh",
        "colab": {
          "base_uri": "https://localhost:8080/"
        },
        "outputId": "70717940-853e-49de-ec8b-c5f3c471fd27"
      },
      "source": [
        "import torch\n",
        "import torch.nn as nn\n",
        "import torch.optim as optim\n",
        "import pdb\n",
        "\n",
        "wh = torch.Tensor( [2.0,-3.0,-3.0]) # , requires_grad=True)\n",
        "#wh.requires_grad_(True)\n",
        "x = torch.Tensor( [-1.0, -2.0] )\n",
        "xx = torch.Tensor( [-1.0, -2.0, 1.0] )\n",
        "t = torch.Tensor( [0.5] )\n",
        "M = torch.Tensor()\n",
        "\n",
        "class Perceptron( nn.Module ):\n",
        "  def __init__( self, weights ):\n",
        "    super( Perceptron, self ).__init__()\n",
        "    self.layer = nn.Linear( 2, 1 )\n",
        "    with torch.no_grad():\n",
        "      self.layer.weight.copy_( weights[:2] )\n",
        "      self.layer.bias.copy_( weights[2] )\n",
        "    self.sigmoid = nn.Sigmoid()\n",
        "  def forward( self, x ):\n",
        "    x = self.sigmoid( self.layer(x) )\n",
        "    return x\n",
        "\n",
        "def my_hook(grad):\n",
        "  print('>>',grad)\n",
        "  return grad\n",
        "\n",
        "#wh.register_hook(my_hook)\n",
        "#wh.register_hook(lambda grad:print(grad))\n",
        "#wh.retain_grad()\n",
        "\n",
        "#register_full_backward_hook \n",
        "def my_hook_bg(module, input, output):\n",
        "  print(input, output)\n",
        "  return input\n",
        "\n",
        "model = Perceptron( wh )\n",
        "model.register_backward_hook(my_hook_bg)\n",
        "#model.register_full_backward_hook(my_hook_bg)\n",
        "\n",
        "mse_loss = nn.MSELoss()\n",
        "optimizer = optim.SGD( model.parameters(), lr = 0.01 ) # Learning rate equal to 0.01\n",
        "\n",
        "pr = model( x )          # forward step\n",
        "loss_value = mse_loss( pr, t )\n",
        "print( 'First output value: %.4f' % (pr) )\n",
        "while loss_value.item() > 1e-4:\n",
        "  #pdb.set_trace()\n",
        "  print('X y W =>>> ', x, wh)\n",
        "  M = torch.matmul(xx,wh)\n",
        "  print('X x W =>> ', M)\n",
        "  loss_value.backward() # backward step\n",
        "  #pdb.set_trace()\n",
        "  optimizer.step()      # weights update\n",
        "  pr = model( x )        # forward step\n",
        "  loss_value = mse_loss( pr, t )\n",
        "  print( 'current loss: %.4f  pr:%.4f - target:%.4f' % (loss_value.item() , pr, t))\n",
        "  print('\\n')\n",
        "print( 'Last output value: %.4f' % (pr) )"
      ],
      "execution_count": 90,
      "outputs": [
        {
          "output_type": "stream",
          "name": "stdout",
          "text": [
            "First output value: 0.7311\n",
            "X y W =>>>  tensor([-1., -2.]) tensor([ 2., -3., -3.])\n",
            "X x W =>>  tensor(1.)\n",
            "(tensor([0.0909]),) (tensor([0.4621]),)\n",
            "current loss: 0.0529  pr:0.7300 - target:0.5000\n",
            "\n",
            "\n",
            "X y W =>>>  tensor([-1., -2.]) tensor([ 2., -3., -3.])\n",
            "X x W =>>  tensor(1.)\n",
            "(tensor([0.0907]),) (tensor([0.4600]),)\n",
            "current loss: 0.0519  pr:0.7278 - target:0.5000\n",
            "\n",
            "\n",
            "X y W =>>>  tensor([-1., -2.]) tensor([ 2., -3., -3.])\n",
            "X x W =>>  tensor(1.)\n",
            "(tensor([0.0903]),) (tensor([0.4557]),)\n",
            "current loss: 0.0504  pr:0.7246 - target:0.5000\n",
            "\n",
            "\n",
            "X y W =>>>  tensor([-1., -2.]) tensor([ 2., -3., -3.])\n",
            "X x W =>>  tensor(1.)\n",
            "(tensor([0.0896]),) (tensor([0.4492]),)\n",
            "current loss: 0.0485  pr:0.7202 - target:0.5000\n",
            "\n",
            "\n",
            "X y W =>>>  tensor([-1., -2.]) tensor([ 2., -3., -3.])\n",
            "X x W =>>  tensor(1.)\n",
            "(tensor([0.0888]),) (tensor([0.4405]),)\n",
            "current loss: 0.0461  pr:0.7148 - target:0.5000\n",
            "\n",
            "\n",
            "X y W =>>>  tensor([-1., -2.]) tensor([ 2., -3., -3.])\n",
            "X x W =>>  tensor(1.)\n",
            "(tensor([0.0876]),) (tensor([0.4295]),)\n",
            "current loss: 0.0433  pr:0.7081 - target:0.5000\n",
            "\n",
            "\n",
            "X y W =>>>  tensor([-1., -2.]) tensor([ 2., -3., -3.])\n",
            "X x W =>>  tensor(1.)\n",
            "(tensor([0.0860]),) (tensor([0.4163]),)\n",
            "current loss: 0.0401  pr:0.7003 - target:0.5000\n",
            "\n",
            "\n",
            "X y W =>>>  tensor([-1., -2.]) tensor([ 2., -3., -3.])\n",
            "X x W =>>  tensor(1.)\n",
            "(tensor([0.0841]),) (tensor([0.4007]),)\n",
            "current loss: 0.0366  pr:0.6914 - target:0.5000\n",
            "\n",
            "\n",
            "X y W =>>>  tensor([-1., -2.]) tensor([ 2., -3., -3.])\n",
            "X x W =>>  tensor(1.)\n",
            "(tensor([0.0817]),) (tensor([0.3827]),)\n",
            "current loss: 0.0328  pr:0.6812 - target:0.5000\n",
            "\n",
            "\n",
            "X y W =>>>  tensor([-1., -2.]) tensor([ 2., -3., -3.])\n",
            "X x W =>>  tensor(1.)\n",
            "(tensor([0.0787]),) (tensor([0.3623]),)\n",
            "current loss: 0.0288  pr:0.6697 - target:0.5000\n",
            "\n",
            "\n",
            "X y W =>>>  tensor([-1., -2.]) tensor([ 2., -3., -3.])\n",
            "X x W =>>  tensor(1.)\n",
            "(tensor([0.0751]),) (tensor([0.3395]),)\n",
            "current loss: 0.0247  pr:0.6571 - target:0.5000\n",
            "\n",
            "\n",
            "X y W =>>>  tensor([-1., -2.]) tensor([ 2., -3., -3.])\n",
            "X x W =>>  tensor(1.)\n",
            "(tensor([0.0708]),) (tensor([0.3142]),)\n",
            "current loss: 0.0205  pr:0.6433 - target:0.5000\n",
            "\n",
            "\n",
            "X y W =>>>  tensor([-1., -2.]) tensor([ 2., -3., -3.])\n",
            "X x W =>>  tensor(1.)\n",
            "(tensor([0.0658]),) (tensor([0.2865]),)\n",
            "current loss: 0.0165  pr:0.6283 - target:0.5000\n",
            "\n",
            "\n",
            "X y W =>>>  tensor([-1., -2.]) tensor([ 2., -3., -3.])\n",
            "X x W =>>  tensor(1.)\n",
            "(tensor([0.0599]),) (tensor([0.2565]),)\n",
            "current loss: 0.0126  pr:0.6122 - target:0.5000\n",
            "\n",
            "\n",
            "X y W =>>>  tensor([-1., -2.]) tensor([ 2., -3., -3.])\n",
            "X x W =>>  tensor(1.)\n",
            "(tensor([0.0533]),) (tensor([0.2243]),)\n",
            "current loss: 0.0090  pr:0.5950 - target:0.5000\n",
            "\n",
            "\n",
            "X y W =>>>  tensor([-1., -2.]) tensor([ 2., -3., -3.])\n",
            "X x W =>>  tensor(1.)\n",
            "(tensor([0.0458]),) (tensor([0.1901]),)\n",
            "current loss: 0.0059  pr:0.5770 - target:0.5000\n",
            "\n",
            "\n",
            "X y W =>>>  tensor([-1., -2.]) tensor([ 2., -3., -3.])\n",
            "X x W =>>  tensor(1.)\n",
            "(tensor([0.0376]),) (tensor([0.1540]),)\n",
            "current loss: 0.0034  pr:0.5582 - target:0.5000\n",
            "\n",
            "\n",
            "X y W =>>>  tensor([-1., -2.]) tensor([ 2., -3., -3.])\n",
            "X x W =>>  tensor(1.)\n",
            "(tensor([0.0287]),) (tensor([0.1164]),)\n",
            "current loss: 0.0015  pr:0.5388 - target:0.5000\n",
            "\n",
            "\n",
            "X y W =>>>  tensor([-1., -2.]) tensor([ 2., -3., -3.])\n",
            "X x W =>>  tensor(1.)\n",
            "(tensor([0.0193]),) (tensor([0.0776]),)\n",
            "current loss: 0.0004  pr:0.5190 - target:0.5000\n",
            "\n",
            "\n",
            "X y W =>>>  tensor([-1., -2.]) tensor([ 2., -3., -3.])\n",
            "X x W =>>  tensor(1.)\n",
            "(tensor([0.0095]),) (tensor([0.0380]),)\n",
            "current loss: 0.0000  pr:0.4990 - target:0.5000\n",
            "\n",
            "\n",
            "Last output value: 0.4990\n"
          ]
        },
        {
          "output_type": "stream",
          "name": "stderr",
          "text": [
            "/usr/local/lib/python3.7/dist-packages/torch/nn/modules/module.py:1053: UserWarning: Using a non-full backward hook when the forward contains multiple autograd Nodes is deprecated and will be removed in future versions. This hook will be missing some grad_input. Please use register_full_backward_hook to get the documented behavior.\n",
            "  warnings.warn(\"Using a non-full backward hook when the forward contains multiple autograd Nodes \"\n"
          ]
        }
      ]
    },
    {
      "cell_type": "markdown",
      "metadata": {
        "id": "oILMcIAhnP-C"
      },
      "source": [
        "## Actividad 1"
      ]
    },
    {
      "cell_type": "markdown",
      "metadata": {
        "id": "w-u8rKcvtNY4"
      },
      "source": [
        "Utilizando los conceptos y estructuras vistas en el **Experimento 1**, programe y entrene un perceptrón creando un grafo de cómputo con los siguientes nodos:\n",
        "\n",
        "\n",
        "\n",
        "*   Perceptron (neurona + sigmoide)\n",
        "*   MSE Loss function\n",
        "\n",
        "\n",
        "tal como se ve en la siguiente figura:"
      ]
    },
    {
      "cell_type": "markdown",
      "metadata": {
        "id": "UnupVhiQuPG1"
      },
      "source": [
        "![gc_experiment_4(1).png](data:image/png;base64,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)"
      ]
    },
    {
      "cell_type": "code",
      "metadata": {
        "id": "EU3l93h4ZkPZ"
      },
      "source": [
        "# Inserte aquí su código"
      ],
      "execution_count": null,
      "outputs": []
    },
    {
      "cell_type": "markdown",
      "metadata": {
        "id": "kZWTbXiJ2qnE"
      },
      "source": [
        "# **Funciones de Activación**"
      ]
    },
    {
      "cell_type": "markdown",
      "metadata": {
        "id": "NO2-omLG25ZB"
      },
      "source": [
        "## Experimento 1: Explorando y visualizando las funciones de activación"
      ]
    },
    {
      "cell_type": "markdown",
      "metadata": {
        "id": "tS1N724bjgxY"
      },
      "source": [
        "Para esta etapa, vamos a explorar una función de activación, ver que valores posibles puede retornar y que gradientes puede devolver. \n",
        "\n",
        "Primero vamos a definir una función de activacion, en este caso la `ReLU` (https://pytorch.org/docs/stable/nn.html#relu).\n",
        "\n",
        "**Pytorch tip 1:** Para utilizar las funcionalidades de pytorch, debemos como primer paso imporate el paquete torch mediate: *import torch*\n",
        "\n",
        "**Pytorch tip 2:** Para acceder a las funciones de activación, utilizaremos el módulo torch.nn. Las funciones de activación deberán ser instanciadas como un objeto de la clase en cuestión. Por ejemplo: *torch.nn.ReLU()*."
      ]
    },
    {
      "cell_type": "code",
      "metadata": {
        "id": "5Wj20y8MxeYf",
        "colab": {
          "base_uri": "https://localhost:8080/"
        },
        "outputId": "a3efcd4c-7517-4c36-a9bd-dcba6c7fee59"
      },
      "source": [
        "import torch\n",
        "\n",
        "activation_function = torch.nn.ReLU()\n",
        "\n",
        "print(activation_function)"
      ],
      "execution_count": null,
      "outputs": [
        {
          "output_type": "stream",
          "name": "stdout",
          "text": [
            "ReLU()\n"
          ]
        }
      ]
    },
    {
      "cell_type": "markdown",
      "metadata": {
        "id": "1yAkX12mj2Jm"
      },
      "source": [
        "Luego vamos a utilizar dicha funcion para ver cual es la salida ante un valor positivo, el 0 y uno negativo.\n",
        "\n",
        "**Pytorch tip:** Aquí es importante notar que utilizaremos un tipo de dato Tensor del framework pytorch. Como su nombre lo indica, este tipo de dato permite la creación y manejo de tensores, que son la unidad fundamental para el flujo de las operaciones matemáticas definidas en cualquier arquitectura. En el caso particular del ejemplo, crearemos tendores de 1 dimensión a partir de una lista de python."
      ]
    },
    {
      "cell_type": "code",
      "metadata": {
        "id": "RyiRt6N9gc-f",
        "colab": {
          "base_uri": "https://localhost:8080/"
        },
        "outputId": "f7f7c4d1-b0e1-4412-8764-53c6929d1d84"
      },
      "source": [
        "x = torch.Tensor([2])\n",
        "positivo = activation_function(x)\n",
        "print( 'Función evaluada en un valor positivo: %d' % (positivo))\n",
        "\n",
        "x = torch.Tensor([0])\n",
        "cero = activation_function(x)\n",
        "print( 'Función evaluada en el cero: %d' % (cero))\n",
        "\n",
        "x = torch.Tensor([-9])\n",
        "negativo = activation_function(x)\n",
        "print( 'Función evaluada en un valor negativo: %d' % (negativo))"
      ],
      "execution_count": null,
      "outputs": [
        {
          "output_type": "stream",
          "name": "stdout",
          "text": [
            "Función evaluada en un valor positivo: 2\n",
            "Función evaluada en el cero: 0\n",
            "Función evaluada en un valor negativo: 0\n"
          ]
        }
      ]
    },
    {
      "cell_type": "markdown",
      "metadata": {
        "id": "rVb0VsNHkW2z"
      },
      "source": [
        "Ahora vamos a graficar todos los valores posible que puede tomar un valor ente -10 y 10 cuando se le aplica una función de activación."
      ]
    },
    {
      "cell_type": "code",
      "metadata": {
        "id": "YEk5GUSygsHd",
        "colab": {
          "base_uri": "https://localhost:8080/",
          "height": 265
        },
        "outputId": "8f94fba8-e3b0-4663-93d8-b59b0651db50"
      },
      "source": [
        "import matplotlib.pyplot as plt\n",
        "\n",
        "import numpy\n",
        "\n",
        "X = []\n",
        "Fx = []\n",
        "\n",
        "# Recorremos todos los valores entre -10 a 10 con diferencia de 0.1 entre cada valor\n",
        "for x in numpy.arange(-10, 10, 0.1):\n",
        "    X.append(x)\n",
        "    x = torch.Tensor([x])\n",
        "    result = activation_function(x)\n",
        "    Fx.append(float(result)) # convert Tensor() to float(), and append it into list\n",
        "\n",
        "plt.scatter(X, Fx)\n",
        "\n",
        "plt.show()"
      ],
      "execution_count": null,
      "outputs": [
        {
          "output_type": "display_data",
          "data": {
            "text/plain": [
              "<Figure size 432x288 with 1 Axes>"
            ],
            "image/png": "[encoded data removed]"
          },
          "metadata": {
            "needs_background": "light"
          }
        }
      ]
    },
    {
      "cell_type": "markdown",
      "metadata": {
        "id": "1lUuwvU1kiBF"
      },
      "source": [
        "Ahora obtendremos el valor del gradiente (derivada) que devuelve la función de activación ReLU en su parte lineal. Para ello utilizaremos el método *backward* sobre el tensor de resultado (salida de ReLU), para iniciar la retro-propagación de los gradientes. El proceso de cálculo que hay detrás de este método, es el mismo analizado para el cálculo de gradientes mediante grafos de cómputo.\n",
        "\n",
        "**Pytorch tip:** Aquí introduciremos un nuevo tipo de dato llamado *Variable*. Esta clase es simplemente un *wrapper* para de la clase Tensor, que permite mantener en memoria los datos necesarios para el cálculo de los gradientes y la estructura del grafo de cómputo. Para ello, es necesario entregar como argumento el tensor a utilizar, y el parámetro *requires_grad* con valor True. Para efectos operativos, *Variable* se comporta exactamente igual que *Tensor*."
      ]
    },
    {
      "cell_type": "code",
      "metadata": {
        "id": "qvGh7RhVhjuJ",
        "colab": {
          "base_uri": "https://localhost:8080/"
        },
        "outputId": "9c6375ae-4a07-461a-a3f4-cdc1223ede12"
      },
      "source": [
        "from torch.autograd import Variable\n",
        "\n",
        "# Definimos el valor de entrada e indicamos que debe almacenar el gradiente\n",
        "x = Variable(torch.Tensor([2]), requires_grad=True)\n",
        "\n",
        "result = activation_function(x)\n",
        "\n",
        "# Aplicamos el paso \"backward\" para propagar los gradientes\n",
        "# grad = df/dx * dx/dx\n",
        "result.backward()\n",
        "\n",
        "print( 'Función:    %s' % (activation_function))\n",
        "print( 'Input:      %f' % (x))\n",
        "print( 'Output:     %f' % (result))\n",
        "print( 'Gradiente:  %f' % (x.grad))"
      ],
      "execution_count": null,
      "outputs": [
        {
          "output_type": "stream",
          "name": "stdout",
          "text": [
            "Función:    ReLU()\n",
            "Input:      2.000000\n",
            "Output:     2.000000\n",
            "Gradiente:  1.000000\n"
          ]
        }
      ]
    },
    {
      "cell_type": "markdown",
      "metadata": {
        "id": "buv0QZJFkzil"
      },
      "source": [
        "Finalmente vamos a graficar todos los gradientes calculados al ingresar valores entre -10 y 10, o en otras palabras, vamos a graficar la derivada de la función de activación para dicho rango."
      ]
    },
    {
      "cell_type": "code",
      "metadata": {
        "id": "10uJ1e-FyWI1",
        "cellView": "both",
        "colab": {
          "base_uri": "https://localhost:8080/",
          "height": 265
        },
        "outputId": "6b6c401c-6783-4fa3-be02-49e0f464f616"
      },
      "source": [
        "X = []\n",
        "gradiente = []\n",
        "\n",
        "# Recorremos todos los valores entre -10 a 10 con diferencia de 0.1 entre cada valor\n",
        "for x in numpy.arange(-10, 10, 0.1):\n",
        "    X.append(x)\n",
        "    x = Variable(torch.Tensor([x]), requires_grad=True)\n",
        "    result = activation_function(x)\n",
        "    result.backward()\n",
        "    gradiente.append(float(x.grad))\n",
        "    \n",
        "plt.scatter(X, gradiente)\n",
        "plt.show()"
      ],
      "execution_count": null,
      "outputs": [
        {
          "output_type": "display_data",
          "data": {
            "text/plain": [
              "<Figure size 432x288 with 1 Axes>"
            ],
            "image/png": "[encoded data removed]"
          },
          "metadata": {
            "needs_background": "light"
          }
        }
      ]
    },
    {
      "cell_type": "markdown",
      "metadata": {
        "id": "g-Y2h_iAjBqi"
      },
      "source": [
        "## Actividad 2.1"
      ]
    },
    {
      "cell_type": "markdown",
      "metadata": {
        "id": "uf4WdQllabI6"
      },
      "source": [
        "En el siguiente link: https://pytorch.org/docs/stable/nn.html#non-linear-activations-weighted-sum-nonlinearity se presenta un conjunto de funciones de activacion. Utilice la función `Sigmoid` para:\n",
        "1. Confeccionar el gráfico de la función\n",
        "2. Confeccionar el gráfico de su derivada"
      ]
    },
    {
      "cell_type": "code",
      "metadata": {
        "id": "S2GXt3Wq8Ocw"
      },
      "source": [
        "# Código para confeccionar el gráfico de la función"
      ],
      "execution_count": null,
      "outputs": []
    },
    {
      "cell_type": "code",
      "metadata": {
        "id": "PGej2Z3v34BO"
      },
      "source": [
        "# Código para confeccionar el gráfico de su derivada"
      ],
      "execution_count": null,
      "outputs": []
    },
    {
      "cell_type": "markdown",
      "metadata": {
        "id": "S_BhTrrQlLOt"
      },
      "source": [
        "## Actividad 2.2"
      ]
    },
    {
      "cell_type": "markdown",
      "metadata": {
        "id": "8M0PO03iafNn"
      },
      "source": [
        "Responda la siguiente pregunta.\n",
        "\n",
        "**1** - Entre un modelo con función de activación ReLU y otro con función de activación Sigmoidal, ¿ Cual cree usted que aprendería más rápido ?. Justifique su respuesta apoyandose en los gráficos generados anteriormente."
      ]
    },
    {
      "cell_type": "markdown",
      "metadata": {
        "id": "XwX_mI8PmYwF"
      },
      "source": [
        "**Respuesta**:"
      ]
    },
    {
      "cell_type": "markdown",
      "metadata": {
        "id": "xA8stjcfZiTX"
      },
      "source": []
    },
    {
      "cell_type": "markdown",
      "metadata": {
        "id": "ut4IuFRQpeay"
      },
      "source": [
        "Si quedaste con ganas de explorar otras funciones de activacion y visualizar sus derivadas. Recomendamos la siguiente página: https://dashee87.github.io/deep%20learning/visualising-activation-functions-in-neural-networks/"
      ]
    },
    {
      "cell_type": "markdown",
      "metadata": {
        "id": "Gch1aN5l60Yo"
      },
      "source": [
        "# **Inicialización de Pesos**"
      ]
    },
    {
      "cell_type": "markdown",
      "metadata": {
        "id": "9en6OsOx13P1"
      },
      "source": [
        "En la siguiente sección analizaremos el afecto que tiene el criterio de inicialización de pesos escogido, sobre el proceso de entrenamiento de una red neuronal profunda.\n",
        "\n",
        "Para ello, crearemos una red neuronal de 10 capas, que recibirá como entrada un vector de 2 dimensiones, y entregará a la salida un único valor. Esta red será construida sin utilizar función de activación en ninguna de sus capas, con el objetivo de medir de forma aislada el efecto de los valores iniciales de los pesos. La siguiente figura, muestra un esquema de la red neuronal diseñada:\n",
        "\n",
        "<img src=\"https://imgur.com/O9acV99.png\"/>\n",
        "\n",
        "\n"
      ]
    },
    {
      "cell_type": "markdown",
      "metadata": {
        "id": "c4DPyT3m64-w"
      },
      "source": [
        "## Experimento 1: Inicialización con valor constante"
      ]
    },
    {
      "cell_type": "markdown",
      "metadata": {
        "id": "6maURe-s8AyZ"
      },
      "source": [
        "Antes de comenzar, importaremos los paquetes necesarios para el desarrollo de esta sección. Con ellos, definiremos la función *plot_variable* que nos permitirá graficar de forma sencilla el valor de los gradientes, y la función *fit*, que implementará el loop de entrenamiento entregando como único valor de entrada el vector $[0.5, 0.5]$, para la predicción del valor 1.\n",
        "\n",
        "Por ahora, no nos enfocaremos en su implementación."
      ]
    },
    {
      "cell_type": "code",
      "metadata": {
        "id": "b2zlqCVSfNvd"
      },
      "source": [
        "import torch\n",
        "import torch.nn as nn\n",
        "import torch.optim as optim\n",
        "import matplotlib.pyplot as plt"
      ],
      "execution_count": null,
      "outputs": []
    },
    {
      "cell_type": "code",
      "metadata": {
        "id": "huMWX5-Ks3xG"
      },
      "source": [
        "def plot_variable( grads, varname ):\n",
        "  plt.figure( figsize=(9, 6) )\n",
        "  ax = plt.axes()\n",
        "  ax.set_xlabel( 'Training step' )\n",
        "  ax.set_ylabel( varname )\n",
        "  ax.plot( grads )\n",
        "  ax.update_datalim( list( zip( range(len(grads)), grads ) ) )\n",
        "  ax.autoscale()"
      ],
      "execution_count": null,
      "outputs": []
    },
    {
      "cell_type": "code",
      "metadata": {
        "id": "xmW3LNJj-HH1"
      },
      "source": [
        "def fit( model ):\n",
        "  mse_lossfunc = nn.MSELoss()\n",
        "  optimizer = optim.Adam( model.parameters(), lr = 1e-4 )\n",
        "  x = torch.Tensor( [0.5, 0.5] )\n",
        "  y = torch.Tensor( [1] )\n",
        "  gradients = list()\n",
        "  loss_seq = list()\n",
        "  for i in range( 200 ):\n",
        "    p = model( x )\n",
        "    loss_value = mse_lossfunc( p, y )\n",
        "    optimizer.zero_grad()\n",
        "    loss_value.backward()\n",
        "    optimizer.step()\n",
        "    gradients.append( model.layer_0.weight.grad[0,:] )\n",
        "    loss_seq.append( loss_value.item() )\n",
        "  gradients = torch.stack( gradients )\n",
        "  loss_seq = torch.Tensor( loss_seq )\n",
        "  plot_variable( gradients[:,0], 'Gradient' )\n",
        "  plot_variable( loss_seq, 'Loss' )"
      ],
      "execution_count": null,
      "outputs": []
    },
    {
      "cell_type": "markdown",
      "metadata": {
        "id": "QwXGMVh7FlKw"
      },
      "source": [
        "En el siguiente código hemos definido el modelo *DeepNN*. Éste implementa una red neuronal con 9 capas ocultas de 2 neuronas, y una capa de salida de 1 neurona, y sin utilizar función de activación.\n",
        "\n",
        "Cada capa es definida mediante la creación de un objeto de la clase *Linear* de torch, las cuales son almacenadas dentro de los atributos de nombre *layer_x*. Una vez creadas las 10 capas, utilizaremos la función *init.constant_* de torch para inicializar los pesos de cada capa a un valor constante, el cual es definido por un parámetro del constructor de la clase."
      ]
    },
    {
      "cell_type": "code",
      "metadata": {
        "id": "VF04nnZiFd-h"
      },
      "source": [
        "class DeepNN( nn.Module ):\n",
        "\n",
        "  def __init__( self, weights_initial_value ):\n",
        "    super( DeepNN, self ).__init__()\n",
        "    self.layer_0 = torch.nn.Linear( 2, 2 )\n",
        "    self.layer_1 = torch.nn.Linear( 2, 2 )\n",
        "    self.layer_2 = torch.nn.Linear( 2, 2 )\n",
        "    self.layer_3 = torch.nn.Linear( 2, 2 )\n",
        "    self.layer_4 = torch.nn.Linear( 2, 2 )\n",
        "    self.layer_5 = torch.nn.Linear( 2, 2 )\n",
        "    self.layer_6 = torch.nn.Linear( 2, 2 )\n",
        "    self.layer_7 = torch.nn.Linear( 2, 2 )\n",
        "    self.layer_8 = torch.nn.Linear( 2, 2 )\n",
        "    self.layer_9 = torch.nn.Linear( 2, 1 )\n",
        "    torch.nn.init.constant_( self.layer_0.weight.data, weights_initial_value )\n",
        "    torch.nn.init.constant_( self.layer_1.weight.data, weights_initial_value )\n",
        "    torch.nn.init.constant_( self.layer_2.weight.data, weights_initial_value )\n",
        "    torch.nn.init.constant_( self.layer_3.weight.data, weights_initial_value )\n",
        "    torch.nn.init.constant_( self.layer_4.weight.data, weights_initial_value )\n",
        "    torch.nn.init.constant_( self.layer_5.weight.data, weights_initial_value )\n",
        "    torch.nn.init.constant_( self.layer_6.weight.data, weights_initial_value )\n",
        "    torch.nn.init.constant_( self.layer_7.weight.data, weights_initial_value )\n",
        "    torch.nn.init.constant_( self.layer_8.weight.data, weights_initial_value )\n",
        "    torch.nn.init.constant_( self.layer_9.weight.data, weights_initial_value )\n",
        "\n",
        "  def forward( self, x ):\n",
        "    x = self.layer_0(x)\n",
        "    x = self.layer_1(x)\n",
        "    x = self.layer_2(x)\n",
        "    x = self.layer_3(x)\n",
        "    x = self.layer_4(x)\n",
        "    x = self.layer_5(x)\n",
        "    x = self.layer_6(x)\n",
        "    x = self.layer_7(x)\n",
        "    x = self.layer_8(x)\n",
        "    x = self.layer_9(x)\n",
        "    return x"
      ],
      "execution_count": null,
      "outputs": []
    },
    {
      "cell_type": "markdown",
      "metadata": {
        "id": "ZbxLQ3iZswW0"
      },
      "source": [
        "### Inicialización de pesos con valores menor a 1"
      ]
    },
    {
      "cell_type": "markdown",
      "metadata": {
        "id": "2pYMy3DbEz2D"
      },
      "source": [
        "Nuestro primer experimento consistirá en iniciazar la red con todos sus pesos con un valor menor que uno. En particular, el valor escogido es 0.1."
      ]
    },
    {
      "cell_type": "code",
      "metadata": {
        "id": "zyz7BudvtVtO"
      },
      "source": [
        "model = DeepNN( 0.1 )\n",
        "print(model.layer_0.weight.data)"
      ],
      "execution_count": null,
      "outputs": []
    },
    {
      "cell_type": "markdown",
      "metadata": {
        "id": "FH09hMfqFB_L"
      },
      "source": [
        "Ahora, veamos que pasa con los gradientes y la pérdida al entrenar el modelo."
      ]
    },
    {
      "cell_type": "code",
      "metadata": {
        "id": "xg5wqCmqkT3d"
      },
      "source": [
        "fit(model)"
      ],
      "execution_count": null,
      "outputs": []
    },
    {
      "cell_type": "markdown",
      "metadata": {
        "id": "4zzY7EAy8cV1"
      },
      "source": [
        "### Inicialización de pesos con valores mayor a 1"
      ]
    },
    {
      "cell_type": "markdown",
      "metadata": {
        "id": "QkVZs9tZGCau"
      },
      "source": [
        "En el presente experimento, inicializaremos la red con todos sus pesos con un valor mayor a 1. En particular, el valor escogido es 1.5."
      ]
    },
    {
      "cell_type": "code",
      "metadata": {
        "id": "JF9bh7JP8yzv"
      },
      "source": [
        "model = DeepNN( 1.5 )\n",
        "print(model.layer_0.weight.data)"
      ],
      "execution_count": null,
      "outputs": []
    },
    {
      "cell_type": "markdown",
      "metadata": {
        "id": "JIo7bmv-Gbw5"
      },
      "source": [
        "Ahora, veamos que pasa con los gradientes y la pérdida al entrenar el modelo."
      ]
    },
    {
      "cell_type": "code",
      "metadata": {
        "id": "HwfWefiA84ed"
      },
      "source": [
        "fit(model)"
      ],
      "execution_count": null,
      "outputs": []
    },
    {
      "cell_type": "markdown",
      "metadata": {
        "id": "aSZ6LkFc3z_D"
      },
      "source": [
        "## Actividades"
      ]
    },
    {
      "cell_type": "markdown",
      "metadata": {
        "id": "X7LBCq8zdQwP"
      },
      "source": [
        "### Actividad 3.1"
      ]
    },
    {
      "cell_type": "markdown",
      "metadata": {
        "id": "LovSBbxudVU-"
      },
      "source": [
        "Responda las siguientes preguntas"
      ]
    },
    {
      "cell_type": "markdown",
      "metadata": {
        "id": "iDwE-r3ZdYCZ"
      },
      "source": [
        "¿ Como se llama el fenómeno observado al inicializar los pesos con valores menor a 1 ?"
      ]
    },
    {
      "cell_type": "markdown",
      "metadata": {
        "id": "vEjSr1PKdff4"
      },
      "source": [
        "**Respuesta:**"
      ]
    },
    {
      "cell_type": "markdown",
      "metadata": {
        "id": "sBIojow6df7J"
      },
      "source": [
        "¿ Como se llama el fenómeno observado al inicializar los pesos con valores mayor a 1 ?"
      ]
    },
    {
      "cell_type": "markdown",
      "metadata": {
        "id": "f2HPtAwgdgTr"
      },
      "source": [
        "**Respuesta:**"
      ]
    },
    {
      "cell_type": "markdown",
      "metadata": {
        "id": "Mr6SxpSo77kn"
      },
      "source": [
        "### Actividad 3.2"
      ]
    },
    {
      "cell_type": "markdown",
      "metadata": {
        "id": "YWjmackBMb0a"
      },
      "source": [
        "Repita el ejercicio anterior, pero esta vez, incializando los pesos a través del método de Xavier Glorot.\n",
        "\n",
        "Para ello deberá re-definir el modelo y reemplazar la función de inicialización por la función *torch.nn.init.xavier_uniform_*. Para mayor detalle sobre esta función, visite el sitio: https://pytorch.org/docs/stable/_modules/torch/nn/init.html#xavier_uniform_"
      ]
    },
    {
      "cell_type": "code",
      "metadata": {
        "id": "pBX9Y7M2zamc"
      },
      "source": [
        "# Ingrese el código para el modelo de su red"
      ],
      "execution_count": null,
      "outputs": []
    },
    {
      "cell_type": "code",
      "metadata": {
        "id": "SoMicb9s9GDS"
      },
      "source": [
        "# Ingrese el código para crear una instancia de su modelo"
      ],
      "execution_count": null,
      "outputs": []
    },
    {
      "cell_type": "code",
      "metadata": {
        "id": "YQG8fViD9Gj8"
      },
      "source": [
        "# Ingrese el código que llama a la función fit, entregando su modelo como parámetro"
      ],
      "execution_count": null,
      "outputs": []
    },
    {
      "cell_type": "markdown",
      "metadata": {
        "id": "zciF2l1zNXta"
      },
      "source": [
        "¿ Qué efecto puede ver de la aplicación de este nuevo método de inicialización de pesos ?"
      ]
    },
    {
      "cell_type": "markdown",
      "metadata": {
        "id": "yxGAtUFiNvhD"
      },
      "source": [
        "**Respuesta:**"
      ]
    },
    {
      "cell_type": "markdown",
      "metadata": {
        "id": "7Wr0XSPvNo8W"
      },
      "source": [
        "¿ A que se deben los efectos observados ?"
      ]
    },
    {
      "cell_type": "markdown",
      "metadata": {
        "id": "4YczgDKDNtLp"
      },
      "source": [
        "**Respuesta:**"
      ]
    }
  ]
}